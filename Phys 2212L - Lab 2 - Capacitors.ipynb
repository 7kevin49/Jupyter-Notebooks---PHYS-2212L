{
 "cells": [
  {
   "cell_type": "markdown",
   "metadata": {},
   "source": [
    "# PHYS 2212L - Principles of Physics Laboratory II\n",
    "### Laboratory Advanced Sheet\n",
    "### Capacitors"
   ]
  },
  {
   "cell_type": "markdown",
   "metadata": {
    "collapsed": true
   },
   "source": [
    "**Objectives**. The objectives of this laboratory are\n",
    "* to verify the functional dependence of capacitance on plate spacing for a parallel plate capacitor, and\n",
    "* to measure the dielectric constant of paper."
   ]
  },
  {
   "cell_type": "markdown",
   "metadata": {},
   "source": [
    "**Theory**.\n",
    "* The capacitance of a parallel plate capacitor with no material between its plates is given by\n",
    "\n",
    ">\\begin{equation}\\tag{1}\n",
    "C_0 = \\epsilon \\dfrac{A}{d}\n",
    "\\end{equation}\n",
    "\n",
    ">where\n",
    ">>$C_0$ is the capacitance without any material between its plates,$\\epsilon_0$ is the permittivity of free space (8.8542 x 10^{-12} $C^2/(N m^2)$, $A$ is the surface area of a plate of the capacitor, and $d$ is the separation distance between the plates.\n",
    "\n",
    "* The capacitance of a parallel plate capacitor with a dielectric material filling the region between its plates is given by\n",
    "\n",
    ">\\begin{equation}\\tag{2}\n",
    "C = \\kappa C_0 = \\kappa \\epsilon \\dfrac{A}{d}\n",
    "\\end{equation}\n",
    "\n",
    ">where\n",
    ">>$\\kappa$ is the dielectric constant for the material.\n",
    "\n",
    "* In this experiment the plate area, A, is constant, while the plate separation distance, d, will be varied by inserting different thicknesses of dielectric material between the plates. From these measurements of A and d, the capacitance without dielectric present, $C_0$, can be calculated from equation 1. The capacitance, C, for each thickness will be measured. To accomplish the objectives of the experiment, two graphs will be constructed:\n",
    "    1. A graph of capacitance, C, versus the reciprocal of the plate spacing, 1/d, should be a straight line (objective 1a).\n",
    "    2. A graph of the capacitance with dielectric, C, versus capacitance with without dielectric, $C_0$, should be linear and have a slope of $\\kappa$, the dielectric constant (objective 1b)."
   ]
  },
  {
   "cell_type": "markdown",
   "metadata": {},
   "source": [
    "**Apparatus and experimental procedures**.\n",
    "* Equipment.\n",
    "    1. Parallel plate capacitor with leads.\n",
    "    2. Card stock paper.\n",
    "    3. Clothes pins.\n",
    "    4. Multimeter.\n",
    "    5. Micrometer and vernier caliper.\n",
    "    6. Ruler\n",
    "* Experimental setup. To be provided by the student.\n",
    "* Capabilities. To be provided by the student.\n",
    "* Procedures. Detailed instructions are provided in paragraph 4 below."
   ]
  },
  {
   "cell_type": "markdown",
   "metadata": {},
   "source": [
    "**Requirements**.\n",
    "* In the laboratory.\n",
    "    1. Your instructor will introduce you to the equipment to be used in the experiment.\n",
    "    2. Measurements to determine the plate area and thickness of a single sheet of the card stock will be made.\n",
    "    3. Measurements of capacitance versus plate separation will made.\n",
    "    4. Your instructor will discuss methods to be used to prepare your data for plotting using the Microsoft ExcelTM spreadsheet program.\n",
    "* After the laboratory. The items listed below will be turned in at the beginning of the next laboratory period."
   ]
  },
  {
   "cell_type": "markdown",
   "metadata": {},
   "source": [
    "**Para 3. Apparatus and experimental procedures**.\n",
    "1. Provide a figure of the experimental apparatus (para 3b).\n",
    "2. Provide descriptions of the capabilities of equipment used in the experiment (para 3c).\n",
    "\n",
    "**Para 4. Data**. Data tables are included at Annex A for recording measurements taken in the laboratory. A copy of these tables must be included with the lab report. Provide the items listed below in your report in the form a Microsoft ExcelTM spreadsheet showing data, calculations and graphs. The spreadsheet will include:\n",
    "1. Plate dimensions and calculated plate area.\n",
    "2. Paper thickness measurements and calculation of the thickness of a single sheet.\n",
    "3. Multimeter zero reading.\n",
    "4. A table with columns for number of sheets of paper, measured capacitance, and calculations for plate separation distance, reciprocal of plate separation distance, theoretical capacitance without dielectric present, and measured capacitance corrected for multimeter zero reading.\n",
    "5. Graphs of\n",
    "     1. Measured capacitance corrected for multimeter zero reading versus reciprocal of plate separation distance showing data points and regression (trend) line.\n",
    "    2. Measured capacitance corrected for multimeter zero reading versus theoretical capacitance without dielectric present showing data points and regression (trend) line.\n",
    "6. Linear regression for the measured capacitance corrected for multimeter zero reading versus theoretical capacitance without dielectric present.\n",
    "\n",
    "**Results and Conclusions**.\n",
    "* **Results**.\n",
    "    1. A statement regarding the agreement or disagreement between the predicted and measured dependence of capacitance on plate separation distance for a parallel plate capacitor.\n",
    "    2. A statement of the measured value for the dielectric constant of paper and its uncertainty.\n",
    "\n",
    "* **Conclusions**.\n",
    "    1. An assessment of the accuracy and precision of your experiment. Use the value for the dielectric constant of paper given in your text for comparison purposes. Do not calculate a percent discrepancy. The actual value of the dielectric constant depends on the specific type of paper being considered.\n",
    "    2. Description of the sources of random and systematic error in the experiment."
   ]
  },
  {
   "cell_type": "markdown",
   "metadata": {
    "collapsed": true
   },
   "source": [
    "___"
   ]
  },
  {
   "cell_type": "markdown",
   "metadata": {},
   "source": [
    "<h3 align='center'> Annex A </h3>\n",
    "<h3 align='center'> Data Tables </h3>"
   ]
  },
  {
   "cell_type": "code",
   "execution_count": 2,
   "metadata": {
    "collapsed": true
   },
   "outputs": [],
   "source": [
    "class ListTable(list):\n",
    "    \"\"\" Overridden list class which takes a 2-dimensional list of \n",
    "        the form [[1,2,3],[4,5,6]], and renders an HTML Table in \n",
    "        IPython Notebook. \"\"\"\n",
    "    \n",
    "    def _repr_html_(self):\n",
    "        html = [\"<table>\"]\n",
    "        for row in self:\n",
    "            html.append(\"<tr>\")\n",
    "            \n",
    "            for col in row:\n",
    "                html.append(\"<td>{0}</td>\".format(col))\n",
    "            \n",
    "            html.append(\"</tr>\")\n",
    "        html.append(\"</table>\")\n",
    "        return ''.join(html)"
   ]
  },
  {
   "cell_type": "markdown",
   "metadata": {},
   "source": [
    "#### 1) Plate dimensions."
   ]
  },
  {
   "cell_type": "code",
   "execution_count": 1,
   "metadata": {
    "collapsed": false
   },
   "outputs": [
    {
     "ename": "SyntaxError",
     "evalue": "invalid syntax (<ipython-input-1-e133af40b625>, line 1)",
     "output_type": "error",
     "traceback": [
      "\u001b[1;36m  File \u001b[1;32m\"<ipython-input-1-e133af40b625>\"\u001b[1;36m, line \u001b[1;32m1\u001b[0m\n\u001b[1;33m    l =  # length of plate (in cm)\u001b[0m\n\u001b[1;37m                                  ^\u001b[0m\n\u001b[1;31mSyntaxError\u001b[0m\u001b[1;31m:\u001b[0m invalid syntax\n"
     ]
    }
   ],
   "source": [
    "l =  # length of plate (in cm)\n",
    "w =  # width of plate (in cm)\n",
    "\n",
    "table = ListTable()\n",
    "table.append(['dimension','measurement (cm)'])\n",
    "table.append(['length',l])\n",
    "table.append(['length',w])\n",
    "table"
   ]
  },
  {
   "cell_type": "markdown",
   "metadata": {},
   "source": [
    "#### 2) Paper thickness."
   ]
  },
  {
   "cell_type": "code",
   "execution_count": 3,
   "metadata": {
    "collapsed": false
   },
   "outputs": [
    {
     "ename": "SyntaxError",
     "evalue": "invalid syntax (<ipython-input-3-7facf1ac7b39>, line 1)",
     "output_type": "error",
     "traceback": [
      "\u001b[1;36m  File \u001b[1;32m\"<ipython-input-3-7facf1ac7b39>\"\u001b[1;36m, line \u001b[1;32m1\u001b[0m\n\u001b[1;33m    num_sheets =  # number of sheets in stack\u001b[0m\n\u001b[1;37m                                             ^\u001b[0m\n\u001b[1;31mSyntaxError\u001b[0m\u001b[1;31m:\u001b[0m invalid syntax\n"
     ]
    }
   ],
   "source": [
    "num_sheets =  # number of sheets in stack\n",
    "thick_st =  # thickness of stack\n",
    "\n",
    "table = ListTable()\n",
    "table.append(['item',\n",
    "              'measurement'])\n",
    "table.append(['number of sheets in stack',\n",
    "              num_sheets])\n",
    "table.append(['thickness of stack',\n",
    "              thick_st])\n",
    "table"
   ]
  },
  {
   "cell_type": "markdown",
   "metadata": {},
   "source": [
    "#### 3) Multimeter zero reading."
   ]
  },
  {
   "cell_type": "code",
   "execution_count": 4,
   "metadata": {
    "collapsed": false
   },
   "outputs": [
    {
     "ename": "SyntaxError",
     "evalue": "invalid syntax (<ipython-input-4-94be1116e799>, line 1)",
     "output_type": "error",
     "traceback": [
      "\u001b[1;36m  File \u001b[1;32m\"<ipython-input-4-94be1116e799>\"\u001b[1;36m, line \u001b[1;32m1\u001b[0m\n\u001b[1;33m    mult_zero =  # in nF\u001b[0m\n\u001b[1;37m                        ^\u001b[0m\n\u001b[1;31mSyntaxError\u001b[0m\u001b[1;31m:\u001b[0m invalid syntax\n"
     ]
    }
   ],
   "source": [
    "mult_zero =  # in nF"
   ]
  },
  {
   "cell_type": "markdown",
   "metadata": {},
   "source": [
    "#### 4) Capacitance versus number of sheets of paper."
   ]
  },
  {
   "cell_type": "code",
   "execution_count": 5,
   "metadata": {
    "collapsed": false
   },
   "outputs": [
    {
     "ename": "SyntaxError",
     "evalue": "invalid syntax (<ipython-input-5-62ffc902b6b4>, line 1)",
     "output_type": "error",
     "traceback": [
      "\u001b[1;36m  File \u001b[1;32m\"<ipython-input-5-62ffc902b6b4>\"\u001b[1;36m, line \u001b[1;32m1\u001b[0m\n\u001b[1;33m    cap_sheet_dict = {6:,\u001b[0m\n\u001b[1;37m                        ^\u001b[0m\n\u001b[1;31mSyntaxError\u001b[0m\u001b[1;31m:\u001b[0m invalid syntax\n"
     ]
    }
   ],
   "source": [
    "cap_sheet_dict = {6:,\n",
    "                  8:,\n",
    "                  10:,\n",
    "                  12:,\n",
    "                  14:,\n",
    "                  16:,\n",
    "                  18:,\n",
    "                  20:,\n",
    "                  22:,\n",
    "                  24:,\n",
    "                  26:,\n",
    "                  28:,\n",
    "                  30:}\n",
    "\n",
    "table = ListTable()\n",
    "table.append(['# of sheets of paper',\n",
    "              'capacitance (nF) (uncorrected for zero)'])\n",
    "for item in cap_sheet_dict:\n",
    "    table.append([item,\n",
    "                  cap_sheet_dict[item]])\n",
    "table"
   ]
  },
  {
   "cell_type": "markdown",
   "metadata": {},
   "source": [
    "___\n",
    "___"
   ]
  },
  {
   "cell_type": "code",
   "execution_count": null,
   "metadata": {
    "collapsed": true
   },
   "outputs": [],
   "source": []
  }
 ],
 "metadata": {
  "kernelspec": {
   "display_name": "Python 3",
   "language": "python",
   "name": "python3"
  },
  "language_info": {
   "codemirror_mode": {
    "name": "ipython",
    "version": 3
   },
   "file_extension": ".py",
   "mimetype": "text/x-python",
   "name": "python",
   "nbconvert_exporter": "python",
   "pygments_lexer": "ipython3",
   "version": "3.4.3"
  }
 },
 "nbformat": 4,
 "nbformat_minor": 0
}
