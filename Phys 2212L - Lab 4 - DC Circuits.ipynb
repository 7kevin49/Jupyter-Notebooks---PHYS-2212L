{
 "cells": [
  {
   "cell_type": "markdown",
   "metadata": {},
   "source": [
    "# PHYS 2212L - Principles of Physics Laboratory II\n",
    "### Laboratory Advanced Sheet\n",
    "### DC Circuits"
   ]
  },
  {
   "cell_type": "markdown",
   "metadata": {
    "collapsed": true
   },
   "source": [
    "**Objectives**. The objectives of this laboratory are\n",
    "* to be able to construct dc circuits given a circuit diagram and circuit components.\n",
    "* to test the relationships for potential differences in series and parallel combinations of resistors.\n",
    "* to be able to use Kirchhoff's rules to analyze dc circuits."
   ]
  },
  {
   "cell_type": "markdown",
   "metadata": {},
   "source": [
    "**Theory**.\n",
    "* The relationships for equivalent resistance for series and parallel combinations of resistors in a circuit with emf applied are given by the following equations:\n",
    "    1. For a series combination of resistors, the current in each resistor is the same,\n",
    "$$I = I_1 = I_2 = I_3 = \\dotsb$$\n",
    "and the sum of the potential drops across the resistor are equal to the emf of the voltage source,\n",
    "$$\\epsilon = \\Delta V_1 + \\Delta V_2 + \\Delta V_3 + \\dotsb$$\n",
    "    2. For parallel combination of resistors, the potential difference across each resistor is the same and equal to the emf provided by the voltage source,\n",
    "$$\\epsilon = \\Delta V_1= \\Delta V_2 = \\Delta V_3 = \\dotsb$$\n",
    "\n",
    "* Kirchhoff's rules for the analysis of multiloop circuits are\n",
    "    1. The sum of the currents entering any circuit junction is equal to the sum of the currents leaving the junction.\n",
    "    2. The algebraic sum of the changes in potential across all elements around any closed circuit loop is equal to zero.\n",
    "\n",
    "* Application of the second rule implies the following conventions:\n",
    "    1. If an emf is traversed in the direction from minus (-) to plus (+) the change in potential is positive.\n",
    "$$\\Delta V = +\\epsilon$$\n",
    "    2. If an emf is traversed in the direction from plus (+) to minus (-) the change in potential is negative.\n",
    "$$\\Delta V = -\\epsilon$$\n",
    "    3. If a resistor is traversed in the direction of the current, the change in potential is negative.\n",
    "$$\\Delta V = -IR$$\n",
    "    4. If a resistor is traversed in a direction opposite that of the current, the change in potential is positive.\n",
    "$$\\Delta V = +IR$$\n",
    "\n",
    "* Using Kirchhoff's rules, a set of simultaneous linear equations is produced. This set of equations is then solved for the assumed currents.\n",
    "\n",
    "* In this experiment,\n",
    "    1. dc circuits will be constructed from circuit diagrams that provide nominal values of resistances and emfs.\n",
    "    2. Measurements of the resistances and emfs actually used in the dc circuit will be made, as will measurements of the potential drops across each resistor in the circuit.\n",
    "    3. For the series and parallel combinations of resistors, measurements of emfs and potential differences will be made and compared to verify the potential difference relationships described in paragraphs 2a1) and 2) above.\n",
    "    4. Kirchhoff's rules will be used with the actual values of the resistances and emfs to calculate the predicted values of currents in the loops of two circuits. The predicted currents and measured resistances will be used to calculate the predicted values for the potential drops across each resistor in each circuit. The predicted and measured potential drops across each of the resistors of each circuit will be compared to allow verification of Kirchhoff's rules."
   ]
  },
  {
   "cell_type": "markdown",
   "metadata": {},
   "source": [
    "**Apparatus and experimental procedures**.\n",
    "* Equipment.\n",
    "    1. Variety of resistors.\n",
    "    2. Breadboard and connecting wires.\n",
    "    3. Multimeter.\n",
    "    4. Power amplifiers (2)\n",
    "    5. Computer interfaces (2)\n",
    "    6. Computers (2).\n",
    "* Experimental setup. A figure for the experimental setup (four circuit diagrams) will be provided by the student.\n",
    "* Capabilities. Capabilities of the equipment items listed in paragraph 3a will be provided by the student.\n",
    "* Procedures. Detailed instructions are provided in paragraph 4 below."
   ]
  },
  {
   "cell_type": "markdown",
   "metadata": {},
   "source": [
    "**Requirements**.\n",
    "* In the laboratory.\n",
    "    1. Your instructor will introduce you to the equipment to be used in the experiment.\n",
    "    2. Your instructor will provide your lab group four circuit diagrams for this laboratory experiment. Circuit diagrams for the lab are also available in Annex B.\n",
    "    3. Before you begin work on a particular circuit, measure and record the actual resistances of the resistors and emf(s) specified in your circuit diagrams. Each lab group will have its own set of resistors for the first three sets of measurements. Three groups will combine their resistor sets for the fourth circuit.\n",
    "    4. Construct the series circuit. Do not turn on the power amplifier until your instructor has verified that you have correctly constructed the circuit.\n",
    "    5. Turn on the power amplifier and use the computer to set its output voltage to that required in your circuit diagram. Record this value.\n",
    "    6. Measure and record the potential drops across each of the resistors in your circuit. Be careful to note the polarity of the measured potential differences across the resistors.\n",
    "    7. Use these results to test if\n",
    "$$\\epsilon = \\Delta V_1 + \\Delta V_2 + \\Delta V_3 + \\dotsb$$\n",
    "    8. Construct the parallel circuit. Do not turn on the power amplifier until your instructor has verified that you have correctly constructed the circuit.\n",
    "    9. Turn on the power amplifier and use the computer to set its output voltage to that required in your circuit diagram. Record this value.\n",
    "    10. Measure and record the potential drops across each of the resistors in your circuit. Be careful to note the polarity of the measured potential differences across the resistors.\n",
    "    11. Use these results to test if\n",
    "$$\\epsilon = \\Delta V_1 = \\Delta V_2 = \\Delta V_3 = \\dotsb$$\n",
    "    12. Construct the two loop circuit for the test of Kirchhoff's rules. Do not turn on the power amplifiers (you will need to use two computers, interfaces and power amplifiers for this circuit) until your instructor has verified that you have correctly constructed the circuit.\n",
    "    13. Turn on the power amplifiers and use the computers to set their output voltages to that required in your circuit diagram. Record these values.\n",
    "    14. Measure and record the potential drops across each of the resistors in your circuit. Be careful to note the polarity of the measured potential differences across the resistors.\n",
    "    15. Use Kirchhoff's rules with the measured emfs and resistances to calculate the predicted values of the currents in the loops of the circuit.\n",
    "    16. Use the predicted values of the currents to calculate the predicted potential drops across each resistor. Compare the predicted and measured potential differences across the resistors to verify Kirchhoff's rules.\n",
    "    17. Combine the resistors from three students and construct the four loop circuit to test Kirchhoff's rules. Do not turn on the power amplifiers (you will need to use two computers, interfaces and power amplifiers for this circuit) until your instructor has verified that you have correctly constructed the circuit. Repeat steps 13 -16 for this circuit.\n",
    "    18. Your instructor will discuss methods to solve sets of simultaneous linear equations.\n",
    "    \n",
    "* After the laboratory. The items listed below will be turned in at the beginning of the next laboratory period. A complete laboratory report is not required for this experiment."
   ]
  },
  {
   "cell_type": "markdown",
   "metadata": {},
   "source": [
    "**Para 3. Apparatus and experimental procedures**.\n",
    "1. Provide figures of the four circuits that include the measured values for the emfs and resistances (para 3b).\n",
    "2. Provide descriptions of the capabilities of equipment used in the experiment (para 3c).\n",
    "\n",
    "**Para 4. Data**. Data tables are included at Annex A for recording measurements taken in the laboratory. A copy of these tables must be included with the lab report. Provide the items listed below in your report in the form a Microsoft ExcelTM spreadsheet showing data and calculations. The spreadsheet will include:\n",
    "1. A table of circuit data from the four sets of measurements.\n",
    "2. The values of the measured potential drops across each resistor in each circuit.\n",
    "3. Calculations to check the agreement of the measurements to the relationships for emfs and potential differences in series and parallel circuits.\n",
    "4. Calculations of the predicted current in each loop of the Kirchhoff's rules circuits.\n",
    "5. Calculations of the predicted potential drops across each resistor of the Kirchhoff's rules circuits.\n",
    "6. Calculations of the percent discrepancy between the measured and predicted values of the potential drops across each resistor of the Kirchhoff's rules circuits.\n",
    "\n",
    "**Para 5. Results and Conclusions**.\n",
    "* **Results**.\n",
    "    1. A statement regarding the verification of the relationship between emf and potential difference across the resistors in a series circuit.\n",
    "    2. A statement regarding the verification of the relationship between emf and potential difference across the resistors in a parallel circuit.\n",
    "    3. Tables providing a summary of the measured and predicted values of the potential drops across the resistors in the Kirchhoff's rules circuits.\n",
    "    4. A statement regarding the verification of Kirchhoff's rules for the dc circuits used in this experiment.\n",
    "\n",
    "* **Conclusions**.\n",
    "    1. Description of the sources of systematic error in the experiment.\n",
    "    2. Description of the sources of random error in the experiment."
   ]
  },
  {
   "cell_type": "markdown",
   "metadata": {
    "collapsed": true
   },
   "source": [
    "___"
   ]
  },
  {
   "cell_type": "markdown",
   "metadata": {},
   "source": [
    "<h3 align='center'> Annex A </h3>\n",
    "<h3 align='center'> Data </h3>"
   ]
  },
  {
   "cell_type": "code",
   "execution_count": 1,
   "metadata": {
    "collapsed": true
   },
   "outputs": [],
   "source": [
    "class ListTable(list):\n",
    "    \"\"\" Overridden list class which takes a 2-dimensional list of \n",
    "        the form [[1,2,3],[4,5,6]], and renders an HTML Table in \n",
    "        IPython Notebook. \"\"\"\n",
    "    \n",
    "    def _repr_html_(self):\n",
    "        html = [\"<table>\"]\n",
    "        for row in self:\n",
    "            html.append(\"<tr>\")\n",
    "            \n",
    "            for col in row:\n",
    "                html.append(\"<td>{0}</td>\".format(col))\n",
    "            \n",
    "            html.append(\"</tr>\")\n",
    "        html.append(\"</table>\")\n",
    "        return ''.join(html)"
   ]
  },
  {
   "cell_type": "code",
   "execution_count": 2,
   "metadata": {
    "collapsed": true
   },
   "outputs": [],
   "source": [
    "import collections"
   ]
  },
  {
   "cell_type": "markdown",
   "metadata": {},
   "source": [
    "#### 1) Series circuit."
   ]
  },
  {
   "cell_type": "code",
   "execution_count": 3,
   "metadata": {
    "collapsed": true
   },
   "outputs": [],
   "source": [
    "# Circuit Diagram"
   ]
  },
  {
   "cell_type": "markdown",
   "metadata": {},
   "source": [
    "![Circuit diagram](image url 'Diagram of series circuit')"
   ]
  },
  {
   "cell_type": "code",
   "execution_count": 13,
   "metadata": {
    "collapsed": false
   },
   "outputs": [
    {
     "ename": "IndexError",
     "evalue": "list index out of range",
     "output_type": "error",
     "traceback": [
      "\u001b[1;31m---------------------------------------------------------------------------\u001b[0m",
      "\u001b[1;31mIndexError\u001b[0m                                Traceback (most recent call last)",
      "\u001b[1;32m<ipython-input-13-b97f788d490f>\u001b[0m in \u001b[0;36m<module>\u001b[1;34m()\u001b[0m\n\u001b[0;32m     18\u001b[0m         \u001b[0munit\u001b[0m \u001b[1;33m=\u001b[0m \u001b[1;34m'$\\Omega$'\u001b[0m\u001b[1;33m\u001b[0m\u001b[0m\n\u001b[0;32m     19\u001b[0m     table.append([item,\n\u001b[1;32m---> 20\u001b[1;33m                   \u001b[0mcirc_OrdDict\u001b[0m\u001b[1;33m[\u001b[0m\u001b[0mitem\u001b[0m\u001b[1;33m]\u001b[0m\u001b[1;33m[\u001b[0m\u001b[1;36m0\u001b[0m\u001b[1;33m]\u001b[0m\u001b[1;33m,\u001b[0m\u001b[1;33m\u001b[0m\u001b[0m\n\u001b[0m\u001b[0;32m     21\u001b[0m                   \u001b[0mcirc_OrdDict\u001b[0m\u001b[1;33m[\u001b[0m\u001b[0mitem\u001b[0m\u001b[1;33m]\u001b[0m\u001b[1;33m[\u001b[0m\u001b[1;36m1\u001b[0m\u001b[1;33m]\u001b[0m\u001b[1;33m,\u001b[0m\u001b[1;33m\u001b[0m\u001b[0m\n\u001b[0;32m     22\u001b[0m                   unit])\n",
      "\u001b[1;31mIndexError\u001b[0m: list index out of range"
     ]
    }
   ],
   "source": [
    "# Circuit elements.\n",
    "\n",
    "circ_tuple = (('$\\epsilon$',[,]),\n",
    "              ('$R_1$',[,]),\n",
    "              ('$R_2$',[,]),\n",
    "              ('$R_3$',[,]))\n",
    "'''circ_tuple = (('circuit element',[nominal value,measured value]),...)'''\n",
    "\n",
    "circ_OrdDict = collections.OrderedDict(circ_tuple)\n",
    "\n",
    "table = ListTable()\n",
    "table.append(['circuit element','nominal value','measured value','units'])\n",
    "for item in circ_OrdDict:\n",
    "    if list(circ_OrdDict.keys()).index(item) == 0:\n",
    "        unit = 'V'\n",
    "    else:\n",
    "        unit = '$\\Omega$'\n",
    "    table.append([item,\n",
    "                  circ_OrdDict[item][0],\n",
    "                  circ_OrdDict[item][1],\n",
    "                  unit])\n",
    "table"
   ]
  },
  {
   "cell_type": "code",
   "execution_count": 34,
   "metadata": {
    "collapsed": false
   },
   "outputs": [
    {
     "data": {
      "text/html": [
       "<table><tr><td>resistor</td><td>potential drop (V)</td></tr><tr><td>$R_1$</td><td>1</td></tr><tr><td>$R_2$</td><td>2</td></tr><tr><td>$R_3$</td><td>3</td></tr></table>"
      ],
      "text/plain": [
       "[['resistor', 'potential drop (V)'], ['$R_1$', 1], ['$R_2$', 2], ['$R_3$', 3]]"
      ]
     },
     "execution_count": 34,
     "metadata": {},
     "output_type": "execute_result"
    }
   ],
   "source": [
    "# Measured potential drops across resistors.\n",
    "\n",
    "volt_tuple = (('$R_1$',),\n",
    "              ('$R_2$',),\n",
    "              ('$R_3$',))\n",
    "\n",
    "volt_OrdDict = collections.OrderedDict(volt_tuple)\n",
    "\n",
    "table = ListTable()\n",
    "table.append(['resistor','potential drop (V)'])\n",
    "for item in volt_OrdDict:\n",
    "    table.append([item,\n",
    "                  volt_OrdDict[item]])\n",
    "table"
   ]
  },
  {
   "cell_type": "markdown",
   "metadata": {},
   "source": [
    "#### 2) Parallel circuit."
   ]
  },
  {
   "cell_type": "code",
   "execution_count": null,
   "metadata": {
    "collapsed": true
   },
   "outputs": [],
   "source": [
    "# Circuit diagram."
   ]
  },
  {
   "cell_type": "markdown",
   "metadata": {
    "collapsed": true
   },
   "source": [
    "![Circuit diagram](image url 'Diagram of parallel circuit')"
   ]
  },
  {
   "cell_type": "code",
   "execution_count": null,
   "metadata": {
    "collapsed": true
   },
   "outputs": [],
   "source": [
    "# Circuit elements.\n",
    "\n",
    "circ_tuple = (('$\\epsilon$',[,]),\n",
    "              ('$R_1$',[,]),\n",
    "              ('$R_2$',[,]),\n",
    "              ('$R_3$',[,]))\n",
    "'''circ_tuple = (('circuit element',[nominal value,measured value]),...)'''\n",
    "\n",
    "circ_OrdDict = collections.OrderedDict(circ_tuple)\n",
    "\n",
    "table = ListTable()\n",
    "table.append(['circuit element','nominal value','measured value','units'])\n",
    "for item in circ_OrdDict:\n",
    "    if list(circ_OrdDict.keys()).index(item) == 0:\n",
    "        unit = 'V'\n",
    "    else:\n",
    "        unit = '$\\Omega$'\n",
    "    table.append([item,\n",
    "                  circ_OrdDict[item][0],\n",
    "                  circ_OrdDict[item][1],\n",
    "                  unit])\n",
    "table"
   ]
  },
  {
   "cell_type": "code",
   "execution_count": null,
   "metadata": {
    "collapsed": true
   },
   "outputs": [],
   "source": [
    "# Measured potential drops across resistors.\n",
    "\n",
    "volt_tuple = (('$R_1$',),\n",
    "              ('$R_2$',),\n",
    "              ('$R_3$',))\n",
    "\n",
    "volt_OrdDict = collections.OrderedDict(volt_tuple)\n",
    "\n",
    "table = ListTable()\n",
    "table.append(['resistor','potential drop (V)'])\n",
    "for item in volt_OrdDict:\n",
    "    table.append([item,\n",
    "                  volt_OrdDict[item]])\n",
    "table"
   ]
  },
  {
   "cell_type": "markdown",
   "metadata": {},
   "source": [
    "#### 3) Kirchoff's rules circuit #1."
   ]
  },
  {
   "cell_type": "code",
   "execution_count": null,
   "metadata": {
    "collapsed": true
   },
   "outputs": [],
   "source": [
    "# Circuit diagram."
   ]
  },
  {
   "cell_type": "markdown",
   "metadata": {},
   "source": [
    "![Circuit diagram](image url 'Diagram of Kirchoff's circuit 1')"
   ]
  },
  {
   "cell_type": "code",
   "execution_count": 39,
   "metadata": {
    "collapsed": false
   },
   "outputs": [
    {
     "data": {
      "text/html": [
       "<table><tr><td>circuit element</td><td>nominal value</td><td>measured value</td><td>units</td></tr><tr><td>$\\epsilon_1$</td><td>1</td><td>2</td><td>V</td></tr><tr><td>$\\epsilon_2$</td><td>1</td><td>2</td><td>V</td></tr><tr><td>$R_1$</td><td>1</td><td>2</td><td>$\\Omega$</td></tr><tr><td>$R_2$</td><td>1</td><td>2</td><td>$\\Omega$</td></tr><tr><td>$R_3$</td><td>1</td><td>2</td><td>$\\Omega$</td></tr></table>"
      ],
      "text/plain": [
       "[['circuit element', 'nominal value', 'measured value', 'units'],\n",
       " ['$\\\\epsilon_1$', 1, 2, 'V'],\n",
       " ['$\\\\epsilon_2$', 1, 2, 'V'],\n",
       " ['$R_1$', 1, 2, '$\\\\Omega$'],\n",
       " ['$R_2$', 1, 2, '$\\\\Omega$'],\n",
       " ['$R_3$', 1, 2, '$\\\\Omega$']]"
      ]
     },
     "execution_count": 39,
     "metadata": {},
     "output_type": "execute_result"
    }
   ],
   "source": [
    "# Circuit elements.\n",
    "\n",
    "circ_tuple = (('$\\epsilon_1$',[,]),\n",
    "              ('$\\epsilon_2$',[,]),\n",
    "              ('$R_1$',[,]),\n",
    "              ('$R_2$',[,]),\n",
    "              ('$R_3$',[,]))\n",
    "'''circ_tuple = (('circuit element',[nominal value,measured value]),...)'''\n",
    "\n",
    "circ_OrdDict = collections.OrderedDict(circ_tuple)\n",
    "\n",
    "table = ListTable()\n",
    "table.append(['circuit element','nominal value','measured value','units'])\n",
    "for item in circ_OrdDict:\n",
    "    if list(circ_OrdDict.keys()).index(item) < 2:\n",
    "        unit = 'V'\n",
    "    else:\n",
    "        unit = '$\\Omega$'\n",
    "    table.append([item,\n",
    "                  circ_OrdDict[item][0],\n",
    "                  circ_OrdDict[item][1],\n",
    "                  unit])\n",
    "table"
   ]
  },
  {
   "cell_type": "code",
   "execution_count": null,
   "metadata": {
    "collapsed": true
   },
   "outputs": [],
   "source": [
    "# Measured potential drops across resistors.\n",
    "\n",
    "volt_tuple = (('$R_1$',),\n",
    "              ('$R_2$',),\n",
    "              ('$R_3$',))\n",
    "\n",
    "volt_OrdDict = collections.OrderedDict(volt_tuple)\n",
    "\n",
    "table = ListTable()\n",
    "table.append(['resistor','potential drop (V)'])\n",
    "for item in volt_OrdDict:\n",
    "    table.append([item,\n",
    "                  volt_OrdDict[item]])\n",
    "table"
   ]
  },
  {
   "cell_type": "markdown",
   "metadata": {},
   "source": [
    "#### 4) Kirchoff's rules circuit #2.'"
   ]
  },
  {
   "cell_type": "code",
   "execution_count": 35,
   "metadata": {
    "collapsed": true
   },
   "outputs": [],
   "source": [
    "# Circuit diagram."
   ]
  },
  {
   "cell_type": "markdown",
   "metadata": {},
   "source": [
    "![Circuit diagram](image url 'Diagram of Kirchoff's circuit 2')"
   ]
  },
  {
   "cell_type": "code",
   "execution_count": 43,
   "metadata": {
    "collapsed": false
   },
   "outputs": [
    {
     "data": {
      "text/html": [
       "<table><tr><td>circuit element</td><td>nominal value</td><td>measured value</td><td>units</td></tr><tr><td>$\\epsilon_1$</td><td>1</td><td>2</td><td>V</td></tr><tr><td>$\\epsilon_2$</td><td>1</td><td>2</td><td>V</td></tr><tr><td>$R_1$</td><td>1</td><td>2</td><td>$\\Omega$</td></tr><tr><td>$R_2$</td><td>1</td><td>2</td><td>$\\Omega$</td></tr><tr><td>$R_3$</td><td>1</td><td>2</td><td>$\\Omega$</td></tr><tr><td>$R_4$</td><td>1</td><td>2</td><td>$\\Omega$</td></tr><tr><td>$R_5$</td><td>1</td><td>2</td><td>$\\Omega$</td></tr><tr><td>$R_6$</td><td>1</td><td>2</td><td>$\\Omega$</td></tr><tr><td>$R_7$</td><td>1</td><td>2</td><td>$\\Omega$</td></tr><tr><td>$R_8$</td><td>1</td><td>2</td><td>$\\Omega$</td></tr></table>"
      ],
      "text/plain": [
       "[['circuit element', 'nominal value', 'measured value', 'units'],\n",
       " ['$\\\\epsilon_1$', 1, 2, 'V'],\n",
       " ['$\\\\epsilon_2$', 1, 2, 'V'],\n",
       " ['$R_1$', 1, 2, '$\\\\Omega$'],\n",
       " ['$R_2$', 1, 2, '$\\\\Omega$'],\n",
       " ['$R_3$', 1, 2, '$\\\\Omega$'],\n",
       " ['$R_4$', 1, 2, '$\\\\Omega$'],\n",
       " ['$R_5$', 1, 2, '$\\\\Omega$'],\n",
       " ['$R_6$', 1, 2, '$\\\\Omega$'],\n",
       " ['$R_7$', 1, 2, '$\\\\Omega$'],\n",
       " ['$R_8$', 1, 2, '$\\\\Omega$']]"
      ]
     },
     "execution_count": 43,
     "metadata": {},
     "output_type": "execute_result"
    }
   ],
   "source": [
    "# Circuit elements.\n",
    "\n",
    "circ_tuple = (('$\\epsilon_1$',[,]),\n",
    "              ('$\\epsilon_2$',[,]),\n",
    "              ('$R_1$',[,]),\n",
    "              ('$R_2$',[,]),\n",
    "              ('$R_3$',[,]),\n",
    "              ('$R_4$',[,]),\n",
    "              ('$R_5$',[,]),\n",
    "              ('$R_6$',[,]),\n",
    "              ('$R_7$',[,]),\n",
    "              ('$R_8$',[,]))\n",
    "'''circ_tuple = (('circuit element',[nominal value,measured value]),...)'''\n",
    "\n",
    "circ_OrdDict = collections.OrderedDict(circ_tuple)\n",
    "\n",
    "table = ListTable()\n",
    "table.append(['circuit element','nominal value','measured value','units'])\n",
    "for item in circ_OrdDict:\n",
    "    if list(circ_OrdDict.keys()).index(item) < 2:\n",
    "        unit = 'V'\n",
    "    else:\n",
    "        unit = '$\\Omega$'\n",
    "    table.append([item,\n",
    "                  circ_OrdDict[item][0],\n",
    "                  circ_OrdDict[item][1],\n",
    "                  unit])\n",
    "table"
   ]
  },
  {
   "cell_type": "code",
   "execution_count": 37,
   "metadata": {
    "collapsed": false
   },
   "outputs": [
    {
     "ename": "ValueError",
     "evalue": "need more than 1 value to unpack",
     "output_type": "error",
     "traceback": [
      "\u001b[1;31m---------------------------------------------------------------------------\u001b[0m",
      "\u001b[1;31mValueError\u001b[0m                                Traceback (most recent call last)",
      "\u001b[1;32m<ipython-input-37-d503dd2f11b0>\u001b[0m in \u001b[0;36m<module>\u001b[1;34m()\u001b[0m\n\u001b[0;32m      5\u001b[0m               ('$R_3$',))\n\u001b[0;32m      6\u001b[0m \u001b[1;33m\u001b[0m\u001b[0m\n\u001b[1;32m----> 7\u001b[1;33m \u001b[0mvolt_OrdDict\u001b[0m \u001b[1;33m=\u001b[0m \u001b[0mcollections\u001b[0m\u001b[1;33m.\u001b[0m\u001b[0mOrderedDict\u001b[0m\u001b[1;33m(\u001b[0m\u001b[0mvolt_tuple\u001b[0m\u001b[1;33m)\u001b[0m\u001b[1;33m\u001b[0m\u001b[0m\n\u001b[0m\u001b[0;32m      8\u001b[0m \u001b[1;33m\u001b[0m\u001b[0m\n\u001b[0;32m      9\u001b[0m \u001b[0mtable\u001b[0m \u001b[1;33m=\u001b[0m \u001b[0mListTable\u001b[0m\u001b[1;33m(\u001b[0m\u001b[1;33m)\u001b[0m\u001b[1;33m\u001b[0m\u001b[0m\n",
      "\u001b[1;32mC:\\Users\\Blake\\Anaconda3\\lib\\collections\\__init__.py\u001b[0m in \u001b[0;36m__init__\u001b[1;34m(*args, **kwds)\u001b[0m\n\u001b[0;32m     58\u001b[0m             \u001b[0mroot\u001b[0m\u001b[1;33m.\u001b[0m\u001b[0mprev\u001b[0m \u001b[1;33m=\u001b[0m \u001b[0mroot\u001b[0m\u001b[1;33m.\u001b[0m\u001b[0mnext\u001b[0m \u001b[1;33m=\u001b[0m \u001b[0mroot\u001b[0m\u001b[1;33m\u001b[0m\u001b[0m\n\u001b[0;32m     59\u001b[0m             \u001b[0mself\u001b[0m\u001b[1;33m.\u001b[0m\u001b[0m__map\u001b[0m \u001b[1;33m=\u001b[0m \u001b[1;33m{\u001b[0m\u001b[1;33m}\u001b[0m\u001b[1;33m\u001b[0m\u001b[0m\n\u001b[1;32m---> 60\u001b[1;33m         \u001b[0mself\u001b[0m\u001b[1;33m.\u001b[0m\u001b[0m__update\u001b[0m\u001b[1;33m(\u001b[0m\u001b[1;33m*\u001b[0m\u001b[0margs\u001b[0m\u001b[1;33m,\u001b[0m \u001b[1;33m**\u001b[0m\u001b[0mkwds\u001b[0m\u001b[1;33m)\u001b[0m\u001b[1;33m\u001b[0m\u001b[0m\n\u001b[0m\u001b[0;32m     61\u001b[0m \u001b[1;33m\u001b[0m\u001b[0m\n\u001b[0;32m     62\u001b[0m     def __setitem__(self, key, value,\n",
      "\u001b[1;32mC:\\Users\\Blake\\Anaconda3\\lib\\_collections_abc.py\u001b[0m in \u001b[0;36mupdate\u001b[1;34m(*args, **kwds)\u001b[0m\n\u001b[0;32m    595\u001b[0m                     \u001b[0mself\u001b[0m\u001b[1;33m[\u001b[0m\u001b[0mkey\u001b[0m\u001b[1;33m]\u001b[0m \u001b[1;33m=\u001b[0m \u001b[0mother\u001b[0m\u001b[1;33m[\u001b[0m\u001b[0mkey\u001b[0m\u001b[1;33m]\u001b[0m\u001b[1;33m\u001b[0m\u001b[0m\n\u001b[0;32m    596\u001b[0m             \u001b[1;32melse\u001b[0m\u001b[1;33m:\u001b[0m\u001b[1;33m\u001b[0m\u001b[0m\n\u001b[1;32m--> 597\u001b[1;33m                 \u001b[1;32mfor\u001b[0m \u001b[0mkey\u001b[0m\u001b[1;33m,\u001b[0m \u001b[0mvalue\u001b[0m \u001b[1;32min\u001b[0m \u001b[0mother\u001b[0m\u001b[1;33m:\u001b[0m\u001b[1;33m\u001b[0m\u001b[0m\n\u001b[0m\u001b[0;32m    598\u001b[0m                     \u001b[0mself\u001b[0m\u001b[1;33m[\u001b[0m\u001b[0mkey\u001b[0m\u001b[1;33m]\u001b[0m \u001b[1;33m=\u001b[0m \u001b[0mvalue\u001b[0m\u001b[1;33m\u001b[0m\u001b[0m\n\u001b[0;32m    599\u001b[0m         \u001b[1;32mfor\u001b[0m \u001b[0mkey\u001b[0m\u001b[1;33m,\u001b[0m \u001b[0mvalue\u001b[0m \u001b[1;32min\u001b[0m \u001b[0mkwds\u001b[0m\u001b[1;33m.\u001b[0m\u001b[0mitems\u001b[0m\u001b[1;33m(\u001b[0m\u001b[1;33m)\u001b[0m\u001b[1;33m:\u001b[0m\u001b[1;33m\u001b[0m\u001b[0m\n",
      "\u001b[1;31mValueError\u001b[0m: need more than 1 value to unpack"
     ]
    }
   ],
   "source": [
    "# Measured potential drops across resistors.\n",
    "\n",
    "volt_tuple = (('$R_1$',),\n",
    "              ('$R_2$',),\n",
    "              ('$R_3$',),\n",
    "              ('$R_4$',),\n",
    "              ('$R_5$',),\n",
    "              ('$R_6$',),\n",
    "              ('$R_7$',),\n",
    "              ('$R_8$',))\n",
    "\n",
    "volt_OrdDict = collections.OrderedDict(volt_tuple)\n",
    "\n",
    "table = ListTable()\n",
    "table.append(['resistor','potential drop (V)'])\n",
    "for item in volt_OrdDict:\n",
    "    table.append([item,\n",
    "                  volt_OrdDict[item]])\n",
    "table"
   ]
  },
  {
   "cell_type": "markdown",
   "metadata": {},
   "source": [
    "___"
   ]
  },
  {
   "cell_type": "markdown",
   "metadata": {},
   "source": [
    "<h3 align='center'> Annex B </h3>\n",
    "<h3 align='center'> Circuit Diagrams </h3>"
   ]
  },
  {
   "cell_type": "markdown",
   "metadata": {},
   "source": [
    "1) Series Circuit."
   ]
  },
  {
   "cell_type": "markdown",
   "metadata": {},
   "source": [
    "![Series Circuit](http://localhost:8888/files/Physics%20Notebooks/Phys%202212%20-%20Handouts/Phys%202212L%20-%20Figures%20and%20Illustrations/Phys%202212L%20-%20Lab%204%20-%20App.%20B%20-%20Series%20Circuit.png)"
   ]
  },
  {
   "cell_type": "markdown",
   "metadata": {},
   "source": [
    "2) Parallel Circuit."
   ]
  },
  {
   "cell_type": "markdown",
   "metadata": {},
   "source": [
    "![Series Circuit](http://localhost:8888/files/Physics%20Notebooks/Phys%202212%20-%20Handouts/Phys%202212L%20-%20Figures%20and%20Illustrations/Phys%202212L%20-%20Lab%204%20-%20App.%20B%20-%20Parallel%20Circuit.png)"
   ]
  },
  {
   "cell_type": "markdown",
   "metadata": {},
   "source": [
    "3) Kirchoff's Rules Circuit #1."
   ]
  },
  {
   "cell_type": "markdown",
   "metadata": {},
   "source": [
    "![Series Circuit](http://localhost:8888/files/Physics%20Notebooks/Phys%202212%20-%20Handouts/Phys%202212L%20-%20Figures%20and%20Illustrations/Phys%202212L%20-%20Lab%204%20-%20App.%20B%20-%20Kirchoff's%20Circuit%201.png)"
   ]
  },
  {
   "cell_type": "markdown",
   "metadata": {},
   "source": [
    "4) Kirchoff's Rules Circuit #2."
   ]
  },
  {
   "cell_type": "markdown",
   "metadata": {},
   "source": [
    "![Series Circuit](http://localhost:8888/files/Physics%20Notebooks/Phys%202212%20-%20Handouts/Phys%202212L%20-%20Figures%20and%20Illustrations/Phys%202212L%20-%20Lab%204%20-%20App.%20B%20-%20Kirchoff's%20Circuit%202.png)"
   ]
  },
  {
   "cell_type": "markdown",
   "metadata": {},
   "source": [
    "___\n",
    "___"
   ]
  },
  {
   "cell_type": "code",
   "execution_count": null,
   "metadata": {
    "collapsed": true
   },
   "outputs": [],
   "source": []
  }
 ],
 "metadata": {
  "kernelspec": {
   "display_name": "Python 3",
   "language": "python",
   "name": "python3"
  },
  "language_info": {
   "codemirror_mode": {
    "name": "ipython",
    "version": 3
   },
   "file_extension": ".py",
   "mimetype": "text/x-python",
   "name": "python",
   "nbconvert_exporter": "python",
   "pygments_lexer": "ipython3",
   "version": "3.4.3"
  }
 },
 "nbformat": 4,
 "nbformat_minor": 0
}
