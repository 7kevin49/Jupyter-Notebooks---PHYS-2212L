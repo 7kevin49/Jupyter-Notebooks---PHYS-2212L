{
 "cells": [
  {
   "cell_type": "markdown",
   "metadata": {},
   "source": [
    "# PHYS 2212L - Principles of Physics Laboratory II\n",
    "### Laboratory Advanced Sheet\n",
    "### Galvanometers and Voltmeters"
   ]
  },
  {
   "cell_type": "markdown",
   "metadata": {
    "collapsed": true
   },
   "source": [
    "**Objectives**. The objectives of this laboratory are\n",
    "* to be able to characterize a galvanometer in terms of its internal resistance and current sensitivity.\n",
    "* to be able to convert a galvanometer into a voltmeter having a specified full-scale range."
   ]
  },
  {
   "cell_type": "markdown",
   "metadata": {},
   "source": [
    "**Theory**.\n",
    "* A D'Arsonval galvanometer is a current sensing device. The galvanometer contains a coil of wire in a magnetic field which will experience a torque when a current passes through the wire of the coil. The coil is attached to a pointer and a spring so that the amount of deflection of the pointer is proportional to the current in the wire of the coil.\n",
    "* The galvanometer is characterized by its internal resistance, $R_g$, and its current sensitivity, K. The current sensitivity is the amount of current that must be applied to the galvanometer to produce a deflection of the pointer through one major division of the galvanometer scale. Current sensitivity has units of A/div. The internal resistance and current sensitivity of the galvanometer will be measured using the circuits shown in Figures 1 and 2.\n",
    "\n",
    "![Figure 1](http://localhost:8888/files/Physics%20Notebooks/Phys%202212%20-%20Handouts/Phys%202212L%20-%20Figures%20and%20Illustrations/Phys%202212L%20-%20Lab%206%20-%20Figure%201.png \"Figure 1\")\n",
    "\n",
    "![Figure 2](http://localhost:8888/files/Physics%20Notebooks/Phys%202212%20-%20Handouts/Phys%202212L%20-%20Figures%20and%20Illustrations/Phys%202212L%20-%20Lab%206%20-%20Figure%202.png \"Figure 2\")\n",
    "\n",
    "* In the circuit shown in Figure 1, the value of the load resistor, $R_1$, will be set to a specified value and the potential difference provided by the power supply will be varied to obtain a full-scale deflection of the pointer of the galvanometer. The voltage required to obtain full-scale deflection will be recorded. The circuit shown in Figure 2 will be constructed by adding the shunt resistor, Rs, in parallel with the galvanometer. Without changing the applied voltage, the load resistance will be varied until the galvanometer again has a full-scale deflection. The new load resistance, $R_2$, will be recorded. In both circuits, the potential difference supplied by the power supply is the same, as is the current passing through the galvanometer (full-scale deflection in both circuits). Application of Kirchhoff's rules to the two circuits results in the following expression for the value of the internal resistance of the galvanometer:\n",
    "\n",
    ">$$R_g = R_S (R_1 - R_2)/ R_2$$\n",
    "\n",
    "The current sensitivity can be obtained from the measurements on circuit 1 as\n",
    "\n",
    ">$$K = \\Delta V_{FS}/{N(R_1 + R_g)}$$\n",
    "where N is the number of major divisions of the galvanometer scale for a full-scale deflection of the pointer.\n",
    "\n",
    "* A galvanometer can be converted into a voltmeter by adding a resistor, $R_V$, in series with the galvanometer. The series resistor, $R_V$, is selected to provide a given value of the potential difference for full-scale deflection using the following relationship:\n",
    "\n",
    ">$$R_V = \\Delta V_{FS}/(KN) - R_g$$\n",
    "\n",
    "* In this experiment,\n",
    "    1. Multiple measurements of the internal resistance of the galvanometer and its current sensitivity will be made using the method described above with a variety of load resistances, R1. The mean and standard deviation of these multiple measurements will provide the measured value of the internal resistance and its uncertainty. A multimeter will be used to check the value of the internal resistance.\n",
    "    2. The multiple measurements from the circuit shown in Figure 1 will be used to provide the data required to determine the current sensitivity and its uncertainty.\n",
    "    3. The accuracy of the experimentally constructed voltmeter will be checked against the measurements of a multimeter using the circuit in Figure 3 below.\n",
    "    \n",
    "![Figure 3](http://localhost:8888/files/Physics%20Notebooks/Phys%202212%20-%20Handouts/Phys%202212L%20-%20Figures%20and%20Illustrations/Phys%202212L%20-%20Lab%206%20-%20Figure%20%203.png \"Figure 3\")"
   ]
  },
  {
   "cell_type": "markdown",
   "metadata": {},
   "source": [
    "**Apparatus and experimental procedures**.\n",
    "* Equipment.\n",
    "    1. D'Arsonval galvanometer.\n",
    "    2. Power supply.\n",
    "    3. Multimeters (2)\n",
    "    4. Resistance box.\n",
    "    5. Leads.\n",
    "    6. Shunt resistor.\n",
    "* Experimental setup. Figure 1 provides the circuit for the determination of the potential difference required to obtain a full-scale deflection of the galvanometer when the load resistance is $R_1$. Circuit 1 is modified as shown in Figure 2 by the addition of the shunt resistor in parallel with the\n",
    "galvanometer to determine the value of $R_2$ required to reestablish full-scale deflection with the same potential difference as that used with circuit 1. The circuit in Figure 3 is used to test the accuracy of the experimental voltmeter.\n",
    "* Capabilities. Capabilities of the equipment items listed in paragraph 3a will be provided by the student.\n",
    "* Procedures. Detailed instructions are provided in paragraph 4 below."
   ]
  },
  {
   "cell_type": "markdown",
   "metadata": {},
   "source": [
    "**Requirements**.\n",
    "* In the laboratory.\n",
    "    1. Your instructor will introduce you to the equipment to be used in the experiment.\n",
    "    2. Record the number of major divisions of the galvanometer scale.\n",
    "    3. Measure the value of the resistance of the shunt resistor, Rs, with a multimeter.\n",
    "    4. Use the resistance box to set the value of the load resistor, $R_1$, to 2500 $\\Omega$. Use a multimeter with the resistance box to make this setting (do not assume the values on the dials of the resistance box are accurate).\n",
    "    5. Construct circuit 1.\n",
    "    6. Vary the potential difference provided by the power supply to obtain the full-scale deflection of the pointer of the galvanometer. Record this voltage.\n",
    "    7. Construct circuit 2 by adding the shunt resistor in parallel with the galvanometer.\n",
    "    8. Adjust the value of the resistance provided by the resistance box to again obtain full-scale deflection of the pointer of the galvanometer. Do not vary the potential difference provided by the power supply; vary the load resistance.\n",
    "    9. Remove the resistance box from the circuit and measure the resistance, $R_2$.\n",
    "    10. Remove the shunt resistor from the galvanometer.\n",
    "    11. Calculate the internal resistance, $R_g$, of the the galvanometer and its current sensitivity, K.\n",
    "    12. Repeat steps 4 through 11 for values of $R_1$ of 3000 $\\Omega$ to 5000 $\\Omega$ in increments of 500 $\\Omega$.\n",
    "    13. Find the mean and standard deviation of the calculated values of $R_g$ and K.\n",
    "    14. Use the multimeter to measure the \"actual\" internal resistance of the galvanometer.\n",
    "    15. Calculate the value of $R_V$ (to be placed in series with the galvanometer) to provide a full-scale deflection of the galvanometer pointer when the potential difference across the experimental voltmeter is 5.0 V. We will use the term \"experimental voltmeter\" to mean the series combination of $R_V$ and the galvanometer.\n",
    "    16. Construct the circuit in Figure 3. Vary the potential difference provided by the power supply from 1.0 V to 5.0 V in 1.0 V increments as measured by the experimental voltmeter and record the readings for the potential difference obtained from the multimeter.\n",
    "* After the laboratory. The items listed below will be turned in at the beginning of the next laboratory period. A complete laboratory report is not required for this experiment."
   ]
  },
  {
   "cell_type": "markdown",
   "metadata": {},
   "source": [
    "**Para 2. Theory**. Derive the equations for the internal resistance of the galvanometer, the current sensitivity of the galvanometer and the resistance placed in series with the galvanometer to produce a voltmeter.\n",
    "\n",
    "**Para 3. Apparatus and experimental procedures**. Provide descriptions of the capabilities of equipment used in the experiment (para 3c).\n",
    "\n",
    "**Para 4. Data**. Data tables are included at Annex A for recording measurements taken in the laboratory. A copy of these tables must be included with the lab report. Provide the items listed below in your report in the form a Microsoft ExcelTM spreadsheet showing data and calculations. The spreadsheet will include:\n",
    "1. The values of N and $R_s$.\n",
    "2. A table of values of $\\Delta V_{FS}$, $R_1$ and $R_2$.\n",
    "3. Calculations of $R_g$ and K for each set of measurements.\n",
    "4. Calculations of the mean and standard deviation for $R_g$ and K.\n",
    "5. Calculation of the value of $R_V$ for a full-scale deflection of 5.00 V.\n",
    "6. The value of $R_g$ measured with the multimeter.\n",
    "7. Calculation of the percent discrepancy between the measured (using the two circuits) and actual value (using the multimeter) of Rg.\n",
    "8. Calculations of the percent fractional errors in the measured values of $R_g$ and K.\n",
    "9. A table of the potential differences measured for the circuit of Figure 3 for the experimental voltmeter (measured) and the multimeter (actual).\n",
    "10. Calculations of the percent discrepancies in the potential differences obtained using the experimental voltmeter and the multimeter.\n",
    "\n",
    "**Para 5. Results and Conclusions**.\n",
    "* **Results**.\n",
    "    1. A statement of the measured value of $R_g$ and its uncertainty.\n",
    "    2. A statement of the percent discrepancy and percent fractional error in the measured value of $R_g$.\n",
    "    3. A statement of the value of K and its uncertainty.\n",
    "    4. A statement regarding the accuracy of the experimental voltmeter.\n",
    "\n",
    "* **Conclusions**.\n",
    "    1. A statement of the type of error that is dominant in the determination of $R_g$.\n",
    "    2. Description of sources of systematic error in the experiment.\n",
    "    3. Description of sources of random error in the experiment."
   ]
  },
  {
   "cell_type": "markdown",
   "metadata": {
    "collapsed": true
   },
   "source": [
    "___"
   ]
  },
  {
   "cell_type": "markdown",
   "metadata": {},
   "source": [
    "<h3 align='center'> Annex A </h3>\n",
    "<h3 align='center'> Data </h3>"
   ]
  },
  {
   "cell_type": "code",
   "execution_count": 1,
   "metadata": {
    "collapsed": true
   },
   "outputs": [],
   "source": [
    "class ListTable(list):\n",
    "    \"\"\" Overridden list class which takes a 2-dimensional list of \n",
    "        the form [[1,2,3],[4,5,6]], and renders an HTML Table in \n",
    "        IPython Notebook. \"\"\"\n",
    "    \n",
    "    def _repr_html_(self):\n",
    "        html = [\"<table>\"]\n",
    "        for row in self:\n",
    "            html.append(\"<tr>\")\n",
    "            \n",
    "            for col in row:\n",
    "                html.append(\"<td>{0}</td>\".format(col))\n",
    "            \n",
    "            html.append(\"</tr>\")\n",
    "        html.append(\"</table>\")\n",
    "        return ''.join(html)"
   ]
  },
  {
   "cell_type": "code",
   "execution_count": 2,
   "metadata": {
    "collapsed": true
   },
   "outputs": [],
   "source": [
    "import collections"
   ]
  },
  {
   "cell_type": "markdown",
   "metadata": {},
   "source": [
    "#### 1) Number of major scale divisions."
   ]
  },
  {
   "cell_type": "code",
   "execution_count": null,
   "metadata": {
    "collapsed": true
   },
   "outputs": [],
   "source": [
    "N = "
   ]
  },
  {
   "cell_type": "markdown",
   "metadata": {},
   "source": [
    "#### 2) Value of shunt resistance,"
   ]
  },
  {
   "cell_type": "code",
   "execution_count": null,
   "metadata": {
    "collapsed": true
   },
   "outputs": [],
   "source": [
    "Rs = #ohms"
   ]
  },
  {
   "cell_type": "markdown",
   "metadata": {},
   "source": [
    "#### 3) Measurements required to determine Rg and K."
   ]
  },
  {
   "cell_type": "code",
   "execution_count": 4,
   "metadata": {
    "collapsed": false
   },
   "outputs": [
    {
     "data": {
      "text/html": [
       "<table><tr><td>$R_1 (\\Omega)$</td><td>$\\Delta_{FS} (V)$</td><td>$R_2 (\\Omega)$</td></tr></table>"
      ],
      "text/plain": [
       "[['$R_1 (\\\\Omega)$', '$\\\\Delta_{FS} (V)$', '$R_2 (\\\\Omega)$']]"
      ]
     },
     "execution_count": 4,
     "metadata": {},
     "output_type": "execute_result"
    }
   ],
   "source": [
    "R1_tuple = ((2500,[,]),\n",
    "            (3000,[,]),\n",
    "            (3500,[,]),\n",
    "            (4000,[,]),\n",
    "            (4500,[,]),\n",
    "            (5000,[,]))\n",
    "'''circ_tuple = ((resistor value,[voltage,R2]),...)'''\n",
    "\n",
    "R1_OrdDict = collections.OrderedDict(R1_tuple)\n",
    "\n",
    "table = ListTable()\n",
    "table.append(['$R_1 (\\Omega)$','$\\Delta_{FS} (V)$','$R_2 (\\Omega)$'])\n",
    "for item in R1_OrdDict:\n",
    "    table.append([item,\n",
    "                  R1_OrdDict[item][0],\n",
    "                  R1_OrdDict[item][1]])\n",
    "table"
   ]
  },
  {
   "cell_type": "markdown",
   "metadata": {},
   "source": [
    "#### 4) Measurement of Rg using a multimeter."
   ]
  },
  {
   "cell_type": "code",
   "execution_count": null,
   "metadata": {
    "collapsed": true
   },
   "outputs": [],
   "source": [
    "Rg = #ohms"
   ]
  },
  {
   "cell_type": "markdown",
   "metadata": {},
   "source": [
    "#### 5) Comparison of potential difference measurements."
   ]
  },
  {
   "cell_type": "code",
   "execution_count": 4,
   "metadata": {
    "collapsed": false
   },
   "outputs": [
    {
     "ename": "SyntaxError",
     "evalue": "invalid syntax (<ipython-input-4-2dac7a9b50d6>, line 1)",
     "output_type": "error",
     "traceback": [
      "\u001b[1;36m  File \u001b[1;32m\"<ipython-input-4-2dac7a9b50d6>\"\u001b[1;36m, line \u001b[1;32m1\u001b[0m\n\u001b[1;33m    Vexp_dict = {1.0:,\u001b[0m\n\u001b[1;37m                     ^\u001b[0m\n\u001b[1;31mSyntaxError\u001b[0m\u001b[1;31m:\u001b[0m invalid syntax\n"
     ]
    }
   ],
   "source": [
    "Vexp_dict = {1.0:,\n",
    "             2.0:,\n",
    "             3.0:,\n",
    "             4.0:,\n",
    "             5.0:}\n",
    "'''Vexp_dict = {Vexp:Vmulti,...}'''\n",
    "\n",
    "table = ListTable()\n",
    "table.append(['$\\Delta_{exp} (V)$','$\\Delta_{multi} (V)$'])\n",
    "for item in Vexp_dict:\n",
    "    table.append([item,\n",
    "                  Vexp_dict[item]])\n",
    "table"
   ]
  },
  {
   "cell_type": "markdown",
   "metadata": {},
   "source": [
    "___\n",
    "___"
   ]
  }
 ],
 "metadata": {
  "kernelspec": {
   "display_name": "Python 3",
   "language": "python",
   "name": "python3"
  },
  "language_info": {
   "codemirror_mode": {
    "name": "ipython",
    "version": 3
   },
   "file_extension": ".py",
   "mimetype": "text/x-python",
   "name": "python",
   "nbconvert_exporter": "python",
   "pygments_lexer": "ipython3",
   "version": "3.4.3"
  }
 },
 "nbformat": 4,
 "nbformat_minor": 0
}
