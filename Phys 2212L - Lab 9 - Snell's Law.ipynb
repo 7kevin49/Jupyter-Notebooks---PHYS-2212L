{
 "cells": [
  {
   "cell_type": "markdown",
   "metadata": {},
   "source": [
    "# PHYS 2212L - Principles of Physics Laboratory II\n",
    "### Laboratory Advanced Sheet\n",
    "### Snell's Law"
   ]
  },
  {
   "cell_type": "markdown",
   "metadata": {
    "collapsed": true
   },
   "source": [
    "**Objectives**. The objectives of this laboratory are\n",
    "* to determine the index of refraction of a liquid using Snell's law.\n",
    "* to determine the indices of refraction of transparent solid plates of materials using multiple reflections and Snell's law."
   ]
  },
  {
   "cell_type": "markdown",
   "metadata": {},
   "source": [
    "**Theory**.\n",
    "* Snell's law states\n",
    "\n",
    ">$$n_1 sin \\theta_1 = n_2 sin \\theta_2$$\n",
    "where\n",
    ">>$n_1$ is the index of refraction of the medium in which the light is incident,  \n",
    "$\\theta_1$ is the angle of incidence, $n_2$ is the index of refraction of the medium in which the light is refracted, and  $\\theta_2$ is the angle of refraction.\n",
    "\n",
    "* In both experiments conducted in this laboratory, the medium in which the light is incident will be air. Thus,\n",
    ">$$n_1 = 1$$\n",
    "\n",
    "* In the first experiment to be conducted in this laboratory, a narrow beam of light of a single wavelength will be incident on a tank containing a liquid. The angle of incidence of the beam will be varied and the angle of refraction will be measured. According to Snell's law, a graph of the sine of the angle of incidence versus the sine of the angle of refraction should yield a straight line whose slope is the index of refraction of the liquid. The index of refraction of the liquid and its uncertainty will be determined by performing a linear regression to the sine of the angle of incidence versus the sine of the angle of refraction data.\n",
    "\n",
    "* In the second experiment to be conducted in this laboratory, a narrow beam of light of a single wavelength will be incident on plates of transparent solids. When incident light strikes a slab of material at an angle other than perpendicular, the beam is both transmitted and internally reflected multiple times (see figure below).\n",
    "\n",
    "![Figure 1](http://localhost:8888/files/Physics%20Notebooks/Phys%202212%20-%20Handouts/Phys%202212L%20-%20Figures%20and%20Illustrations/Phys%202212L%20-%20Lab%209%20-%20Figure%201.png \"Figure 1\")\n",
    "\n",
    "\n",
    "The separation distance between adjacent beams of light transmitted through the slab is given by\n",
    "\n",
    ">$$s = 2 d sin \\theta_1 cos \\theta_1 / (n_2^2 - sin^2 \\theta_1)^{1/2}$$\n",
    "where\n",
    ">>$s$ is the separation distance between adjacent transmitted beams,    \n",
    "$d$ is the plate thickness,  \n",
    "$\\theta_1$ is the angle of incidence, and  \n",
    "$n_2$ is the index of refraction in the slab medium.  \n",
    "\n",
    "This equation can be used with direct measurements of the beam separation distance, plate thickness and angle of incidence of the incident beam to calculate the index of refraction. Measurements at different angles of incidence will be used to determine the index of refraction of the slab material and its uncertainty."
   ]
  },
  {
   "cell_type": "markdown",
   "metadata": {},
   "source": [
    "$$Apparatus and experimental procedures$$.\n",
    "* Equipment.\n",
    "    1. Snell's law apparatus (tank with angle of incidence grid, index mark and liquid).\n",
    "    2. He-Ne lasers (2).\n",
    "    3. Micrometer.\n",
    "    4. Tape.\n",
    "    5. Optical bench.\n",
    "    6. Rotational mount.\n",
    "    7. Scale for measuring separation distance.\n",
    "    8. Acrylic plate.\n",
    "* Experimental setup. Figures 1 and 2 (to be provided by the student) show the equipment configured for the two experiments.\n",
    "* Capabilities. Capabilities of the equipment items listed in paragraph 3a will be provided by the student.\n",
    "* Procedures. Detailed instructions are provided in paragraph 4 below."
   ]
  },
  {
   "cell_type": "markdown",
   "metadata": {},
   "source": [
    "**Requirements**.\n",
    "* In the laboratory.\n",
    "    1. Your instructor will introduce you to the equipment to be used in the experiments and provide a laser safety briefing. Each laboratory group will perform the measurements with the Snell's law apparatus first (liquid) and then make measurements to determine the indices of refraction of transparent plates.\n",
    "    2. Measure the width of the tank.\n",
    "    3. Fill the tank with the liquid provided by the instructor.\n",
    "    4. Align the laser beam along the zero degree angle of incidence line using the wire in the angle arm and the index mark on the front of the tank.\n",
    "    5. Using the tape provided, mark the position of the laser beam emerging from the back of the tank. All measurements of the refracted beam will be made with respect to this position.\n",
    "    6. Vary the angle of incidence, and measure and record the distance along the back wall of the tank between the tape and the exit point of the refracted beam. Make measurements at a five (5) degree increment.\n",
    "    7. Using a micrometer, measure the thickness of the acrylic plate.\n",
    "    8. Using the optical bench, align the laser, the plate on the rotating stand and the scale to measure beam separation to obtain a zero degree incident laser beam (laser beam perpendicular to the plate's surface). Record the value of the angle on the rotating stand associated with zero degree incidence.\n",
    "    9. Rotate the plate to produce beams on the separation scale due to multiple reflections in the plate. Record the value of the angle on the rotating stand and measure the separation distance between the primary beam and the multiply reflected beam on the separation scale. Repeat for six angles of incidence.\n",
    "* After the laboratory. The items listed below will be turned in at the beginning of the next laboratory period. A complete laboratory report is not required for this experiment.\n"
   ]
  },
  {
   "cell_type": "markdown",
   "metadata": {},
   "source": [
    "**Para 2. Theory**. Derive the equation for the separation distance between adjacent beams in the second experiment of the laboratory (Hint: all that is required is Snell's law and some trigonometry).\n",
    "\n",
    "**Para 3. Apparatus and experimental procedures**.\n",
    "1. Provide figures for the two experiments (para 3b).\n",
    "2. Provide descriptions of the capabilities of equipment used in the experiment (para 3c).\n",
    "\n",
    "**Para 4. Data**. Data tables are included at Annex A for recording measurements taken in the laboratory. A copy of these tables must be included with the lab report. Provide the items listed below in your report in the form a Microsoft ExcelTM spreadsheet showing data and calculations. The spreadsheet will include:\n",
    "1. Original data tables.\n",
    "2. The width of tank of Snell's law apparatus.\n",
    "3. A table of angles of incidence, sines of angles of incidence, beam displacement distance and sines of angles of refraction.\n",
    "4. A graph of the sine of the angle incidence versus the sine of the angle of refraction with regression (trend) line.\n",
    "5. A linear regression of the sine of the angle incidence versus the sine of the angle of refraction.\n",
    "6. Calculation of the percent fractional error in the index of refraction of the liquid.\n",
    "7. Calculation of the percent discrepancy in the index of refraction of the liquid. Your instructor will provide the actual value.\n",
    "8. The thicknesses of the acrylic and glass plates.\n",
    "9. The angle of the rotating stand corresponding to zero degree incidence.\n",
    "10. A table of rotating stand angles, beam separation distance and calculations of the index of refraction for the acrylic plate.\n",
    "11. Calculations of the values and uncertainties of the index of refraction for the acrylic plate measurements (for the uncertainty, use the standard deviation of the six measurements).\n",
    "12. Calculation of the percent fractional error in the indices of refraction of the acrylic plate.\n",
    "13. Calculation of the percent discrepancy in the indices of refraction of the acrylic plate. Your instructor will provide the actual values.\n",
    "\n",
    "**Para 5. Results and Conclusions**.\n",
    "* **Results**.\n",
    "    1. A statement of the index of refraction of the liquid, its uncertainty, percent fractional error and percent discrepancy.\n",
    "    2. A statement of the indices of refraction of the acrylic plate, its uncertaibtu, percent fractional error and percent discrepancy.\n",
    "    \n",
    "    \n",
    "* **Conclusions**.\n",
    "    1. A statement of the type of error that is dominant in each determination of the index of refraction.\n",
    "    2. Description of sources of systematic error in each of the two experiments\n",
    "    3. Description of sources of random error in each of the two experiments."
   ]
  },
  {
   "cell_type": "markdown",
   "metadata": {
    "collapsed": true
   },
   "source": [
    "___"
   ]
  },
  {
   "cell_type": "markdown",
   "metadata": {},
   "source": [
    "<h3 align='center'> Annex A </h3>\n",
    "<h3 align='center'> Data </h3>"
   ]
  },
  {
   "cell_type": "code",
   "execution_count": 1,
   "metadata": {
    "collapsed": true
   },
   "outputs": [],
   "source": [
    "class ListTable(list):\n",
    "    \"\"\" Overridden list class which takes a 2-dimensional list of \n",
    "        the form [[1,2,3],[4,5,6]], and renders an HTML Table in \n",
    "        IPython Notebook. \"\"\"\n",
    "    \n",
    "    def _repr_html_(self):\n",
    "        html = [\"<table>\"]\n",
    "        for row in self:\n",
    "            html.append(\"<tr>\")\n",
    "            \n",
    "            for col in row:\n",
    "                html.append(\"<td>{0}</td>\".format(col))\n",
    "            \n",
    "            html.append(\"</tr>\")\n",
    "        html.append(\"</table>\")\n",
    "        return ''.join(html)"
   ]
  },
  {
   "cell_type": "code",
   "execution_count": 2,
   "metadata": {
    "collapsed": true
   },
   "outputs": [],
   "source": [
    "import collections"
   ]
  },
  {
   "cell_type": "markdown",
   "metadata": {},
   "source": [
    "#### 1) Experiment with Snell's law apparatus."
   ]
  },
  {
   "cell_type": "code",
   "execution_count": 3,
   "metadata": {
    "collapsed": false
   },
   "outputs": [
    {
     "ename": "SyntaxError",
     "evalue": "invalid syntax (<ipython-input-3-72fd426801f3>, line 3)",
     "output_type": "error",
     "traceback": [
      "\u001b[1;36m  File \u001b[1;32m\"<ipython-input-3-72fd426801f3>\"\u001b[1;36m, line \u001b[1;32m3\u001b[0m\n\u001b[1;33m    w = # cm\u001b[0m\n\u001b[1;37m            ^\u001b[0m\n\u001b[1;31mSyntaxError\u001b[0m\u001b[1;31m:\u001b[0m invalid syntax\n"
     ]
    }
   ],
   "source": [
    "# Width of the tank in Snell's law apparatus.\n",
    "\n",
    "w = # cm"
   ]
  },
  {
   "cell_type": "code",
   "execution_count": 5,
   "metadata": {
    "collapsed": false
   },
   "outputs": [
    {
     "ename": "SyntaxError",
     "evalue": "invalid syntax (<ipython-input-5-55c17ab30064>, line 3)",
     "output_type": "error",
     "traceback": [
      "\u001b[1;36m  File \u001b[1;32m\"<ipython-input-5-55c17ab30064>\"\u001b[1;36m, line \u001b[1;32m3\u001b[0m\n\u001b[1;33m    theta_dict = {0.0:,\u001b[0m\n\u001b[1;37m                      ^\u001b[0m\n\u001b[1;31mSyntaxError\u001b[0m\u001b[1;31m:\u001b[0m invalid syntax\n"
     ]
    }
   ],
   "source": [
    "# Refracted beam displacement.\n",
    "\n",
    "theta_dict = {0.0:,\n",
    "              5.0:,\n",
    "              10.0:,\n",
    "              15.0:,              \n",
    "              20.0:,\n",
    "              25.0:,\n",
    "              30.0:,\n",
    "              35.0:,\n",
    "              40.0:,\n",
    "              45.0:,\n",
    "              50.0:,\n",
    "              55.0:,\n",
    "              60.0:,\n",
    "              65.0:,\n",
    "              70.0:}\n",
    "\n",
    "table = ListTable()\n",
    "table.append(['$\\theta_1 (degrees)','x (cm)'])\n",
    "for item in theta_dict:\n",
    "    table.append([item,theta_dict[item]])\n",
    "table"
   ]
  },
  {
   "cell_type": "code",
   "execution_count": 4,
   "metadata": {
    "collapsed": false
   },
   "outputs": [
    {
     "ename": "SyntaxError",
     "evalue": "invalid syntax (<ipython-input-4-e3a740124d34>, line 3)",
     "output_type": "error",
     "traceback": [
      "\u001b[1;36m  File \u001b[1;32m\"<ipython-input-4-e3a740124d34>\"\u001b[1;36m, line \u001b[1;32m3\u001b[0m\n\u001b[1;33m    n2 =\u001b[0m\n\u001b[1;37m         ^\u001b[0m\n\u001b[1;31mSyntaxError\u001b[0m\u001b[1;31m:\u001b[0m invalid syntax\n"
     ]
    }
   ],
   "source": [
    "# Actual value of index of refraction of liquid.\n",
    "\n",
    "n2 = "
   ]
  },
  {
   "cell_type": "markdown",
   "metadata": {},
   "source": [
    "#### 2) Multiple reflection experiment."
   ]
  },
  {
   "cell_type": "code",
   "execution_count": null,
   "metadata": {
    "collapsed": true
   },
   "outputs": [],
   "source": [
    "# Thickness of the acrylis plate.\n",
    "\n",
    "d = # cm"
   ]
  },
  {
   "cell_type": "code",
   "execution_count": 6,
   "metadata": {
    "collapsed": false
   },
   "outputs": [
    {
     "ename": "SyntaxError",
     "evalue": "invalid syntax (<ipython-input-6-c24ec6b9a4e4>, line 3)",
     "output_type": "error",
     "traceback": [
      "\u001b[1;36m  File \u001b[1;32m\"<ipython-input-6-c24ec6b9a4e4>\"\u001b[1;36m, line \u001b[1;32m3\u001b[0m\n\u001b[1;33m    theta0 = # degrees\u001b[0m\n\u001b[1;37m                      ^\u001b[0m\n\u001b[1;31mSyntaxError\u001b[0m\u001b[1;31m:\u001b[0m invalid syntax\n"
     ]
    }
   ],
   "source": [
    "# Angle of rotating standing corresponding to zero degrees.\n",
    "\n",
    "theta0 = # degrees"
   ]
  },
  {
   "cell_type": "code",
   "execution_count": 7,
   "metadata": {
    "collapsed": false
   },
   "outputs": [
    {
     "ename": "SyntaxError",
     "evalue": "invalid syntax (<ipython-input-7-02571210b73e>, line 3)",
     "output_type": "error",
     "traceback": [
      "\u001b[1;36m  File \u001b[1;32m\"<ipython-input-7-02571210b73e>\"\u001b[1;36m, line \u001b[1;32m3\u001b[0m\n\u001b[1;33m    theta_stand_dict = {:,\u001b[0m\n\u001b[1;37m                        ^\u001b[0m\n\u001b[1;31mSyntaxError\u001b[0m\u001b[1;31m:\u001b[0m invalid syntax\n"
     ]
    }
   ],
   "source": [
    "# Beam separation distance for acrylic plate.\n",
    "\n",
    "theta_stand_dict = {:,\n",
    "                    :,\n",
    "                    :,\n",
    "                    :,\n",
    "                    :,\n",
    "                    :}\n",
    "\n",
    "table = ListTable()\n",
    "table.append(['$\\theta_{stand}$ (degrees)','s (cm)'])\n",
    "for item in theta_stand_dict:\n",
    "    table.append([item,\n",
    "                  theta_stand_dict[item]])\n",
    "table"
   ]
  },
  {
   "cell_type": "code",
   "execution_count": null,
   "metadata": {
    "collapsed": true
   },
   "outputs": [],
   "source": [
    "# Actual value of index of refraction of acrylic plate.\n",
    "\n",
    "n2 = "
   ]
  },
  {
   "cell_type": "markdown",
   "metadata": {},
   "source": [
    "___\n",
    "___"
   ]
  }
 ],
 "metadata": {
  "kernelspec": {
   "display_name": "Python 3",
   "language": "python",
   "name": "python3"
  },
  "language_info": {
   "codemirror_mode": {
    "name": "ipython",
    "version": 3
   },
   "file_extension": ".py",
   "mimetype": "text/x-python",
   "name": "python",
   "nbconvert_exporter": "python",
   "pygments_lexer": "ipython3",
   "version": "3.4.3"
  }
 },
 "nbformat": 4,
 "nbformat_minor": 0
}
