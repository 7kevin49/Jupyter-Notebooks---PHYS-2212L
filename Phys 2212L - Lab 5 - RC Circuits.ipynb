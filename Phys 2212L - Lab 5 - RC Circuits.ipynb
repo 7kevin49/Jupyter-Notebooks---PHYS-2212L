{
 "cells": [
  {
   "cell_type": "markdown",
   "metadata": {},
   "source": [
    "# PHYS 2212L - Principles of Physics Laboratory II\n",
    "### Laboratory Advanced Sheet\n",
    "### RC Circuits"
   ]
  },
  {
   "cell_type": "markdown",
   "metadata": {
    "collapsed": true
   },
   "source": [
    "**Objectives**. The objectives of this laboratory are\n",
    "* to verify the functional dependence of the potential difference across a capacitor in a charging RC circuit, and\n",
    "* to verify the functional dependence of the potential difference across a capacitor in a discharging RC circuit."
   ]
  },
  {
   "cell_type": "markdown",
   "metadata": {},
   "source": [
    "**Theory**.\n",
    "* An RC circuit (see figure below) consists of a voltage source, and resistor and capacitor in series. A switch in the circuit allows the circuit to be charged or discharged (with voltage source removed).\n",
    "\n",
    "![RC Circuit](http://localhost:8888/files/Physics%20Notebooks/Phys%202212%20-%20Handouts/Phys%202212L%20-%20Figures%20and%20Illustrations/Phys%202212L%20-%20Lab%205%20-%20RC%20Circuit.png \"Figure 1: RC circuit diagram\")\n",
    "\n",
    "* When the switch is closed, the potential difference as a function of time, V(t), across an initially uncharged capacitor in a charging RC circuit is given by\n",
    "\n",
    ">\\begin{equation}\\tag{1}\n",
    "\\Delta V(t) = \\Delta V_0 (1 - e^{-t/RC})\n",
    "\\end{equation}\n",
    "where\n",
    ">>$\\Delta V_0$ is the potential difference provided by the voltage source in units of volts (V),  \n",
    "$R$ is the resistance in the circuit in units of ohms ($\\Delta$),  \n",
    "$C$ is the capacitance in the circuit in units of farads (F), and  \n",
    "$t$ is time measured from the instant the switch is closed in units seconds (s).\n",
    "\n",
    "* In a discharging RC circuit, the voltage source is removed from the circuit and the charged capacitor is allowed to discharge through the resistor. Equation 2 below provides the voltage across the capacitor as a function of time after discharge begins.\n",
    "\n",
    ">\\begin{equation}\\tag{2}\n",
    "\\Delta V(t) = \\Delta V_0 e^{-t/RC}\n",
    "\\end{equation}\n",
    "where\n",
    ">>$\\Delta V_0$ is the potential difference across the capacitor at the time discharge begins, and  \n",
    "$t$ is time measured from the instant that discharge begins.\n",
    "\n",
    "* In this experiment the potential difference across the capacitor for both the charging and discharging cases will be measured as a function of time. The resulting potential difference versus time data will be analyzed to allow comparison of the functional relationships predicted by equations 1 and 2.\n",
    "    1. To accomplish the first objective, the switch will be closed, allowing the capacitor to charge while measurements of the potential difference across the capacitor versus time are made.\n",
    "    2. To accomplish the second objective, the power source will be turned off, allowing the capacitor to discharge through the circuit (which includes the power source) while measurements of the potential difference across the capacitor versus time are made.\n",
    "    3. Note that in both experiments, the true capacitance and resistance in the circuit includes that of the power source and the wires. Additionally, the capacitance and resistance of the power source are different when the source is on or off. As a result the values of R and C are different in the two parts of the experiment, even though the same circuit is being used. As a result, the two time constants (RC) will differ. This difference will not effect the determination of the functional dependence required by the objectives."
   ]
  },
  {
   "cell_type": "markdown",
   "metadata": {},
   "source": [
    "**Apparatus and experimental procedures**.\n",
    "* Equipment.\n",
    "    1. Power amplifier.\n",
    "    2. Resistor.\n",
    "    3. Capacitor.\n",
    "    4. Connecting wires.\n",
    "    5. Switch.\n",
    "    6. Voltage sensor with signal interface and computer.\n",
    "    7. Multimeter.\n",
    "* Experimental setup. A figure for the experimental setup will be provided by the student.\n",
    "* Capabilities. Capabilities of the equipment items listed in paragraph 3a will be provided by the student.\n",
    "* Procedures. Detailed instructions are provided in paragraph 4 below."
   ]
  },
  {
   "cell_type": "markdown",
   "metadata": {},
   "source": [
    "**Requirements**.\n",
    "* In the laboratory.\n",
    "    1. Your instructor will introduce you to the equipment and software to be used in the experiment.\n",
    "    2. Measurements of the resistance and capacitance of the circuit elements will be made using a multimeter.\n",
    "    3. Measurements to determine the functional relationship between potential difference across a charging capacitor as a function of time will be made.\n",
    "    4. Measurements to determine the functional relationship between potential difference across a discharging capacitor as a function of time will be made.\n",
    "    5. Your instructor will assist you in obtaining data files for your measurements.\n",
    "    6. Your instructor will discuss methods to be used to prepare your data for plotting using the Microsoft ExcelTM spreadsheet program.\n",
    "* After the laboratory. The items listed below will be turned in at the beginning of the next laboratory period. A complete laboratory report is not required for this experiment."
   ]
  },
  {
   "cell_type": "markdown",
   "metadata": {},
   "source": [
    "**Para 3. Apparatus and experimental procedures**.\n",
    "1. Provide a figure of the experimental apparatus (para 3b).\n",
    "2. Provide descriptions of the capabilities of equipment used in the experiment (para 3c).\n",
    "\n",
    "**Para 4. Data**. Data tables are included at Annex A for recording measurements taken in the laboratory. A copy of these tables must be included with the lab report. Provide the items listed below in your report in the form a Microsoft ExcelTM spreadsheet showing data, calculations and graphs. The spreadsheet will include:\n",
    "1. A listing of the measured resistance and capacitance of the circuit elements.\n",
    "2. A table of data from the charging capacitor experiment.\n",
    "3. A table of data from the discharging capacitor experiment.\n",
    "4. Calculations of the time constants and their uncertainties for both experiments.\n",
    "5. Graphs of\n",
    "    1. Potential difference across the capacitor as a function of time for the charging capacitor experiment.\n",
    "    2. Potential difference across the capacitor as a function of time for the discharging capacitor experiment."
   ]
  },
  {
   "cell_type": "markdown",
   "metadata": {
    "collapsed": true
   },
   "source": [
    "**Results and Conclusions**.\n",
    "* **Results**.\n",
    "    1. Statement regarding the verification of the functional relationships for potential difference across a capacitor in charging and discharging RC circuits.\n",
    "    2. A table comparing the time constant derived from the multimeter measurements, and the charging and discharging RC circuit experiments. Uncertainties from linear regressions for the charging and discharging data will also be provided.\n",
    "\n",
    "\n",
    "* **Conclusions**.\n",
    "    1. Discussion of the three values of the time constant obtained in the experiment with qualitative justification for their differences.\n",
    "    2. Description of the sources of systematic error in the experiment.\n",
    "    3. Description of the sources of random error in the experiment."
   ]
  },
  {
   "cell_type": "markdown",
   "metadata": {
    "collapsed": true
   },
   "source": [
    "___"
   ]
  },
  {
   "cell_type": "markdown",
   "metadata": {},
   "source": [
    "<h3 align='center'> Annex A </h3>\n",
    "<h3 align='center'> Data </h3>"
   ]
  },
  {
   "cell_type": "code",
   "execution_count": 269,
   "metadata": {
    "collapsed": true
   },
   "outputs": [],
   "source": [
    "class ListTable(list):\n",
    "    \"\"\" Overridden list class which takes a 2-dimensional list of \n",
    "        the form [[1,2,3],[4,5,6]], and renders an HTML Table in \n",
    "        IPython Notebook. \"\"\"\n",
    "    \n",
    "    def _repr_html_(self):\n",
    "        html = [\"<table>\"]\n",
    "        for row in self:\n",
    "            html.append(\"<tr>\")\n",
    "            \n",
    "            for col in row:\n",
    "                html.append(\"<td>{0}</td>\".format(col))\n",
    "            \n",
    "            html.append(\"</tr>\")\n",
    "        html.append(\"</table>\")\n",
    "        return ''.join(html)"
   ]
  },
  {
   "cell_type": "code",
   "execution_count": 270,
   "metadata": {
    "collapsed": true
   },
   "outputs": [],
   "source": [
    "import collections"
   ]
  },
  {
   "cell_type": "markdown",
   "metadata": {},
   "source": [
    "#### 1) Multimeter measurements."
   ]
  },
  {
   "cell_type": "code",
   "execution_count": 271,
   "metadata": {
    "collapsed": false
   },
   "outputs": [
    {
     "data": {
      "text/html": [
       "<table><tr><td>circuit elements</td><td>nominal value</td><td>multimeter reading</td></tr><tr><td>resistor</td><td>15000</td><td>14870</td></tr><tr><td>capacitor</td><td>0.001</td><td>0.001</td></tr></table>"
      ],
      "text/plain": [
       "[['circuit elements', 'nominal value', 'multimeter reading'],\n",
       " ['resistor', 15000, 14870],\n",
       " ['capacitor', 0.001, 0.001]]"
      ]
     },
     "execution_count": 271,
     "metadata": {},
     "output_type": "execute_result"
    }
   ],
   "source": [
    "mult_tuple = (('resistor',[15000,14870]),\n",
    "              ('capacitor',[0.001,0.001]))\n",
    "'''circ_tuple = (('circuit element',[nominal value,measured value]),...)'''\n",
    "\n",
    "mult_OrdDict = collections.OrderedDict(mult_tuple)\n",
    "\n",
    "table = ListTable()\n",
    "table.append(['circuit elements','nominal value','multimeter reading'])\n",
    "for item in mult_OrdDict:\n",
    "    table.append([item,\n",
    "                  mult_OrdDict[item][0],\n",
    "                  mult_OrdDict[item][1]])\n",
    "table"
   ]
  },
  {
   "cell_type": "markdown",
   "metadata": {},
   "source": [
    "#### 2) Sampling frequenct and time between measurements."
   ]
  },
  {
   "cell_type": "code",
   "execution_count": 272,
   "metadata": {
    "collapsed": false
   },
   "outputs": [
    {
     "data": {
      "text/html": [
       "<table><tr><td>sampling frequency (Hz)</td><td>time between measurements (s)</td></tr><tr><td>1</td><td>1</td></tr></table>"
      ],
      "text/plain": [
       "[['sampling frequency (Hz)', 'time between measurements (s)'], [1, 1]]"
      ]
     },
     "execution_count": 272,
     "metadata": {},
     "output_type": "execute_result"
    }
   ],
   "source": [
    "sampfreq = 1 # Hz\n",
    "tmeas =  1# s\n",
    "\n",
    "table = ListTable()\n",
    "table.append(['sampling frequency (Hz)','time between measurements (s)'])\n",
    "table.append([sampfreq,tmeas])\n",
    "table"
   ]
  },
  {
   "cell_type": "markdown",
   "metadata": {},
   "source": [
    "#### 3) File names for potential difference versus time data sets."
   ]
  },
  {
   "cell_type": "markdown",
   "metadata": {},
   "source": [
    "experiments          |file name\n",
    ":-:                  |:-:\n",
    "charging capacitor   |Diatta-Bakr RC Circuit.txt\n",
    "discharging capacitor|Diatta-Bakr RC Circuit.txt"
   ]
  },
  {
   "cell_type": "markdown",
   "metadata": {},
   "source": [
    "___\n",
    "___"
   ]
  },
  {
   "cell_type": "markdown",
   "metadata": {},
   "source": [
    "### Calculations"
   ]
  },
  {
   "cell_type": "markdown",
   "metadata": {},
   "source": [
    "#### 1) Theoretical time constant"
   ]
  },
  {
   "cell_type": "code",
   "execution_count": 273,
   "metadata": {
    "collapsed": false
   },
   "outputs": [
    {
     "name": "stdout",
     "output_type": "stream",
     "text": [
      "RC= 14.87 s\n"
     ]
    }
   ],
   "source": [
    "tau=mult_OrdDict['resistor'][1]*mult_OrdDict['capacitor'][1]\n",
    "print 'RC=', tau,'s'"
   ]
  },
  {
   "cell_type": "markdown",
   "metadata": {},
   "source": [
    "#### 2) Charging Circuit"
   ]
  },
  {
   "cell_type": "code",
   "execution_count": 274,
   "metadata": {
    "collapsed": false
   },
   "outputs": [
    {
     "data": {
      "text/html": [
       "<table><tr><td>time(s)</td><td>deltaV (V)</td><td>1-deltaV/deltaV0</td><td>ln(1 - deltaV/deltaV0)</td></tr><tr><td>0.0</td><td>0.146</td><td>0.970409404135</td><td>-0.0300372304114</td></tr><tr><td>1.0</td><td>0.465</td><td>0.905755978922</td><td>-0.0989853481559</td></tr><tr><td>2.0</td><td>0.758</td><td>0.846372111877</td><td>-0.166796167527</td></tr><tr><td>3.0</td><td>1.031</td><td>0.791041751115</td><td>-0.234404529909</td></tr><tr><td>4.0</td><td>1.284</td><td>0.739764896636</td><td>-0.301422850513</td></tr><tr><td>5.0</td><td>1.522</td><td>0.691528171869</td><td>-0.368851388478</td></tr><tr><td>6.0</td><td>1.741</td><td>0.647142278071</td><td>-0.435189104375</td></tr><tr><td>7.0</td><td>1.948</td><td>0.605188488042</td><td>-0.50221531899</td></tr><tr><td>8.0</td><td>2.138</td><td>0.566680178354</td><td>-0.567960193736</td></tr><tr><td>9.0</td><td>2.318</td><td>0.530198621808</td><td>-0.634503584512</td></tr><tr><td>10.0</td><td>2.485</td><td>0.496351844345</td><td>-0.700470240137</td></tr><tr><td>11.0</td><td>2.642</td><td>0.464531820024</td><td>-0.766725219255</td></tr><tr><td>12.0</td><td>2.788</td><td>0.434941224159</td><td>-0.832544373899</td></tr><tr><td>13.0</td><td>2.924</td><td>0.407377381435</td><td>-0.898015296036</td></tr><tr><td>14.0</td><td>3.052</td><td>0.381434941224</td><td>-0.963814976944</td></tr><tr><td>15.0</td><td>3.173</td><td>0.356911228212</td><td>-1.03026818859</td></tr><tr><td>16.0</td><td>3.284</td><td>0.334414268342</td><td>-1.09537473019</td></tr><tr><td>17.0</td><td>3.389</td><td>0.313133360357</td><td>-1.16112610776</td></tr><tr><td>18.0</td><td>3.487</td><td>0.29327117957</td><td>-1.22665757046</td></tr><tr><td>19.0</td><td>3.579</td><td>0.274625050669</td><td>-1.29234856378</td></tr><tr><td>20.0</td><td>3.665</td><td>0.257194973652</td><td>-1.35792082937</td></tr><tr><td>21.0</td><td>3.745</td><td>0.24098094852</td><td>-1.4230374004</td></tr><tr><td>22.0</td><td>3.822</td><td>0.225374949331</td><td>-1.48998982228</td></tr><tr><td>23.0</td><td>3.892</td><td>0.211187677341</td><td>-1.55500807478</td></tr><tr><td>24.0</td><td>3.958</td><td>0.197811106607</td><td>-1.62044271068</td></tr><tr><td>25.0</td><td>4.02</td><td>0.18524523713</td><td>-1.68607472564</td></tr><tr><td>26.0</td><td>4.078</td><td>0.17349006891</td><td>-1.75163492095</td></tr><tr><td>27.0</td><td>4.132</td><td>0.162545601946</td><td>-1.81679668922</td></tr><tr><td>28.0</td><td>4.185</td><td>0.151803810296</td><td>-1.88516631357</td></tr><tr><td>29.0</td><td>4.231</td><td>0.142480745845</td><td>-1.94854840528</td></tr><tr><td>30.0</td><td>4.277</td><td>0.133157681394</td><td>-2.0162212786</td></tr><tr><td>31.0</td><td>4.317</td><td>0.125050668829</td><td>-2.07903627318</td></tr><tr><td>32.0</td><td>4.358</td><td>0.116740980949</td><td>-2.14779763639</td></tr><tr><td>33.0</td><td>4.395</td><td>0.109241994325</td><td>-2.21418972618</td></tr><tr><td>34.0</td><td>4.429</td><td>0.102351033644</td><td>-2.27934686781</td></tr><tr><td>35.0</td><td>4.463</td><td>0.0954600729631</td><td>-2.34904720307</td></tr><tr><td>36.0</td><td>4.492</td><td>0.0895824888529</td><td>-2.41259541501</td></tr><tr><td>37.0</td><td>4.522</td><td>0.0835022294285</td><td>-2.48288194774</td></tr><tr><td>38.0</td><td>4.55</td><td>0.0778273206323</td><td>-2.5532627445</td></tr><tr><td>39.0</td><td>4.575</td><td>0.0727604377787</td><td>-2.6205829086</td></tr><tr><td>40.0</td><td>4.598</td><td>0.0680989055533</td><td>-2.68679413713</td></tr></table>"
      ],
      "text/plain": [
       "[['time(s)', 'deltaV (V)', '1-deltaV/deltaV0', 'ln(1 - deltaV/deltaV0)'],\n",
       " [0.0, 0.14599999999999999, 0.97040940413457644, -0.03003723041143821],\n",
       " [1.0, 0.46500000000000002, 0.90575597892176729, -0.09898534815585054],\n",
       " [2.0, 0.75800000000000001, 0.84637211187677341, -0.16679616752682735],\n",
       " [3.0, 1.0309999999999999, 0.79104175111471431, -0.23440452990868693],\n",
       " [4.0, 1.284, 0.73976489663558986, -0.30142285051276474],\n",
       " [5.0, 1.522, 0.69152817186866633, -0.36885138847773236],\n",
       " [6.0, 1.7410000000000001, 0.64714227807053093, -0.43518910437452013],\n",
       " [7.0, 1.948, 0.60518848804215652, -0.5022153189901662],\n",
       " [8.0, 2.1379999999999999, 0.56668017835427653, -0.567960193735601],\n",
       " [9.0, 2.3180000000000001, 0.53019862180786381, -0.6345035845122127],\n",
       " [10.0, 2.4849999999999999, 0.49635184434535873, -0.7004702401371343],\n",
       " [11.0, 2.6419999999999999, 0.46453182002432103, -0.7667252192546719],\n",
       " [12.0, 2.7879999999999998, 0.43494122415889747, -0.8325443738986582],\n",
       " [13.0, 2.9239999999999999, 0.40737738143494129, -0.8980152960361805],\n",
       " [14.0, 3.052, 0.38143494122415889, -0.9638149769439771],\n",
       " [15.0, 3.173, 0.35691122821240373, -1.0302681885930958],\n",
       " [16.0, 3.2839999999999998, 0.33441426834211596, -1.0953747301946757],\n",
       " [17.0, 3.3889999999999998, 0.31313336035670858, -1.1611261077574562],\n",
       " [18.0, 3.4870000000000001, 0.29327117957032833, -1.2266575704578182],\n",
       " [19.0, 3.5790000000000002, 0.27462505066882847, -1.292348563775501],\n",
       " [20.0, 3.665, 0.25719497365220922, -1.357920829374914],\n",
       " [21.0, 3.7450000000000001, 0.24098094852047025, -1.42303740039852],\n",
       " [22.0, 3.8220000000000001, 0.22537494933117153, -1.489989822278774],\n",
       " [23.0, 3.8919999999999999, 0.21118767734089994, -1.5550080747759896],\n",
       " [24.0, 3.9580000000000002, 0.19781110660721524, -1.6204427106762096],\n",
       " [25.0, 4.0199999999999996, 0.18524523713011765, -1.6860747256351516],\n",
       " [26.0, 4.0780000000000003, 0.17349006890960683, -1.7516349209475597],\n",
       " [27.0, 4.1319999999999997, 0.16254560194568313, -1.816796689222787],\n",
       " [28.0, 4.1849999999999996, 0.15180381029590606, -1.8851663135720818],\n",
       " [29.0, 4.2309999999999999, 0.14248074584515613, -1.9485484052786366],\n",
       " [30.0, 4.2770000000000001, 0.1331576813944062, -2.016221278604691],\n",
       " [31.0, 4.3170000000000002, 0.12505066882853666, -2.0790362731839145],\n",
       " [32.0, 4.3579999999999997, 0.11674098094852059, -2.1477976363934097],\n",
       " [33.0, 4.3949999999999996, 0.1092419943250913, -2.214189726180304],\n",
       " [34.0, 4.4290000000000003, 0.10235103364410214, -2.2793468678139424],\n",
       " [35.0, 4.4630000000000001, 0.095460072963113096, -2.3490472030728844],\n",
       " [36.0, 4.492, 0.0895824888528578, -2.412595415011603],\n",
       " [37.0, 4.5220000000000002, 0.083502229428455643, -2.4828819477397754],\n",
       " [38.0, 4.5499999999999998, 0.077827320632347097, -2.553262744501574],\n",
       " [39.0, 4.5750000000000002, 0.072760437778678577, -2.620582908601023],\n",
       " [40.0, 4.5979999999999999, 0.068098905553303668, -2.686794137126097]]"
      ]
     },
     "execution_count": 274,
     "metadata": {},
     "output_type": "execute_result"
    }
   ],
   "source": [
    "import numpy as np\n",
    "import math\n",
    "\n",
    "data = np.loadtxt('/Users/tkrivosh/Downloads/Diatta-Bakr RC Circuit (1).txt', skiprows = 2) # assuming you have time and step information on 2 separate lines \n",
    "                                      # and you do not want to read them\n",
    "\n",
    "t=data[:,0]\n",
    "deltaV=data[:,1]\n",
    "tc = t[:41]\n",
    "deltaVc = deltaV[:41]\n",
    "log1deltaVdV0= np.empty(len(tc))\n",
    "table = ListTable()\n",
    "table.append(['time(s)','deltaV (V)','1-deltaV/deltaV0','ln(1 - deltaV/deltaV0)'])\n",
    "for i in range(0,41):\n",
    "    tt=tc[i]\n",
    "    vv=deltaVc[i]\n",
    "    vv2=1-deltaVc[i]/deltaVd[0]\n",
    "    log = math.log(vv2)\n",
    "    log1deltaVdV0[i]=log\n",
    "    table.append([tt, vv, vv2, log])\n",
    "table\n"
   ]
  },
  {
   "cell_type": "code",
   "execution_count": 276,
   "metadata": {
    "collapsed": false
   },
   "outputs": [
    {
     "data": {
      "text/html": [
       "<table><tr><td>time(s)</td><td>deltaV (V)</td><td>deltaV/deltaV0</td><td>ln(deltaV/deltaV0)</td></tr><tr><td>0.0</td><td>4.934</td><td>1.0</td><td>0.0</td></tr><tr><td>1.0</td><td>4.642</td><td>0.940818808269</td><td>-0.0610047102549</td></tr><tr><td>2.0</td><td>4.346</td><td>0.880826915282</td><td>-0.126894136273</td></tr><tr><td>3.0</td><td>4.07</td><td>0.824888528577</td><td>-0.192507018653</td></tr><tr><td>4.0</td><td>3.812</td><td>0.772598297527</td><td>-0.257996032315</td></tr><tr><td>5.0</td><td>3.573</td><td>0.724158897446</td><td>-0.322744439066</td></tr><tr><td>6.0</td><td>3.347</td><td>0.678354276449</td><td>-0.388085595878</td></tr><tr><td>7.0</td><td>3.138</td><td>0.635995135792</td><td>-0.452564363796</td></tr><tr><td>8.0</td><td>2.94</td><td>0.595865423591</td><td>-0.517740436757</td></tr><tr><td>9.0</td><td>2.756</td><td>0.558573165788</td><td>-0.582369664956</td></tr><tr><td>10.0</td><td>2.585</td><td>0.523915687069</td><td>-0.646424510147</td></tr><tr><td>11.0</td><td>2.424</td><td>0.491284961492</td><td>-0.7107309499</td></tr><tr><td>12.0</td><td>2.272</td><td>0.460478313741</td><td>-0.775489517248</td></tr><tr><td>13.0</td><td>2.131</td><td>0.431901094447</td><td>-0.839558664991</td></tr><tr><td>14.0</td><td>1.997</td><td>0.404742602351</td><td>-0.904503963673</td></tr><tr><td>15.0</td><td>1.875</td><td>0.380016214025</td><td>-0.967541358685</td></tr><tr><td>16.0</td><td>1.757</td><td>0.356100526956</td><td>-1.0325422089</td></tr><tr><td>17.0</td><td>1.648</td><td>0.334008917714</td><td>-1.09658758662</td></tr><tr><td>18.0</td><td>1.546</td><td>0.313336035671</td><td>-1.16047906794</td></tr><tr><td>19.0</td><td>1.45</td><td>0.293879205513</td><td>-1.22458646167</td></tr><tr><td>20.0</td><td>1.361</td><td>0.275841102554</td><td>-1.28793029444</td></tr><tr><td>21.0</td><td>1.276</td><td>0.258613700851</td><td>-1.35241983318</td></tr><tr><td>22.0</td><td>1.198</td><td>0.242805026348</td><td>-1.41549651841</td></tr><tr><td>23.0</td><td>1.123</td><td>0.227604377787</td><td>-1.48014634235</td></tr><tr><td>24.0</td><td>1.055</td><td>0.213822456425</td><td>-1.54260925118</td></tr><tr><td>25.0</td><td>0.991</td><td>0.200851236319</td><td>-1.60519076276</td></tr><tr><td>26.0</td><td>0.93</td><td>0.188488042156</td><td>-1.66872071094</td></tr><tr><td>27.0</td><td>0.872</td><td>0.176732873936</td><td>-1.73311587318</td></tr><tr><td>28.0</td><td>0.82</td><td>0.1661937576</td><td>-1.79460095683</td></tr><tr><td>29.0</td><td>0.769</td><td>0.155857316579</td><td>-1.85881432758</td></tr><tr><td>30.0</td><td>0.724</td><td>0.146736927442</td><td>-1.9191139047</td></tr><tr><td>31.0</td><td>0.679</td><td>0.137616538306</td><td>-1.98328416953</td></tr><tr><td>32.0</td><td>0.637</td><td>0.129104175111</td><td>-2.04713564152</td></tr><tr><td>33.0</td><td>0.598</td><td>0.12119983786</td><td>-2.11031454314</td></tr><tr><td>34.0</td><td>0.563</td><td>0.114106201865</td><td>-2.17062566895</td></tr><tr><td>35.0</td><td>0.529</td><td>0.107215241184</td><td>-2.23291686523</td></tr><tr><td>36.0</td><td>0.497</td><td>0.100729631131</td><td>-2.29531527099</td></tr><tr><td>37.0</td><td>0.467</td><td>0.0946493717065</td><td>-2.35757603942</td></tr><tr><td>38.0</td><td>0.439</td><td>0.0889744629104</td><td>-2.41940588401</td></tr></table>"
      ],
      "text/plain": [
       "[['time(s)', 'deltaV (V)', 'deltaV/deltaV0', 'ln(deltaV/deltaV0)'],\n",
       " [0.0, 4.9340000000000002, 1.0, 0.0],\n",
       " [1.0, 4.6420000000000003, 0.94081880826915287, -0.0610047102549196],\n",
       " [2.0, 4.3460000000000001, 0.88082691528171864, -0.12689413627292712],\n",
       " [3.0, 4.0700000000000003, 0.82488852857721928, -0.19250701865266137],\n",
       " [4.0, 3.8119999999999998, 0.77259829752736109, -0.2579960323152094],\n",
       " [5.0, 3.573, 0.72415889744629103, -0.32274443906589223],\n",
       " [6.0, 3.347, 0.67835427644912849, -0.3880855958779754],\n",
       " [7.0, 3.1379999999999999, 0.63599513579246048, -0.4525643637963241],\n",
       " [8.0, 2.9399999999999999, 0.59586542359140648, -0.5177404367565749],\n",
       " [9.0, 2.7559999999999998, 0.55857316578840688, -0.582369664955753],\n",
       " [10.0, 2.585, 0.52391568706931491, -0.6464245101467726],\n",
       " [11.0, 2.4239999999999999, 0.49128496149169026, -0.710730949900097],\n",
       " [12.0, 2.2719999999999998, 0.46047831374138626, -0.7754895172482601],\n",
       " [13.0, 2.1309999999999998, 0.43190109444669633, -0.839558664990685],\n",
       " [14.0, 1.9970000000000001, 0.40474260235103365, -0.9045039636734867],\n",
       " [15.0, 1.875, 0.38001621402513175, -0.9675413586847907],\n",
       " [16.0, 1.7569999999999999, 0.35610052695581673, -1.032542208902205],\n",
       " [17.0, 1.6479999999999999, 0.33400891771382241, -1.096587586619885],\n",
       " [18.0, 1.546, 0.31333603567085527, -1.1604790679419348],\n",
       " [19.0, 1.45, 0.29387920551276853, -1.224586461674682],\n",
       " [20.0, 1.361, 0.27584110255370897, -1.287930294437836],\n",
       " [21.0, 1.276, 0.25861370085123631, -1.352419833184567],\n",
       " [22.0, 1.198, 0.24280502634779083, -1.4154965184139074],\n",
       " [23.0, 1.123, 0.22760437778678555, -1.480146342350859],\n",
       " [24.0, 1.0549999999999999, 0.21382245642480743, -1.5426092511791352],\n",
       " [25.0, 0.99099999999999999, 0.20085123631941629, -1.605190762759314],\n",
       " [26.0, 0.93000000000000005, 0.18848804215646534, -1.6687207109420004],\n",
       " [27.0, 0.872, 0.1767328739359546, -1.7331158731803225],\n",
       " [28.0, 0.81999999999999995, 0.16619375760032426, -1.7946009568310033],\n",
       " [29.0, 0.76900000000000002, 0.15585731657884069, -1.8588143275836582],\n",
       " [30.0, 0.72399999999999998, 0.14673692744223751, -1.919113904703586],\n",
       " [31.0, 0.67900000000000005, 0.13761653830563439, -1.9832841695306058],\n",
       " [32.0, 0.63700000000000001, 0.12910417511147143, -2.0471356415171384],\n",
       " [33.0, 0.59799999999999998, 0.12119983785974868, -2.1103145431386703],\n",
       " [34.0, 0.56299999999999994, 0.11410620186461287, -2.170625668949612],\n",
       " [35.0, 0.52900000000000003, 0.10721524118362384, -2.2329168652310027],\n",
       " [36.0, 0.497, 0.10072963113092825, -2.295315270992673],\n",
       " [37.0, 0.46700000000000003, 0.094649371706526153, -2.3575760394204046],\n",
       " [38.0, 0.439, 0.088974462910417509, -2.4194058840141306]]"
      ]
     },
     "execution_count": 276,
     "metadata": {},
     "output_type": "execute_result"
    }
   ],
   "source": [
    "import math\n",
    "td = t[81:121]\n",
    "deltaVd = deltaV[81:121]\n",
    "deltaVdV0= np.empty(len(td))\n",
    "d= np.empty(len(td))\n",
    "table = ListTable()\n",
    "table.append(['time(s)','deltaV (V)','deltaV/deltaV0','ln(deltaV/deltaV0)'])\n",
    "for i in range(0,39):\n",
    "    ttt=td[i]-t[81]\n",
    "    vvv=deltaVd[i]\n",
    "    vv3=deltaVd[i]/deltaVd[0]\n",
    "    log1 =math.log(vv3)\n",
    "    deltaVdV0[i]=vv3\n",
    "    logdeltaVdV0[i]=log1\n",
    "    table.append([ttt, vvv, vv3, log1])\n",
    "table\n"
   ]
  },
  {
   "cell_type": "code",
   "execution_count": 275,
   "metadata": {
    "collapsed": false
   },
   "outputs": [
    {
     "name": "stdout",
     "output_type": "stream",
     "text": [
      "slope =  -0.0660663897617 1/s\n",
      "time constant charging= 15.136289475 s\n"
     ]
    }
   ],
   "source": [
    "x= tc\n",
    "y = log1deltaVdV0\n",
    "fit = np.polyfit(x,y,1)\n",
    "fit_fn = np.poly1d(fit)\n",
    "#plt.plot(x,y, 'yo', x, fit_fn(x), '--k')\n",
    "m,b = np.polyfit(x, y, 1)\n",
    "print 'slope = ',m, '1/s'\n",
    "tauc=-1/m\n",
    "print 'time constant charging=', tauc, 's'"
   ]
  },
  {
   "cell_type": "markdown",
   "metadata": {},
   "source": [
    "#### Discharging Circuit"
   ]
  },
  {
   "cell_type": "code",
   "execution_count": 277,
   "metadata": {
    "collapsed": false
   },
   "outputs": [
    {
     "name": "stdout",
     "output_type": "stream",
     "text": [
      "[  81.   82.   83.   84.   85.   86.   87.   88.   89.   90.   91.   92.\n",
      "   93.   94.   95.   96.   97.   98.   99.  100.  101.  102.  103.  104.\n",
      "  105.  106.  107.  108.  109.  110.  111.  112.  113.  114.  115.  116.\n",
      "  117.  118.  119.  120.]\n",
      "[  0.00000000e+00  -6.10047103e-02  -1.26894136e-01  -1.92507019e-01\n",
      "  -2.57996032e-01  -3.22744439e-01  -3.88085596e-01  -4.52564364e-01\n",
      "  -5.17740437e-01  -5.82369665e-01  -6.46424510e-01  -7.10730950e-01\n",
      "  -7.75489517e-01  -8.39558665e-01  -9.04503964e-01  -9.67541359e-01\n",
      "  -1.03254221e+00  -1.09658759e+00  -1.16047907e+00  -1.22458646e+00\n",
      "  -1.28793029e+00  -1.35241983e+00  -1.41549652e+00  -1.48014634e+00\n",
      "  -1.54260925e+00  -1.60519076e+00  -1.66872071e+00  -1.73311587e+00\n",
      "  -1.79460096e+00  -1.85881433e+00  -1.91911390e+00  -1.98328417e+00\n",
      "  -2.04713564e+00  -2.11031454e+00  -2.17062567e+00  -2.23291687e+00\n",
      "  -2.29531527e+00  -2.35757604e+00  -2.41940588e+00   1.20000000e+02]\n",
      "slope =  0.384377402778 1/s\n",
      "time constant discharging= -2.60160975326 s\n"
     ]
    }
   ],
   "source": [
    "x1= td\n",
    "y1 = logdeltaVdV0\n",
    "print x1\n",
    "print y1\n",
    "fit = np.polyfit(x1,y1,1)\n",
    "fit_fn = np.poly1d(fit)\n",
    "#plt.plot(x,y, 'yo', x, fit_fn(x), '--k')\n",
    "m1,b1 = np.polyfit(x1, y1, 1)\n",
    "print 'slope = ',m1, '1/s'\n",
    "taud=-1/m1\n",
    "print 'time constant discharging=', taud, 's'"
   ]
  }
 ],
 "metadata": {
  "kernelspec": {
   "display_name": "Python 2",
   "language": "python",
   "name": "python2"
  },
  "language_info": {
   "codemirror_mode": {
    "name": "ipython",
    "version": 2
   },
   "file_extension": ".py",
   "mimetype": "text/x-python",
   "name": "python",
   "nbconvert_exporter": "python",
   "pygments_lexer": "ipython2",
   "version": "2.7.11"
  }
 },
 "nbformat": 4,
 "nbformat_minor": 0
}
