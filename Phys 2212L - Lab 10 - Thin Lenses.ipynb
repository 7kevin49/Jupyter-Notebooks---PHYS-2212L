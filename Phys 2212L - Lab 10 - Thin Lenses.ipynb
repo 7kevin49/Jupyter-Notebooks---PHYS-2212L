{
 "cells": [
  {
   "cell_type": "markdown",
   "metadata": {},
   "source": [
    "# PHYS 2212L - Principles of Physics Laboratory II\n",
    "### Laboratory Advanced Sheet\n",
    "### Thin Lenses"
   ]
  },
  {
   "cell_type": "markdown",
   "metadata": {
    "collapsed": true
   },
   "source": [
    "**Objectives**. The objectives of this laboratory are\n",
    "* to be able to measure the focal length of a converging lens.\n",
    "* to test the predictions of the thin lens equation when more than one lens is used to produce an image of an object."
   ]
  },
  {
   "cell_type": "markdown",
   "metadata": {},
   "source": [
    "*Theory**.\n",
    "* The thin lens equation is\n",
    ">$$1/f = 1/p + 1/q$$\n",
    "where\n",
    ">>$f$ is the focal length of the lens,  \n",
    "$p$ is the object distance from the lens, and   \n",
    "$q$ is the image distance from the lens.\n",
    "\n",
    "* The following sign conventions are used with the lens equation:\n",
    "\n",
    "![Figure 1](http://localhost:8888/files/Physics%20Notebooks/Phys%202212%20-%20Handouts/Phys%202212L%20-%20Figures%20and%20Illustrations/Phys%202212L%20-%20Lab%2010-%20Figure%201.png \"Figure 1\")\n",
    "\n",
    "* Three methods will be used to estimate the focal length of two different convex lenses.\n",
    "    1. Object at infinity. If the lens is used to produce an image of a distant object, the object distance is large and 1/p approaches zero. Thus, for this case,\n",
    ">\\begin{equation}\n",
    "1/f = 1/q\\\\\n",
    "or\\\\\n",
    "f = q\n",
    "\\end{equation}\n",
    "As a result, measuring the image distance gives a good estimate of the focal length.        \n",
    "    2. Parallel beam shift. A laser beam is aligned to pass through the center of the lens. A slab of transparent material is then rotated in the beam in front of the lens. Refraction in the slab produces beams parallel to the central axis beam. Since parallel rays converge at the focal point of a lens, the distance from the lens to a screen can be varied until the rotation of the slab produces no motion in the position of the laser beam on the screen. When this condition is met, the image distance is equal to the focal length.\n",
    "    3. Measurement of the object and image distances, and calculation of the focal length. If these distances are measured, the focal length can be calculated directlly using the thin lens equation.\n",
    "* Using the focal lengths determined from the measurements described in paragraph 2c3) above, combinations of the two lens will be used to test the predictions of the thin lens equation. When multiple lenses are used, the image of the first lens becomes the object for the second lens. Thus, for two lenses, two applications of the thin lens equation will be required to predict the image position produced by both lenses. The predicted and measured positions of such images will be compared."
   ]
  },
  {
   "cell_type": "markdown",
   "metadata": {},
   "source": [
    "**Apparatus and experimental procedures**.\n",
    "* Equipment.\n",
    "    1. Optical bench with metric scale.\n",
    "    2. Lenses with focal lengths of approximately 10 and 20 cm.\n",
    "    3. Diode laser.\n",
    "    4. Acrylic slab.\n",
    "    5. Light source with object on face.\n",
    "    6. Image screen.\n",
    "* Experimental setup. A figure for the experimental setup will be provided by the student.\n",
    "* Capabilities. Capabilities of the equipment items listed in paragraph 3a will be provided by the student.\n",
    "* Procedures. Detailed instructions are provided in paragraph 4 below."
   ]
  },
  {
   "cell_type": "markdown",
   "metadata": {},
   "source": [
    "**Requirements**.\n",
    "* In the laboratory.\n",
    "    1. Your instructor will introduce you to the equipment to be used in the experiment.\n",
    "    2. Place one of the two lenses on the optical bench at the 0.0 cm position, adjust the image screen position until the image of a distant object is in focus on the screen. During daylight hours use an object located outside of the classroom on the campus grounds. At night use a member of your class located at one end of the hallway in the Business and Health Sciences Building. Record your results. Repeat the measurement three times. Repeat for the second lens.\n",
    "    3. Place one of the lenses at the 25.0 cm position on the optical bench. Align the beam of the diode laser along the central axis the lens. Rotate the acrylic block in the beam in front of the lens and adjust the position of the image screen so that the spot produced by the laser beam on the image screen does not move when the acrylic slab is rotated. Make three trials with each lens. Record your results.\n",
    "    4. Place the light source with object on its face at the 0.0 position on the optical bench. Place a lens at an object distance of several centimeters more than its focal length (Annex A provides suggested positions). Adjust the position of the image screen to produce a sharp focus. Record the positions of the object, lens and image for fifteen (15) trials. Repeat for the second lens.\n",
    "    5. Place the light source with object on its face at the 0.0 cm position on the optical bench. Place the image screen at a position of 80.0 cm on the optical bench.\n",
    "        1. Place the first lens at a position on the optical bench of approximately 5.0 cm less than its focal length. Adjust the second lens to produce a sharp image on the screen.\n",
    "        2. Move the first lens to an optical bench position approximately 1.0 cm greater than its focal length, find the position of the second lens required to produce a sharp image on the screen.\n",
    "        3. Move the first lens to an optical bench position approximately 5.0 cm greater than its focal length, find the position of the second lens required to produce a sharp image on the screen.\n",
    ">Switch the lenses and repeat these steps.\n",
    "    6. Your instructor will discuss methods to be used to prepare your data using the Microsoft ExcelTM spreadsheet program.\n",
    "* After the laboratory. The items listed below will be turned in at the beginning of the next laboratory period. A complete laboratory report is not required for this experiment."
   ]
  },
  {
   "cell_type": "markdown",
   "metadata": {},
   "source": [
    "**Para 3. Apparatus and experimental procedures**.\n",
    "1. Provide a figure of the experimental apparatus (para 3b).\n",
    "2. Provide descriptions of the capabilities of equipment used in the experiment (para 3c).\n",
    "\n",
    "**Para 4. Data**. Data tables are included at Annex A for recording measurements taken in the laboratory. A copy of these tables must be included with the lab report. Provide the items listed below in your report in\n",
    "the form a Microsoft ExcelTM spreadsheet showing data and calculations. The spreadsheet will include:\n",
    "1. A listing of the measured focal lengths of the two lenses using the object at infinity method. Calculate the mean, standard deviation and percent fractional error for the two sets of focal length data.\n",
    "2. A listing of the measured focal lengths of the two lenses using the diode laser and acrylic plate. Calculate the mean, standard deviation and percent fractional error for the two sets of focal length data.\n",
    "3. A table of the positions of the object, lens and image on the optical bench for the calculation method for determining the focal length.\n",
    "4. Calculation of the focal lengths for each of the fifteen measurements for each lens. Calculate the mean, standard deviation and percent fractional error for the focal length for each lens.\n",
    "5. Predictions of the positions of the image in the the two lenses experiments using the focal length data from the last set of calculations. Compare your calculations to the actual measured positions using the percent discrepancy statistic."
   ]
  },
  {
   "cell_type": "markdown",
   "metadata": {},
   "source": [
    "**Results and Conclusions**.\n",
    "* **Results**.\n",
    "    1. Provide a table of the focal lengths, standard deviations in focal length and percent fraction error for the three methods used to estimate the focal length.\n",
    "    2. Discuss the accuracy of the predictions of the image position calculations for the two lenses experiments.\n",
    "\n",
    "\n",
    "* **Conclusions**.\n",
    "    1. Provide a description of the sources of systematic error in the experiment.\n",
    "    2. Provide a description of the sources of random error in the experiment."
   ]
  },
  {
   "cell_type": "markdown",
   "metadata": {
    "collapsed": true
   },
   "source": [
    "___"
   ]
  },
  {
   "cell_type": "markdown",
   "metadata": {},
   "source": [
    "<h3 align='center'> Annex A </h3>\n",
    "<h3 align='center'> Data </h3>"
   ]
  },
  {
   "cell_type": "code",
   "execution_count": 1,
   "metadata": {
    "collapsed": true
   },
   "outputs": [],
   "source": [
    "class ListTable(list):\n",
    "    \"\"\" Overridden list class which takes a 2-dimensional list of \n",
    "        the form [[1,2,3],[4,5,6]], and renders an HTML Table in \n",
    "        IPython Notebook. \"\"\"\n",
    "    \n",
    "    def _repr_html_(self):\n",
    "        html = [\"<table>\"]\n",
    "        for row in self:\n",
    "            html.append(\"<tr>\")\n",
    "            \n",
    "            for col in row:\n",
    "                html.append(\"<td>{0}</td>\".format(col))\n",
    "            \n",
    "            html.append(\"</tr>\")\n",
    "        html.append(\"</table>\")\n",
    "        return ''.join(html)"
   ]
  },
  {
   "cell_type": "code",
   "execution_count": 2,
   "metadata": {
    "collapsed": true
   },
   "outputs": [],
   "source": [
    "import collections"
   ]
  },
  {
   "cell_type": "markdown",
   "metadata": {},
   "source": [
    "#### 1) Focal length determinations."
   ]
  },
  {
   "cell_type": "code",
   "execution_count": 3,
   "metadata": {
    "collapsed": false
   },
   "outputs": [
    {
     "ename": "SyntaxError",
     "evalue": "invalid syntax (<ipython-input-3-9a9543f99a33>, line 3)",
     "output_type": "error",
     "traceback": [
      "\u001b[1;36m  File \u001b[1;32m\"<ipython-input-3-9a9543f99a33>\"\u001b[1;36m, line \u001b[1;32m3\u001b[0m\n\u001b[1;33m    x_tuple = ((1,[,]),\u001b[0m\n\u001b[1;37m                   ^\u001b[0m\n\u001b[1;31mSyntaxError\u001b[0m\u001b[1;31m:\u001b[0m invalid syntax\n"
     ]
    }
   ],
   "source": [
    "# Object at infinity method.\n",
    "\n",
    "x_tuple = ((1,[,]),\n",
    "           (2,[,]),\n",
    "           (3,[,]))\n",
    "'''x_tuple = ((trial,[lens one focal length,lens two focal length]),...)'''\n",
    "\n",
    "x_OrdDict = collections.OrderedDict(x_tuple)\n",
    "\n",
    "table = ListTable()\n",
    "table.append(['trial','focal length (cm)',''])\n",
    "table.append(['','lens 1','lens 2'])\n",
    "for item in x_OrdDict:\n",
    "    table.append([item,\n",
    "                  x_OrdDict[item][0],\n",
    "                  x_OrdDict[item][1]])\n",
    "table"
   ]
  },
  {
   "cell_type": "code",
   "execution_count": 4,
   "metadata": {
    "collapsed": false
   },
   "outputs": [
    {
     "ename": "SyntaxError",
     "evalue": "invalid syntax (<ipython-input-4-a7e8a5c74961>, line 3)",
     "output_type": "error",
     "traceback": [
      "\u001b[1;36m  File \u001b[1;32m\"<ipython-input-4-a7e8a5c74961>\"\u001b[1;36m, line \u001b[1;32m3\u001b[0m\n\u001b[1;33m    x_tuple = ((1,[,]),\u001b[0m\n\u001b[1;37m                   ^\u001b[0m\n\u001b[1;31mSyntaxError\u001b[0m\u001b[1;31m:\u001b[0m invalid syntax\n"
     ]
    }
   ],
   "source": [
    "# Parallel beam shift method.\n",
    "\n",
    "x_tuple = ((1,[,]),\n",
    "           (2,[,]),\n",
    "           (3,[,]))\n",
    "'''x_tuple = ((trial,[lens one focal length,lens two focal length]),...)'''\n",
    "\n",
    "x_OrdDict = collections.OrderedDict(x_tuple)\n",
    "\n",
    "table = ListTable()\n",
    "table.append(['trial','focal length (cm)',''])\n",
    "table.append(['','lens 1','lens 2'])\n",
    "for item in x_OrdDict:\n",
    "    table.append([item,\n",
    "                  x_OrdDict[item][0],\n",
    "                  x_OrdDict[item][1]])\n",
    "table"
   ]
  },
  {
   "cell_type": "code",
   "execution_count": 5,
   "metadata": {
    "collapsed": false
   },
   "outputs": [
    {
     "ename": "IndexError",
     "evalue": "list index out of range",
     "output_type": "error",
     "traceback": [
      "\u001b[1;31m---------------------------------------------------------------------------\u001b[0m",
      "\u001b[1;31mIndexError\u001b[0m                                Traceback (most recent call last)",
      "\u001b[1;32m<ipython-input-5-1e2b8e31fdc5>\u001b[0m in \u001b[0;36m<module>\u001b[1;34m()\u001b[0m\n\u001b[0;32m     28\u001b[0m                   \u001b[0mx_OrdDict\u001b[0m\u001b[1;33m[\u001b[0m\u001b[0mitem\u001b[0m\u001b[1;33m]\u001b[0m\u001b[1;33m[\u001b[0m\u001b[1;36m0\u001b[0m\u001b[1;33m]\u001b[0m\u001b[1;33m,\u001b[0m\u001b[1;33m\u001b[0m\u001b[0m\n\u001b[0;32m     29\u001b[0m                   \u001b[0mx_OrdDict\u001b[0m\u001b[1;33m[\u001b[0m\u001b[0mitem\u001b[0m\u001b[1;33m]\u001b[0m\u001b[1;33m[\u001b[0m\u001b[1;36m1\u001b[0m\u001b[1;33m]\u001b[0m\u001b[1;33m,\u001b[0m\u001b[1;33m\u001b[0m\u001b[0m\n\u001b[1;32m---> 30\u001b[1;33m                   x_OrdDict[item][2]])\n\u001b[0m\u001b[0;32m     31\u001b[0m \u001b[0mtable\u001b[0m\u001b[1;33m\u001b[0m\u001b[0m\n",
      "\u001b[1;31mIndexError\u001b[0m: list index out of range"
     ]
    }
   ],
   "source": [
    "# Object and image distance measurement method.\n",
    "\n",
    "# 1) Lens with smaller focal length.\n",
    "\n",
    "x_tuple = ((1,[0.0,12.0,]),\n",
    "           (2,[0.0,13.0,]),\n",
    "           (3,[0.0,14.0,]),\n",
    "           (4,[0.0,15.0,]),\n",
    "           (5,[0.0,16.0,]),\n",
    "           (6,[0.0,17.0,]),\n",
    "           (7,[0.0,18.0,]),\n",
    "           (8,[0.0,19.0,]),\n",
    "           (9,[0.0,20.0,]),\n",
    "           (10,[0.0,25.0,]),\n",
    "           (11,[0.0,30.0,]),\n",
    "           (12,[0.0,35.0,]),\n",
    "           (13,[0.0,40.0,]),\n",
    "           (14,[0.0,45.0,]),\n",
    "           (15,[0.0,50.0,]))\n",
    "'''x_tuple = ((trial,[position of object,position of lens,position of image]),...)'''\n",
    "\n",
    "x_OrdDict = collections.OrderedDict(x_tuple)\n",
    "\n",
    "table = ListTable()\n",
    "table.append(['trial','position of object (cm)','position of lens (cm)','position of image (cm)'])\n",
    "for item in x_OrdDict:\n",
    "    table.append([item,\n",
    "                  x_OrdDict[item][0],\n",
    "                  x_OrdDict[item][1],\n",
    "                  x_OrdDict[item][2]])\n",
    "table"
   ]
  },
  {
   "cell_type": "code",
   "execution_count": 6,
   "metadata": {
    "collapsed": false
   },
   "outputs": [
    {
     "ename": "IndexError",
     "evalue": "list index out of range",
     "output_type": "error",
     "traceback": [
      "\u001b[1;31m---------------------------------------------------------------------------\u001b[0m",
      "\u001b[1;31mIndexError\u001b[0m                                Traceback (most recent call last)",
      "\u001b[1;32m<ipython-input-6-bd0f7afae511>\u001b[0m in \u001b[0;36m<module>\u001b[1;34m()\u001b[0m\n\u001b[0;32m     26\u001b[0m                   \u001b[0mx_OrdDict\u001b[0m\u001b[1;33m[\u001b[0m\u001b[0mitem\u001b[0m\u001b[1;33m]\u001b[0m\u001b[1;33m[\u001b[0m\u001b[1;36m0\u001b[0m\u001b[1;33m]\u001b[0m\u001b[1;33m,\u001b[0m\u001b[1;33m\u001b[0m\u001b[0m\n\u001b[0;32m     27\u001b[0m                   \u001b[0mx_OrdDict\u001b[0m\u001b[1;33m[\u001b[0m\u001b[0mitem\u001b[0m\u001b[1;33m]\u001b[0m\u001b[1;33m[\u001b[0m\u001b[1;36m1\u001b[0m\u001b[1;33m]\u001b[0m\u001b[1;33m,\u001b[0m\u001b[1;33m\u001b[0m\u001b[0m\n\u001b[1;32m---> 28\u001b[1;33m                   x_OrdDict[item][2]])\n\u001b[0m\u001b[0;32m     29\u001b[0m \u001b[0mtable\u001b[0m\u001b[1;33m\u001b[0m\u001b[0m\n",
      "\u001b[1;31mIndexError\u001b[0m: list index out of range"
     ]
    }
   ],
   "source": [
    "# 2) Lens with larger focal length.\n",
    "\n",
    "x_tuple = ((1,[0.0,26.0,]),\n",
    "           (2,[0.0,27.0,]),\n",
    "           (3,[0.0,28.0,]),\n",
    "           (4,[0.0,29.0,]),\n",
    "           (5,[0.0,30.0,]),\n",
    "           (6,[0.0,35.0,]),\n",
    "           (7,[0.0,40.0,]),\n",
    "           (8,[0.0,45.0,]),\n",
    "           (9,[0.0,50.0,]),\n",
    "           (10,[0.0,55.0,]),\n",
    "           (11,[0.0,60.0,]),\n",
    "           (12,[0.0,65.0,]),\n",
    "           (13,[0.0,70.0,]),\n",
    "           (14,[0.0,75.0,]),\n",
    "           (15,[0.0,80.0,]))\n",
    "'''x_tuple = ((trial,[position of object,position of lens,position of image]),...)'''\n",
    "\n",
    "x_OrdDict = collections.OrderedDict(x_tuple)\n",
    "\n",
    "table = ListTable()\n",
    "table.append(['trial','position of object (cm)','position of lens (cm)','position of image (cm)'])\n",
    "for item in x_OrdDict:\n",
    "    table.append([item,\n",
    "                  x_OrdDict[item][0],\n",
    "                  x_OrdDict[item][1],\n",
    "                  x_OrdDict[item][2]])\n",
    "table"
   ]
  },
  {
   "cell_type": "markdown",
   "metadata": {},
   "source": [
    "#### 2) Two lenses experiments."
   ]
  },
  {
   "cell_type": "code",
   "execution_count": 7,
   "metadata": {
    "collapsed": false
   },
   "outputs": [
    {
     "ename": "SyntaxError",
     "evalue": "invalid syntax (<ipython-input-7-a7417bc8f448>, line 3)",
     "output_type": "error",
     "traceback": [
      "\u001b[1;36m  File \u001b[1;32m\"<ipython-input-7-a7417bc8f448>\"\u001b[1;36m, line \u001b[1;32m3\u001b[0m\n\u001b[1;33m    x_tuple = ((1,[,,,]),\u001b[0m\n\u001b[1;37m                   ^\u001b[0m\n\u001b[1;31mSyntaxError\u001b[0m\u001b[1;31m:\u001b[0m invalid syntax\n"
     ]
    }
   ],
   "source": [
    "# Lens with smaller focal length nearest to object.\n",
    "\n",
    "x_tuple = ((1,[,,,]),\n",
    "           (2,[,,,]),\n",
    "           (3,[,,,]))\n",
    "'''x_tuple = ((trial,[position of object,position of lens 1,position of lens 1,position of image]),...)'''\n",
    "\n",
    "x_OrdDict = collections.OrderedDict(x_tuple)\n",
    "\n",
    "table = ListTable()\n",
    "table.append(['trial',\n",
    "              'object position (cm)',\n",
    "              '1st lens position (cm)',\n",
    "              '2nd lens position (cm)',\n",
    "              'position of image (cm)'])\n",
    "for item in x_OrdDict:\n",
    "    table.append([item,\n",
    "                  x_OrdDict[item][0],\n",
    "                  x_OrdDict[item][1],\n",
    "                  x_OrdDict[item][2],\n",
    "                  x_OrdDict[item][3]])\n",
    "table"
   ]
  },
  {
   "cell_type": "code",
   "execution_count": 8,
   "metadata": {
    "collapsed": false
   },
   "outputs": [
    {
     "ename": "SyntaxError",
     "evalue": "invalid syntax (<ipython-input-8-30db105364d6>, line 3)",
     "output_type": "error",
     "traceback": [
      "\u001b[1;36m  File \u001b[1;32m\"<ipython-input-8-30db105364d6>\"\u001b[1;36m, line \u001b[1;32m3\u001b[0m\n\u001b[1;33m    x_tuple = ((1,[,,,]),\u001b[0m\n\u001b[1;37m                   ^\u001b[0m\n\u001b[1;31mSyntaxError\u001b[0m\u001b[1;31m:\u001b[0m invalid syntax\n"
     ]
    }
   ],
   "source": [
    "# Lens with larger focal length nearest to object.\n",
    "\n",
    "x_tuple = ((1,[,,,]),\n",
    "           (2,[,,,]),\n",
    "           (3,[,,,]))\n",
    "'''x_tuple = ((trial,[position of object,position of lens 1,position of lens 1,position of image]),...)'''\n",
    "\n",
    "x_OrdDict = collections.OrderedDict(x_tuple)\n",
    "\n",
    "table = ListTable()\n",
    "table.append(['trial',\n",
    "              'object position (cm)',\n",
    "              '1st lens position (cm)',\n",
    "              '2nd lens position (cm)',\n",
    "              'position of image (cm)'])\n",
    "for item in x_OrdDict:\n",
    "    table.append([item,\n",
    "                  x_OrdDict[item][0],\n",
    "                  x_OrdDict[item][1],\n",
    "                  x_OrdDict[item][2],\n",
    "                  x_OrdDict[item][3]])\n",
    "table"
   ]
  },
  {
   "cell_type": "markdown",
   "metadata": {},
   "source": [
    "___\n",
    "___"
   ]
  }
 ],
 "metadata": {
  "kernelspec": {
   "display_name": "Python 3",
   "language": "python",
   "name": "python3"
  },
  "language_info": {
   "codemirror_mode": {
    "name": "ipython",
    "version": 3
   },
   "file_extension": ".py",
   "mimetype": "text/x-python",
   "name": "python",
   "nbconvert_exporter": "python",
   "pygments_lexer": "ipython3",
   "version": "3.4.3"
  }
 },
 "nbformat": 4,
 "nbformat_minor": 0
}
