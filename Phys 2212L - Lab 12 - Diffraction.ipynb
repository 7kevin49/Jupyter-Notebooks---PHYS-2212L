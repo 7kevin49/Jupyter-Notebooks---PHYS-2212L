{
 "cells": [
  {
   "cell_type": "markdown",
   "metadata": {},
   "source": [
    "# PHYS 2212L - Principles of Physics Laboratory II\n",
    "### Laboratory Advanced Sheet\n",
    "### Diffraction"
   ]
  },
  {
   "cell_type": "markdown",
   "metadata": {
    "collapsed": true
   },
   "source": [
    "**Objectives**. The objectives of this laboratory are\n",
    "* To be able use a diffraction grating to measure the wavelength of light incident upon it.\n",
    "* To be able to determine the width of a slit using single-slit diffraction measurements.\n",
    "* To be able to measure its number of lines (grooves) per unit length of a reflection diffraction grating."
   ]
  },
  {
   "cell_type": "markdown",
   "metadata": {},
   "source": [
    "**Theory**.\n",
    "* When monochromatic, coherent light is perpendicularly incident upon a diffraction grating, an interference pattern is produced that obeys\n",
    ">\\begin{equation}\n",
    "m \\lambda = d sin \\theta\\\\\n",
    "with\\\\\n",
    "m = 0, 1, 2, 3, ...\n",
    "\\end{equation}\n",
    "where\n",
    ">>$m$ is the order of the maxima of the interference pattern,   \n",
    "$\\lambda$ is the wavelength of the incident light,   \n",
    "$d$ is the spacing distance between the lines of the diffraction grating, and   \n",
    "$\\theta$ is the angle of the $m^{th}$ maxima measured with respect to the normal to the plane of the grating.\n",
    "\n",
    "* The condition for minima of a single-slit diffraction pattern is given by\n",
    ">\\begin{equation}\n",
    "m \\lambda = a sin \\theta\\\\\n",
    "with\\\\\n",
    "m = 0, 1, 2, 3, ...\n",
    "\\end{equation}\n",
    "where\n",
    ">>$m$ is the order of the diffraction pattern minima,   \n",
    "$\\lambda$ is the wavelength of the light incident on the slit,   \n",
    "$a$ is the width of the slit, and   \n",
    "$\\theta$ is the angle of the mth minima measured with respect to the normal to the plane.\n",
    "\n",
    "* Three experiments will be performed:\n",
    "    1. Determination of the wavelength of a He-Ne laser. The distance from the central maximum to the first order maximum in the interference pattern produced by a grating with a known number of lines per unit length will be measured from a projection of the pattern on a wall. This distance, along with the distance from the grating to the wall, will be used to determine the sine of the angle to the m = 1 maximum. The wavelength will be calculated using\n",
    "$$\\lambda = d sin \\theta$$\n",
    "The value of the measured wavelength will be compared to the actual wavelength of a He-Ne laser, 632.8 nm.  \n",
    "    2. Measurement of slit width. The single-slit diffraction patterns produced by slits of varying widths will be examined by projecting the patterns on a wall and measuring the distance to the wall from the slit and the distance between the central maximim and first minimum of the diffraction pattern. These distances will be used to determine the sine of the angle to the m = 1 minimum. The width of the slit will be then be determined using\n",
    "$$a = \\lambda / sin \\theta$$\n",
    "The measured values for the slit widths will be compared to the manufacturer's values.\n",
    "    3. Number of lines (grooves) per unit length using a reflection diffraction grating. The spacing of grooves of a compact disk (CD) will be measured. A CD will be used as a reflection grating. Distances to determine the sine of the angle to the first maximum of a reflected interference pattern will be measured. The spacing between adjacent grooves will be determined using\n",
    "$$d = \\lambda / sin \\theta$$\n",
    "From this value the number of grooves per unit length will be determined."
   ]
  },
  {
   "cell_type": "markdown",
   "metadata": {},
   "source": [
    "**Apparatus and experimental procedures**.\n",
    "* Equipment.\n",
    "    1. Optical bench with rotating mount stand.\n",
    "    2. Diffraction grating (600 lines per mm)\n",
    "    3. Set of single slits.\n",
    "    4. Compact disk\n",
    "    5. He-Ne laser.\n",
    "    6. Meter stick.\n",
    "    7. Paper.\n",
    "    8. Tape.\n",
    "    9. Light.\n",
    "* Experimental setup. A figure for the experimental setup will be provided by the student.\n",
    "* Capabilities. Capabilities of the equipment items listed in paragraph 3a will be provided by the student.\n",
    "* Procedures. Detailed instructions are provided in paragraph 4 below."
   ]
  },
  {
   "cell_type": "markdown",
   "metadata": {},
   "source": [
    "**Requirements**.\n",
    "* In the laboratory.\n",
    "    1. Your instructor will introduce you to the equipment to be used in the experiment.\n",
    "    2. Align the laser beam so that it is perpendicular to the diffraction grating and produce an interference pattern on a piece of paper taped to a wall of the lab room at a distance of approximately six (6) meters (measure this distance and estimate its uncertainty).\n",
    "    3. Mark the position of the central maximum on the paper and the m = 1 maximum on one side of the central maximum. Measure the distance between the central maximum and the first maximum. Estimate the uncertainty in this measurement.\n",
    "    4. Replace the diffraction grating with the set of single slits. Align the largest slit and the laser for perpendicular incidence. If you did not change the position of the stand on the optical bench, you can use the distance to the wall measured in paragraph 4a2) above; otherwise, measure this distance and estimate its uncertainty.\n",
    "    5. Mark the position of the central maximum on the paper and the m = 1 minimum on one side of the central maximum. Measure the distance between the central maximum and the first minimum. Estimate the uncertainty in this measurement.\n",
    "    6. Repeat for the three remaining slit widths.\n",
    "    7. Attach a segment of a compact disk to the rotating mount. Align the CD and the laser beam for perpendicular incidence (shiny side of CD facing towards the laser) and produce a reflected interference pattern on a wall of the lab room at a distance of approximately one (1) meter (measure this distance and estimate its uncertainty).\n",
    "    8. Mark the position of the central maximum on the paper and the m = 1 maximum on one side of the central maximum. Measure the distance between the central maximum and the first maximum. Estimate the uncertainty in this measurement\n",
    "    9. Record your data in the tables provided in Annex A.\n",
    "* After the laboratory. The items listed below will be turned in at the beginning of the next laboratory period. A complete laboratory report is not required for this experiment."
   ]
  },
  {
   "cell_type": "markdown",
   "metadata": {},
   "source": [
    "**Para 3. Apparatus and experimental procedures**.\n",
    "1. Provide a figure of the experimental apparatus (para 3b).\n",
    "2. Provide descriptions of the capabilities of equipment used in the experiment (para 3c).\n",
    "\n",
    "**Para 4. Data**. Data tables are included at Annex A for recording measurements taken in the laboratory. A copy of these tables must be included with the lab report. Provide the items listed below in your report in the form a Microsoft ExcelTM spreadsheet showing data and calculations. The spreadsheet will include:\n",
    "1. Experiment 1:\n",
    "    1. The values of L (distance to wall) and y (distance between central and first maxima) and their uncertainties.\n",
    "    2. Calculation of the wavelength of the laser beam and its uncertainty.\n",
    "    3. Calculation of the percent fractional error in the wavelength.\n",
    "    4. Calculation of the percent discrepancy in the wavelength.\n",
    "2. Experiment 2:\n",
    "    1. The values of L (distance to wall) and 2y (distance between first minima on either side of the central maximum) and their uncertainties.\n",
    "    2. Calculation of the slit widths and uncertainties for four (4) different slits.\n",
    "    3. Calculation of the percent fractional error in the slit widths.\n",
    "    4. Calculation of the percent discrepancy in the slit widths.\n",
    "3. Experiment 3:\n",
    "    1. The values of L (distance to wall) and y (distance between central and first maxima) and their uncertainties.\n",
    "    2. Calculation of the groove spacing distance and its uncertainty.\n",
    "    3. Calculation of the number of grooves per unit length and its uncertainty in units of # of grooves/mm.\n",
    "    4. Calculation of the percent fractional error in the # of grooves/mm."
   ]
  },
  {
   "cell_type": "markdown",
   "metadata": {},
   "source": [
    "**Results and Conclusions**.\n",
    "* **Results**.\n",
    "    1. Provide a statement of the measured wavelength of the He-Ne laser, its uncertainty, percent fractional error and percent discrepancy.\n",
    "    2. Provide a table of the nominal and measured slit widths, their uncertainties, percent fractional errors and percent discrepancies.\n",
    "    3. Provide a statement of the number of grooves per unit length, its uncertainty and percent fractional error for the compact disk.\n",
    "    \n",
    "    \n",
    "* **Conclusions**.\n",
    "    1. Identify the dominant source of error in the experiments to determine the wavelength of the laser and the single-slit widths.\n",
    "    2. Provide a description of the sources of systematic error in the experiments.\n",
    "    3. Provide a description of the sources of random error in the experiments."
   ]
  },
  {
   "cell_type": "markdown",
   "metadata": {
    "collapsed": true
   },
   "source": [
    "___"
   ]
  },
  {
   "cell_type": "markdown",
   "metadata": {},
   "source": [
    "<h3 align='center'> Annex A </h3>\n",
    "<h3 align='center'> Data </h3>"
   ]
  },
  {
   "cell_type": "code",
   "execution_count": 1,
   "metadata": {
    "collapsed": true
   },
   "outputs": [],
   "source": [
    "class ListTable(list):\n",
    "    \"\"\" Overridden list class which takes a 2-dimensional list of \n",
    "        the form [[1,2,3],[4,5,6]], and renders an HTML Table in \n",
    "        IPython Notebook. \"\"\"\n",
    "    \n",
    "    def _repr_html_(self):\n",
    "        html = [\"<table>\"]\n",
    "        for row in self:\n",
    "            html.append(\"<tr>\")\n",
    "            \n",
    "            for col in row:\n",
    "                html.append(\"<td>{0}</td>\".format(col))\n",
    "            \n",
    "            html.append(\"</tr>\")\n",
    "        html.append(\"</table>\")\n",
    "        return ''.join(html)"
   ]
  },
  {
   "cell_type": "code",
   "execution_count": 2,
   "metadata": {
    "collapsed": true
   },
   "outputs": [],
   "source": [
    "import collections"
   ]
  },
  {
   "cell_type": "markdown",
   "metadata": {},
   "source": [
    "#### 1) Experiment 1."
   ]
  },
  {
   "cell_type": "code",
   "execution_count": 5,
   "metadata": {
    "collapsed": false
   },
   "outputs": [],
   "source": [
    "\n",
    "lin_mm = # grating number lines/mm \n",
    "\n",
    "L = # cm\n",
    "err_L = # cm\n",
    "y = # cm\n",
    "err_y = # cm"
   ]
  },
  {
   "cell_type": "markdown",
   "metadata": {},
   "source": [
    "#### 2) Experiment 2."
   ]
  },
  {
   "cell_type": "code",
   "execution_count": 3,
   "metadata": {
    "collapsed": false
   },
   "outputs": [
    {
     "ename": "SyntaxError",
     "evalue": "invalid syntax (<ipython-input-3-6f61bbfd580e>, line 1)",
     "output_type": "error",
     "traceback": [
      "\u001b[1;36m  File \u001b[1;32m\"<ipython-input-3-6f61bbfd580e>\"\u001b[1;36m, line \u001b[1;32m1\u001b[0m\n\u001b[1;33m    L = # cm\u001b[0m\n\u001b[1;37m            ^\u001b[0m\n\u001b[1;31mSyntaxError\u001b[0m\u001b[1;31m:\u001b[0m invalid syntax\n"
     ]
    }
   ],
   "source": [
    "L = # cm\n",
    "err_L = # cm\n",
    "\n",
    "x_tuple = ((0.16,[,]),\n",
    "           (0.08,[,]),\n",
    "           (0.04,[,]),\n",
    "           (0.02,[,]))\n",
    "'''x_tuple = ((nominal a,[2y,uncertainty in 2y]),...)'''\n",
    "\n",
    "x_OrdDict = collections.OrderedDict(x_tuple)\n",
    "\n",
    "table = ListTable()\n",
    "table.append(['nominal a (mm)','2y (cm)','$\\delta$ (2y) (cm)'])\n",
    "for item in x_OrdDict:\n",
    "    table.append([item,\n",
    "                  x_OrdDict[item][0],\n",
    "                  x_OrdDict[item][1]])\n",
    "table"
   ]
  },
  {
   "cell_type": "markdown",
   "metadata": {},
   "source": [
    "#### 3) Experiment 3."
   ]
  },
  {
   "cell_type": "code",
   "execution_count": 4,
   "metadata": {
    "collapsed": false
   },
   "outputs": [
    {
     "ename": "SyntaxError",
     "evalue": "invalid syntax (<ipython-input-4-a311f7b33f9e>, line 1)",
     "output_type": "error",
     "traceback": [
      "\u001b[1;36m  File \u001b[1;32m\"<ipython-input-4-a311f7b33f9e>\"\u001b[1;36m, line \u001b[1;32m1\u001b[0m\n\u001b[1;33m    L = # cm\u001b[0m\n\u001b[1;37m            ^\u001b[0m\n\u001b[1;31mSyntaxError\u001b[0m\u001b[1;31m:\u001b[0m invalid syntax\n"
     ]
    }
   ],
   "source": [
    "L = # cm\n",
    "err_L = # cm\n",
    "y = # cm\n",
    "err_y = # cm"
   ]
  },
  {
   "cell_type": "code",
   "execution_count": null,
   "metadata": {
    "collapsed": true
   },
   "outputs": [],
   "source": []
  }
 ],
 "metadata": {
  "kernelspec": {
   "display_name": "Python 3",
   "language": "python",
   "name": "python3"
  },
  "language_info": {
   "codemirror_mode": {
    "name": "ipython",
    "version": 3
   },
   "file_extension": ".py",
   "mimetype": "text/x-python",
   "name": "python",
   "nbconvert_exporter": "python",
   "pygments_lexer": "ipython3",
   "version": "3.4.3"
  }
 },
 "nbformat": 4,
 "nbformat_minor": 0
}
