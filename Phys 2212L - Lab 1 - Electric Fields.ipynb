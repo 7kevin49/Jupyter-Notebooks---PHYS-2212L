{
 "cells": [
  {
   "cell_type": "markdown",
   "metadata": {},
   "source": [
    "# PHYS 2212L - Principles of Physics Laboratory II\n",
    "### Laboratory Advanced Sheet\n",
    "### Electric Fields"
   ]
  },
  {
   "cell_type": "markdown",
   "metadata": {
    "collapsed": true
   },
   "source": [
    "**Objective**. The objective of this laboratory exercise is to study the electric fields due to various shaped charge distributions."
   ]
  },
  {
   "cell_type": "markdown",
   "metadata": {},
   "source": [
    "**Theory**. The apparatus that we will use for this experiment maps out equipotential lines, i.e. lines for which the electric potential, V, is a constant. Since equipotential lines are always perpendicular to electric field lines, the equipotential lines give an indication of the direction of the electric field lines and the magnitude of the electric field."
   ]
  },
  {
   "cell_type": "markdown",
   "metadata": {},
   "source": [
    "**Apparatus and Experimental Procedure**.\n",
    "* Equipment.\n",
    "    1. Overbeck field apparatus with templates\n",
    "    2. Galvanometer \n",
    "    3. Wires \n",
    "    4. Power supply \n",
    "    5. Paper\n",
    "* Procedure.\n",
    "    1. Secure one potential source, one Overbeck electric field apparatus, one galvanometer, several wires, and several pieces of paper.\n",
    "    2. Turn the field mapping board over and attach a field plate to bottom (silvery side facing out) with plastic-headed thumb screws.\n",
    "    3. Connect the potential source to the two binding posts on the upper side marked \"Bat. or Osc.\".\n",
    "    4. Fasten a sheet of 8.5\"x11\" paper to the upper side of the board.\n",
    "    5. Select a design template containing the field plate configuration that you have chosen, place it on the two metal projections, and trace the appropriate design. Remove the template.\n",
    "    6. Connect a wire to the first potential port and fasten other end to one side of galvanometer.\n",
    "    7. Connect another wire to the U-shaped probe and the other end of the galvanometer.\n",
    "    8. Carefully slide the U-shaped probe onto the mapping board with the ball end on the underside.\n",
    "    9. Turn the potential source on to somewhere between 2 V and 6 V.\n",
    "    10. Gently glide the probe over surface until the galvanometer reads 0. Mark this spot on paper through the center of the hole on the top of the probe.\n",
    "    11. Move probe to another spot where meter reads 0. Mark this spot. Repeat until you have mapped out an equipotential line.\n",
    "    12. Connect probe to the second potential port and repeat steps 10-11. Do this for all of the potential ports.\n",
    "    13. Connect points of equal potential to form equipotential lines. Draw in electric field lines\n",
    "    14. Repeat this procedure for three additional plates."
   ]
  },
  {
   "cell_type": "markdown",
   "metadata": {},
   "source": [
    "**Requirements**. \n",
    "* In the laboratory.\n",
    "    1. Your instructor will introduce you to the equipment to be used in the experiment.\n",
    "    2. Equipotential field lines will be drawn for four different conductor configurations.\n",
    "* After the laboratory. A laboratory report is not required."
   ]
  },
  {
   "cell_type": "markdown",
   "metadata": {},
   "source": [
    "<div style=\"text-align: center;\" markdown=\"1\">On each page of equipotential lines, draw electric field lines and upload image in the following cell.. </div>"
   ]
  },
  {
   "cell_type": "code",
   "execution_count": null,
   "metadata": {
    "collapsed": true
   },
   "outputs": [],
   "source": []
  }
 ],
 "metadata": {
  "kernelspec": {
   "display_name": "Python 3",
   "language": "python",
   "name": "python3"
  },
  "language_info": {
   "codemirror_mode": {
    "name": "ipython",
    "version": 3
   },
   "file_extension": ".py",
   "mimetype": "text/x-python",
   "name": "python",
   "nbconvert_exporter": "python",
   "pygments_lexer": "ipython3",
   "version": "3.4.3"
  }
 },
 "nbformat": 4,
 "nbformat_minor": 0
}
