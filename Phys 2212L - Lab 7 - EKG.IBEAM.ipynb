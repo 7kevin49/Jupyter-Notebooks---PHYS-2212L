{
 "cells": [
  {
   "cell_type": "markdown",
   "metadata": {},
   "source": [
    "# PHYS 2212L - Principles of Physics Laboratory II\n",
    "### Laboratory Advanced Sheet\n",
    "### EKG Lab (IBEAM)"
   ]
  },
  {
   "cell_type": "markdown",
   "metadata": {
    "collapsed": true
   },
   "source": [
    "**Objectives**. The objectives of this laboratory are\n",
    "* to study the electrical activity of human heart\n",
    "* to observe how mild exercise and mild stimulants affect the electrical activity of human heart"
   ]
  },
  {
   "cell_type": "markdown",
   "metadata": {},
   "source": [
    "**Theory**.\n",
    "An EKG, also called an electrocardiogram or ECG, is a reading of the electrical signal generated from the heart. In a hospital, one usually observes an EKG on a computer monitor, oscilloscope, or printed strip. The EKG tells the doctor whether the heart’s rhythm and electrical conduction is normal or if further heart tests are necessary.\n",
    "\n",
    "With each heart beat, the pacemaker of the heart (called the SA node) conducts electricity. The electrical current travels from the SA node in the right upper chamber of the heart down to the two lower chambers, the ventricles, of the heart. The electrical activity always precedes each contraction. Electrodes placed throughout the body record the signal generated from the heart. A normal EKG signal typically has five waves:\n",
    "  \n",
    "**P wave** - represents the electrical signal in the upper chambers ( depolarization of the atria) of the heart and occurs before the atria contract to squeeze blood into the lower chambers (the ventricles). Repolarization of the atria is hidden by the QRS wave.\n",
    "\n",
    "**QRS wave** - represents the electrical signal that occurs before the ventricles squeeze blood out through the aorta and to the body ( depolarization of the ventricles).\n",
    "\n",
    "**T wave** - represents the electrical signal that occurs just before the upper chambers of the heart expand and refill with blood ( repolarization\n",
    "of the ventricles).\n",
    "\n",
    "Some typical times for portions of the EKG:  \n",
    "* P-R Interval: 120-200 milliseconds  \n",
    "* QRS Interval: under 100 milliseconds  \n",
    "* Q-T interval: under 380 milliseconds"
   ]
  },
  {
   "cell_type": "markdown",
   "metadata": {},
   "source": [
    "**Apparatus and experimental procedures**.\n",
    "* Equipment.\n",
    "    1. EKG sensor with electrode patches.\n",
    "    2. Computer interface with computer.\n",
    "* Experimental setup. A figure for the experimental setup will be provided by the student.\n",
    "* Capabilities. Capabilities of the equipment items listed in paragraph 3a will be provided by the student.\n",
    "* Procedures. Detailed instructions are provided in paragraph 4 below."
   ]
  },
  {
   "cell_type": "markdown",
   "metadata": {},
   "source": [
    "**Requirements**.\n",
    "* In the laboratory.\n",
    "    1. Your instructor will introduce you to the equipment and software to be used in the experiment.\n",
    "    2. Measure the EKG of a person who is at rest. The person whose EKG is being measured should remain calm and relaxed. Record the required interval times.\n",
    "    3. Measure the EKG of a person after mild exercise (have the person exercise for three minutes by jogging in place). Record the required interval times.\n",
    "    4. Let the person whose EKG is being measured drink a couple of cups of strong caffeinated coffee. Record the required interval times.\n",
    "* After the laboratory. The items listed below will be turned in at the beginning of the next laboratory period. A complete laboratory report is not required for this experiment."
   ]
  },
  {
   "cell_type": "markdown",
   "metadata": {},
   "source": [
    "**Para 3. Apparatus and experimental procedures**.\n",
    "1. Provide a figure of the experimental apparatus (para 3b).\n",
    "2. Provide descriptions of the capabilities of equipment used in the experiment (para 3c).\n",
    "\n",
    "**Para 4. Data**. Data tables are included at Annex A for recording measurements taken in the laboratory. A copy of these tables must be included with the lab report. Provide the items listed below in your report in the form a Microsoft ExcelTM spreadsheet showing data. The spreadsheet will include:\n",
    "1. A table of data from the resting experiment.\n",
    "2. A table of data from the EKG after mild exercise experiment.\n",
    "3. A table of data from the EKG with mild stimulants experiment."
   ]
  },
  {
   "cell_type": "markdown",
   "metadata": {},
   "source": [
    "**Results and Conclusions**.\n",
    "* **Results**.\n",
    "    1. A table with the interval times from the resting experiment.\n",
    "    2. A table with the interval times from the mild exercise experiment.\n",
    "    3. A table with the interval times from the mild stimulants experiment.\n",
    "\n",
    "\n",
    "* **Conclusions**.\n",
    "    1. Compare your values from resting experiment to the typical values given above. What could explain the differences?\n",
    "    2. Compare the EKG after mild exercise to the rest EKG.\n",
    "    3. Compare the EKG with mild stimulants to the rest EKG."
   ]
  },
  {
   "cell_type": "markdown",
   "metadata": {
    "collapsed": true
   },
   "source": [
    "___"
   ]
  },
  {
   "cell_type": "markdown",
   "metadata": {},
   "source": [
    "<h3 align='center'> Annex A </h3>\n",
    "<h3 align='center'> Data </h3>"
   ]
  },
  {
   "cell_type": "markdown",
   "metadata": {},
   "source": [
    "1) Resting EKG"
   ]
  },
  {
   "cell_type": "markdown",
   "metadata": {},
   "source": [
    "Interval|Time (milliseconds\n",
    ":-:     |:-:\n",
    "P-R     |\n",
    "QRS     |\n",
    "Q-T     |"
   ]
  },
  {
   "cell_type": "markdown",
   "metadata": {},
   "source": [
    "2) EKG after Mild Exercise."
   ]
  },
  {
   "cell_type": "markdown",
   "metadata": {},
   "source": [
    "Interval|Time (milliseconds\n",
    ":-:     |:-:\n",
    "P-R     |\n",
    "QRS     |\n",
    "Q-T     |"
   ]
  },
  {
   "cell_type": "markdown",
   "metadata": {},
   "source": [
    "3) EKG after Mild Stimulants."
   ]
  },
  {
   "cell_type": "markdown",
   "metadata": {},
   "source": [
    "Interval|Time (milliseconds\n",
    ":-:     |:-:\n",
    "P-R     |\n",
    "QRS     |\n",
    "Q-T     |"
   ]
  },
  {
   "cell_type": "markdown",
   "metadata": {},
   "source": [
    "___\n",
    "___"
   ]
  }
 ],
 "metadata": {
  "kernelspec": {
   "display_name": "Python 3",
   "language": "python",
   "name": "python3"
  },
  "language_info": {
   "codemirror_mode": {
    "name": "ipython",
    "version": 3
   },
   "file_extension": ".py",
   "mimetype": "text/x-python",
   "name": "python",
   "nbconvert_exporter": "python",
   "pygments_lexer": "ipython3",
   "version": "3.4.3"
  }
 },
 "nbformat": 4,
 "nbformat_minor": 0
}
