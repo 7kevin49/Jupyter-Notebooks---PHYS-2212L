{
 "cells": [
  {
   "cell_type": "markdown",
   "metadata": {},
   "source": [
    "# PHYS 2212L - Principles of Physics Laboratory II\n",
    "### Laboratory Advanced Sheet\n",
    "### Double Slit Interference"
   ]
  },
  {
   "cell_type": "markdown",
   "metadata": {
    "collapsed": true
   },
   "source": [
    "**Objectives**. The objective of this laboratory is to verify the double-slit interference relationship."
   ]
  },
  {
   "cell_type": "markdown",
   "metadata": {},
   "source": [
    "**Theory**.\n",
    "* When monochromatic, coherent light is incident upon a double slit, a pattern of constructive and destructive interference is produced. Figure 1 shows the geometry of the double-slit interference experiment.\n",
    "\n",
    "![Figure 1](http://localhost:8888/files/Physics%20Notebooks/Phys%202212%20-%20Handouts/Phys%202212L%20-%20Figures%20and%20Illustrations/Phys%202212L%20-%20Lab%2011%20-%20Double%20Slit%20Interference%20Geometry.png \"Figure 1. Double-slit interference geometry.\")\n",
    "\n",
    "* The double-slit relationship for constructive interference maxima is given by\n",
    "\n",
    ">\\begin{equation}\n",
    "m \\lambda = d sin \\theta\\\\\n",
    "with\\\\  \n",
    "m = 0, 1, 2, 3,...\n",
    "\\end{equation}\n",
    "where\n",
    ">>$m$ is the order of the interference maximum, \n",
    "$\\lambda$ is the wavelength of the light incident on the double slit, \n",
    "$d$ is the spacing between the slits, and \n",
    "$\\theta$ is the angle defined by\n",
    "\n",
    ">$$\\theta = tan^{-1}(y/L)$$\n",
    "\n",
    "The small angle approximation allows\n",
    ">$$sin \\theta = tan \\theta$$\n",
    "\n",
    "Thus, the double-slit relationship can be written as\n",
    ">$$m \\lambda = d y / L$$\n",
    "\n",
    "This relationship can be written in an alternate form for the purposes of this experiment:\n",
    ">$$y = m \\lambda L / d$$\n",
    "\n",
    "* To verify this relationship three experiments will be performed:\n",
    "    1. y as a function of m. The separation distance between the central maximum (m = 0) and other maxima is directly proportional to m, the order of the interference maximum. In this experiment the values of $\\lambda$, L and d will be held constant, while measurements of the separation distance between the central maximum (m = 0) and other maxima are made.\n",
    "    2. y as a function of L. The separation distance between the central maximum (m = 0) and any particular maxima is directly proportional to L, the distance between the double-slit and the interference pattern. In this experiment the values of $\\lambda$, m and d will be held constant, while measurements of the separation distance between the central maximum (m = 0) and another maxima are made as\n",
    "the distance between the double-slits and interference pattern is varied.\n",
    "    3. y as a function of d. The separation distance between the central maximum (m = 0) and any particular maxima is inversely proportional to the spacing between the double slits. In this experiment the values of $\\lambda$, m and L will be held constant, while measurements of the separation distance between the central maximum (m = 0) and another maxima are made as the distance between the double slits is varied."
   ]
  },
  {
   "cell_type": "markdown",
   "metadata": {},
   "source": [
    "**Apparatus and experimental procedures**.\n",
    "* Equipment.\n",
    "    1. Optical bench with metric scale.\n",
    "    2. Set of double slits.\n",
    "    3. Diode laser.\n",
    "    4. Tape measure or meter stick and ruler.\n",
    "    5. Paper.\n",
    "    6. Tape.\n",
    "    7. Light source or flashlight.\n",
    "* Experimental setup. A figure for the experimental setup will be provided by the student.\n",
    "* Capabilities. Capabilities of the equipment items listed in paragraph 3a will be provided by the student.\n",
    "* Procedures. Detailed instructions are provided in paragraph 4 below."
   ]
  },
  {
   "cell_type": "markdown",
   "metadata": {},
   "source": [
    "**Requirements**.\n",
    "* In the laboratory.\n",
    "    1. Your instructor will introduce you to the equipment to be used in the experiment.\n",
    "    2. Align the laser beam on the 0.50 mm double slit and produce an interference pattern on a piece of paper taped to a wall of the lab room at a distance of approximately six (6) meters.\n",
    "    3. Mark the position of the central maximum on the paper and the m = 1 to m = 6 maxima on both sides of the central maximum. Measure the distance between the same numbered maxima on both sides of the central maximum (this distance is 2y for each value of m).\n",
    "    4. Again using the 0.50 mm slit spacing measure the distance between the m = 3 maxima on each side of the central maximum for five different distances between the slits and the interference pattern on the wall (L). Use distances between three and seven meters.\n",
    "    5. Using a fixed value of the distance from the slits to the interference pattern (L) of approximately six meters, measure the distance between the m = 3 maxima on each side of the central maximum for slit widths of 0.125 mm, 0.25 mm and 0.50 mm.\n",
    "    6. Record your data in the tables provided in Annex A.\n",
    "* After the laboratory. The items listed below will be turned in at the beginning of the next laboratory period. A complete laboratory report is not required for this experiment."
   ]
  },
  {
   "cell_type": "markdown",
   "metadata": {},
   "source": [
    "**Para 3. Apparatus and experimental procedures**.\n",
    "1. Provide a figure of the experimental apparatus (para 3b).\n",
    "2. Provide descriptions of the capabilities of equipment used in the experiment (para 3c).\n",
    "\n",
    "**Para 4. Data**. Data tables are included at Annex A for recording measurements taken in the laboratory. A copy of these tables must be included with the lab report. Provide the items listed below in your report in the form a Microsoft ExcelTM spreadsheet showing data and calculations. The spreadsheet will include:\n",
    "1. Experiment 1:\n",
    "     1. A list of the values of the fixed parameters: L and d, and their uncertainties.\n",
    "    2. A table of 2y versus m for m = 1 to m = 6.\n",
    "    3. A graph of y versus m. Include a regression (trend) line on the graph.\n",
    "    4. A linear regression of y versus m.\n",
    "    5. The wavelength of the laser beam and its uncertainty calculated using the slope and its uncertainty from the linear regression.\n",
    "    6. The percent fractional error in the wavelength.\n",
    "    7. The percent discrepancy in the wavelength. Use 675 nm as the accepted value (the diode laser used in this experiment gives a wavelength between 670 - 680 nm).\n",
    "2. Experiment 2:\n",
    "    1. A list of the values of the fixed parameters: m and d, and the uncertainty in d.\n",
    "    2. A table of 2y versus L for five values of L.\n",
    "    3. A graph of y versus L. Include a regression (trend) line on the graph.\n",
    "    4. A linear regression of y versus L.\n",
    "    5. The wavelength of the laser beam and its uncertainty calculated using the slope and its uncertainty from the linear regression.\n",
    "    6. The percent fractional error in the wavelength.\n",
    "    7. The percent discrepancy in the wavelength.\n",
    "3. Experiment 3:\n",
    "    1. A list of the values of the fixed parameters: m and L, and the uncertainty in L.\n",
    "    2. A table of 2y versus d for three values of d.\n",
    "    3. A graph of y versus 1/d. Include a regression (trend) line on the graph.\n",
    "    4. A linear regression of y versus 1/d.\n",
    "    5. The wavelength of the laser beam and its uncertainty calculated using the slope and its uncertainty from the linear regression.\n",
    "    6. The percent fractional error in the wavelength.\n",
    "    7. The percent discrepancy in the wavelength."
   ]
  },
  {
   "cell_type": "markdown",
   "metadata": {},
   "source": [
    "**Results and Conclusions**.\n",
    "* **Results**.\n",
    "    1. Discuss the variation in y as a function of m.\n",
    "    2. Discuss the variation in y as a function of L.\n",
    "    3. Discuss the variation in y as a function of d.\n",
    "    4. Provide a table of your wavelength calculations for the three experiments. Include the wavelength, uncertainty in wavelength, percent fractional error, percent discrepancy and identify the dominant error type for each of the three experiments.\n",
    "\n",
    "\n",
    "* **Conclusions**.\n",
    "    1. Provide a description of the sources of systematic error in the laboratory.\n",
    "    2. Provide a description of the sources of random error in the laboratory."
   ]
  },
  {
   "cell_type": "markdown",
   "metadata": {
    "collapsed": true
   },
   "source": [
    "___"
   ]
  },
  {
   "cell_type": "markdown",
   "metadata": {},
   "source": [
    "<h3 align='center'> Annex A </h3>\n",
    "<h3 align='center'> Data </h3>"
   ]
  },
  {
   "cell_type": "code",
   "execution_count": 1,
   "metadata": {
    "collapsed": true
   },
   "outputs": [],
   "source": [
    "class ListTable(list):\n",
    "    \"\"\" Overridden list class which takes a 2-dimensional list of \n",
    "        the form [[1,2,3],[4,5,6]], and renders an HTML Table in \n",
    "        IPython Notebook. \"\"\"\n",
    "    \n",
    "    def _repr_html_(self):\n",
    "        html = [\"<table>\"]\n",
    "        for row in self:\n",
    "            html.append(\"<tr>\")\n",
    "            \n",
    "            for col in row:\n",
    "                html.append(\"<td>{0}</td>\".format(col))\n",
    "            \n",
    "            html.append(\"</tr>\")\n",
    "        html.append(\"</table>\")\n",
    "        return ''.join(html)"
   ]
  },
  {
   "cell_type": "markdown",
   "metadata": {},
   "source": [
    "#### 1) Experiment 1."
   ]
  },
  {
   "cell_type": "code",
   "execution_count": 5,
   "metadata": {
    "collapsed": false
   },
   "outputs": [
    {
     "ename": "SyntaxError",
     "evalue": "invalid syntax (<ipython-input-5-18fea7b7acf8>, line 1)",
     "output_type": "error",
     "traceback": [
      "\u001b[1;36m  File \u001b[1;32m\"<ipython-input-5-18fea7b7acf8>\"\u001b[1;36m, line \u001b[1;32m1\u001b[0m\n\u001b[1;33m    L = # m\u001b[0m\n\u001b[1;37m           ^\u001b[0m\n\u001b[1;31mSyntaxError\u001b[0m\u001b[1;31m:\u001b[0m invalid syntax\n"
     ]
    }
   ],
   "source": [
    "L = # m\n",
    "err_L = # m\n",
    "d = # mm\n",
    "err_d = # mm"
   ]
  },
  {
   "cell_type": "code",
   "execution_count": 2,
   "metadata": {
    "collapsed": false
   },
   "outputs": [
    {
     "ename": "SyntaxError",
     "evalue": "invalid syntax (<ipython-input-2-7f74d024294e>, line 1)",
     "output_type": "error",
     "traceback": [
      "\u001b[1;36m  File \u001b[1;32m\"<ipython-input-2-7f74d024294e>\"\u001b[1;36m, line \u001b[1;32m1\u001b[0m\n\u001b[1;33m    x_dict = {1:,\u001b[0m\n\u001b[1;37m                ^\u001b[0m\n\u001b[1;31mSyntaxError\u001b[0m\u001b[1;31m:\u001b[0m invalid syntax\n"
     ]
    }
   ],
   "source": [
    "x_dict = {1:,\n",
    "          2:,\n",
    "          3:,\n",
    "          4:,\n",
    "          5:,\n",
    "          6:}\n",
    "\n",
    "table = ListTable()\n",
    "table.append(['m','2y (cm)'])\n",
    "for item in x_dict:\n",
    "    table.append([item,\n",
    "                  x_dict[item]])\n",
    "table"
   ]
  },
  {
   "cell_type": "markdown",
   "metadata": {},
   "source": [
    "#### 2) Experiment 2."
   ]
  },
  {
   "cell_type": "code",
   "execution_count": null,
   "metadata": {
    "collapsed": true
   },
   "outputs": [],
   "source": [
    "m = 3\n",
    "d = # mm\n",
    "err_d = # mm"
   ]
  },
  {
   "cell_type": "code",
   "execution_count": 4,
   "metadata": {
    "collapsed": false
   },
   "outputs": [
    {
     "ename": "SyntaxError",
     "evalue": "invalid syntax (<ipython-input-4-d84785463949>, line 1)",
     "output_type": "error",
     "traceback": [
      "\u001b[1;36m  File \u001b[1;32m\"<ipython-input-4-d84785463949>\"\u001b[1;36m, line \u001b[1;32m1\u001b[0m\n\u001b[1;33m    x_dict = {:,\u001b[0m\n\u001b[1;37m              ^\u001b[0m\n\u001b[1;31mSyntaxError\u001b[0m\u001b[1;31m:\u001b[0m invalid syntax\n"
     ]
    }
   ],
   "source": [
    "x_dict = {:,\n",
    "          :,\n",
    "          :,\n",
    "          :,\n",
    "          :}\n",
    "          \n",
    "table = ListTable()\n",
    "table.append(['L (m)','2y (cm)'])\n",
    "for item in x_dict:\n",
    "    table.append([item,\n",
    "                  x_dict[item]])\n",
    "table"
   ]
  },
  {
   "cell_type": "markdown",
   "metadata": {},
   "source": [
    "#### 3) Experiment 3."
   ]
  },
  {
   "cell_type": "code",
   "execution_count": null,
   "metadata": {
    "collapsed": true
   },
   "outputs": [],
   "source": [
    "m = 3\n",
    "L = # m\n",
    "err_L = # m"
   ]
  },
  {
   "cell_type": "code",
   "execution_count": 3,
   "metadata": {
    "collapsed": false
   },
   "outputs": [
    {
     "ename": "SyntaxError",
     "evalue": "invalid syntax (<ipython-input-3-8eb5b91f3f65>, line 1)",
     "output_type": "error",
     "traceback": [
      "\u001b[1;36m  File \u001b[1;32m\"<ipython-input-3-8eb5b91f3f65>\"\u001b[1;36m, line \u001b[1;32m1\u001b[0m\n\u001b[1;33m    x_dict = {0.125:,\u001b[0m\n\u001b[1;37m                    ^\u001b[0m\n\u001b[1;31mSyntaxError\u001b[0m\u001b[1;31m:\u001b[0m invalid syntax\n"
     ]
    }
   ],
   "source": [
    "x_dict = {0.125:,\n",
    "          0.25:,\n",
    "          0.5:}\n",
    "          \n",
    "table = ListTable()\n",
    "table.append(['d (m)','2y (cm)'])\n",
    "for item in x_dict:\n",
    "    table.append([item,\n",
    "                  x_dict[item]])\n",
    "table"
   ]
  },
  {
   "cell_type": "markdown",
   "metadata": {},
   "source": [
    "___\n",
    "___"
   ]
  }
 ],
 "metadata": {
  "kernelspec": {
   "display_name": "Python 3",
   "language": "python",
   "name": "python3"
  },
  "language_info": {
   "codemirror_mode": {
    "name": "ipython",
    "version": 3
   },
   "file_extension": ".py",
   "mimetype": "text/x-python",
   "name": "python",
   "nbconvert_exporter": "python",
   "pygments_lexer": "ipython3",
   "version": "3.4.3"
  }
 },
 "nbformat": 4,
 "nbformat_minor": 0
}
