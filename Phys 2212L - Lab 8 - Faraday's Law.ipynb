{
 "cells": [
  {
   "cell_type": "markdown",
   "metadata": {},
   "source": [
    "# PHYS 2212L - Principles of Physics Laboratory II\n",
    "### Laboratory Advanced Sheet\n",
    "### Faraday's Law"
   ]
  },
  {
   "cell_type": "markdown",
   "metadata": {
    "collapsed": true
   },
   "source": [
    "**Objectives**. The objectives of this laboratory are\n",
    "* to verify the dependence of the induced emf in a coil on the time rate of change of the magnetic flux through the coil.\n",
    "* to be able to explain the variation in induced emf as a function time produced as a bar magnet passes through a solenoid along its central axis."
   ]
  },
  {
   "cell_type": "markdown",
   "metadata": {},
   "source": [
    "Theory.\n",
    "* Faraday's law states that\n",
    "\n",
    ">$$\\epsilon = - N d \\Phi B / dt$$\n",
    "where\n",
    ">>$\\epsilon$ is the emf induced in a coil of N turns and  \n",
    "$d \\Phi B / dt$ is the derivative of the magnetic flux through the coil with respect to time.\n",
    "\n",
    "* In this experiment a bar magnet will be released from rest and allowed to fall freely along the central axis of a solenoid. While the magnetic field of a bar magnet is a complex function of position, the magnetic flux through the solenoid at any particular position along the central axis will be the same regardless of how fast the magnet is moving. The rate of change of the magnetic flux at a particular position will, however, be larger if the magnet is moving faster. Thus, we would expect the induced emf at a particular position to be directly proportional to the speed of the magnet.\n",
    "\n",
    "* Lenz's law requires that a current be produced in the solenoid to create a magnetic flux that opposes the change in magnetic flux produced by the falling magnet. As a result a magnetic field opposite that of the bar magnet is produced as it approaches the solenoid, and in the same direction as that of the bar magnet as it leaves the solenoid. This means that the falling bar magnet will feel forces other than that due to gravity. However, the weight of the bar magnet is much greater than the magnetic forces, and we will approximate its motion as free fall. Thus, the speed of the center of the bar magnet released from rest as it passes through the center of the solenoid is given by:\n",
    "\n",
    ">$$v = (2gy)^{1/2}$$\n",
    "where\n",
    ">>g is the acceleration due to gravity, 9.80 m/s2, and  \n",
    "y is the distance from the center of the bar magnet to the center of the solenoid at the instant the magnet is released from rest.\n",
    "\n",
    "* The variation of the induced emf as a function of time for a typical trial is shown in Figure 1 below.\n",
    "\n",
    "![Figure 1](http://localhost:8888/files/Physics%20Notebooks/Phys%202212%20-%20Handouts/Phys%202212L%20-%20Figures%20and%20Illustrations/Phys%202212L%20-%20Lab%208%20-%20Figure%201.png \"Figure 1\")\n",
    "\n",
    "\n",
    "The emf as a function of time shows a maximum and a minimum (the student is responsible for explaining the reasons for the variation of emf with time). The variation in emf may also appear as a minimum followed by a maximum, depending on the pole of the magnet which first enters the solenoid and the polarity of the connection used to measure the emf. The\n",
    "midpoints of the bar magnet and the solenoid coincide at the time when the emf is zero between the maximum and minimum. Since the magnet is falling faster after it passes through the center the magnitude of the minimum (in this example) is larger in magnitude than the maximum that came before it.\n",
    "\n",
    "* The average magnetic flux penetrating the solenoid as a function of time can be calculated by\n",
    "\n",
    ">$$\\Phi_{B,i} = - (1/ N) \\Sigma \\epsilon_i \\Delta t$$\n",
    "where\n",
    ">>i is an integer, corresponding to the $i^{th}$ time interval,  \n",
    "$\\Phi_{B,i}$ is the average magnetic flux during the $i^{th}$ time interval,  \n",
    "$\\Sigma i$ is the emf measured during the $i^{th}$ time interval, and    \n",
    "$\\Delta t$ is the time interval between succesive measurements of the emf.\n",
    "\n",
    "* In order to make comparisons of the emf at different speeds of the bar magnet, we will use the average of the magnitudes of the maximum and minimum emf. To test the relationship between emf and rate of change of magnetic flux, a graph of the average of the magnitudes of the maximum and minimum induced emfs versus speed at the midpoint will be constructed. Based on the discussion in this section, the relationship should be linear."
   ]
  },
  {
   "cell_type": "markdown",
   "metadata": {},
   "source": [
    "**Apparatus and experimental procedures**.\n",
    "* Equipment.\n",
    "    1. Bar magnet.\n",
    "    2. Solenoid.\n",
    "    3. Voltage sensor.\n",
    "    4. Computer and computer interface.\n",
    "    5. Leads.\n",
    "    6. Stand and rods.\n",
    "    7. Meter stick.\n",
    "    8. Cardboard box and pads.\n",
    "* Experimental setup. The student will provide a diagram of the experimental set up.\n",
    "* Capabilities. Capabilities of the equipment items listed in paragraph 3a will be provided by the student.\n",
    "* Procedures. Detailed instructions are provided in paragraph 4 below."
   ]
  },
  {
   "cell_type": "markdown",
   "metadata": {},
   "source": [
    "**Requirements**.\n",
    "* In the laboratory.\n",
    "    1. Your instructor will introduce you to the equipment to be used in the experiment.\n",
    "    2. Establish a method to measure the distance from the center of the bar magnet before release to the center of the solenoid.\n",
    "    3. Record this height, orient the magnet with its North pole facing downward towards the solenoid.\n",
    "    4. Drop the magnet along the centerline of the solenoid and record the emf as a function of time. Use a sampling rate of 200 Hz. Use the box and padding provided to catch the bar magnet after it has passed through the solenoid. DO NOT ALLOW THE MAGNET TO STRIKE THE FLOOR.\n",
    "    5. Record the magnitudes of the maximum and minimum (or minimum and maximum, depending on the polarity of the voltage sensor).\n",
    "    6. Repeat three times at each of five heights.\n",
    "    7. Save a data file of the emf versus time for one of your trials.\n",
    "    \n",
    "* After the laboratory. The items listed below will be turned in at the beginning of the next laboratory period. A complete laboratory report is not required for this experiment."
   ]
  },
  {
   "cell_type": "markdown",
   "metadata": {},
   "source": [
    "**Para 2. Theory**. Provide an explanation for the shape of the emf versus time data from your measurements (or Figure 1).\n",
    "\n",
    "**Para 3. Apparatus and experimental procedures**.\n",
    "1. Provide a diagram of the experimental set up (para 3b).\n",
    "2. Provide descriptions of the capabilities of equipment used in the experiment (para 3c).\n",
    "\n",
    "**Para 4. Data**. Data tables are included at Annex A for recording measurements taken in the laboratory. A copy of these tables must be included with the lab report. Provide the items listed below in your report in the form a Microsoft ExcelTM spreadsheet showing data and calculations. The spreadsheet will include:\n",
    "1. The data from the measurements at five heights of drop.\n",
    "2. Calculations of the average of the magnitudes of the maximum and minimum emfs for each trial.\n",
    "3. A graph of average of the magnitudes of maximum and minimum emfs for each trial versus speed of the center of the magnet when the center of the bar magnet and solenoid coincide (you will have fifteen (15) data points for your graph). Include a regression (trend) line.\n",
    "4. A graph of the emf versus time for one trial.\n",
    "5. A graph of the average magnetic flux through the solenoid versus time for one trial.\n",
    "\n",
    "**Para 5. Results and Conclusions**.\n",
    "\n",
    "* **Results**. A statement of the relationship between induced emf and rate of change of magnetic flux as indicated by the variation with speed.\n",
    "\n",
    "\n",
    "* **Conclusions**.\n",
    "    1. Provide descriptions of sources of systematic error in the experiment.\n",
    "    2. Provide descriptions of sources of random error in the experiment."
   ]
  },
  {
   "cell_type": "markdown",
   "metadata": {
    "collapsed": true
   },
   "source": [
    "___"
   ]
  },
  {
   "cell_type": "markdown",
   "metadata": {},
   "source": [
    "<h3 align='center'> Annex A </h3>\n",
    "<h3 align='center'> Data </h3>"
   ]
  },
  {
   "cell_type": "code",
   "execution_count": 1,
   "metadata": {
    "collapsed": true
   },
   "outputs": [],
   "source": [
    "class ListTable(list):\n",
    "    \"\"\" Overridden list class which takes a 2-dimensional list of \n",
    "        the form [[1,2,3],[4,5,6]], and renders an HTML Table in \n",
    "        IPython Notebook. \"\"\"\n",
    "    \n",
    "    def _repr_html_(self):\n",
    "        html = [\"<table>\"]\n",
    "        for row in self:\n",
    "            html.append(\"<tr>\")\n",
    "            \n",
    "            for col in row:\n",
    "                html.append(\"<td>{0}</td>\".format(col))\n",
    "            \n",
    "            html.append(\"</tr>\")\n",
    "        html.append(\"</table>\")\n",
    "        return ''.join(html)"
   ]
  },
  {
   "cell_type": "code",
   "execution_count": 2,
   "metadata": {
    "collapsed": true
   },
   "outputs": [],
   "source": [
    "import collections"
   ]
  },
  {
   "cell_type": "markdown",
   "metadata": {},
   "source": [
    "#### 1) Sampling frequency."
   ]
  },
  {
   "cell_type": "code",
   "execution_count": null,
   "metadata": {
    "collapsed": true
   },
   "outputs": [],
   "source": [
    "sampfreq = # Hz"
   ]
  },
  {
   "cell_type": "markdown",
   "metadata": {},
   "source": [
    "#### 2) Time between emf measurements"
   ]
  },
  {
   "cell_type": "code",
   "execution_count": null,
   "metadata": {
    "collapsed": true
   },
   "outputs": [],
   "source": [
    "tmeas = # s"
   ]
  },
  {
   "cell_type": "markdown",
   "metadata": {},
   "source": [
    "#### 3) Number of turns of wire in solenoid"
   ]
  },
  {
   "cell_type": "code",
   "execution_count": null,
   "metadata": {
    "collapsed": true
   },
   "outputs": [],
   "source": [
    "N = # turns"
   ]
  },
  {
   "cell_type": "markdown",
   "metadata": {},
   "source": [
    "#### 4) Emf measurements."
   ]
  },
  {
   "cell_type": "code",
   "execution_count": 5,
   "metadata": {
    "collapsed": false
   },
   "outputs": [
    {
     "ename": "SyntaxError",
     "evalue": "invalid syntax (<ipython-input-5-62a9b11b154f>, line 3)",
     "output_type": "error",
     "traceback": [
      "\u001b[1;36m  File \u001b[1;32m\"<ipython-input-5-62a9b11b154f>\"\u001b[1;36m, line \u001b[1;32m3\u001b[0m\n\u001b[1;33m    (,((,),(,),(,))),\u001b[0m\n\u001b[1;37m     ^\u001b[0m\n\u001b[1;31mSyntaxError\u001b[0m\u001b[1;31m:\u001b[0m invalid syntax\n"
     ]
    }
   ],
   "source": [
    "emf_tuple = ((13,((1,3),(2,4),(1,3))),\n",
    "             (14,((2,4),(3,5),(2,7))),\n",
    "             (,((,),(,),(,))),\n",
    "             (,((,),(,),(,))),\n",
    "             (,((,),(,),(,))))\n",
    "'''emf_tuple ((height in meters,((emax,emin),(emax,emin),(emax,emin))),...'''\n",
    "\n",
    "emf_OrdDict = collections.OrderedDict(emf_tuple)\n",
    "\n",
    "table = ListTable()\n",
    "table.append(['height (m)','$\\epsilon_{max}$ (V)','$\\epsilon_{min}$ (V)'])\n",
    "for item in emf_OrdDict:\n",
    "    table.append([item,\n",
    "                  emf_OrdDict[item][0][0],\n",
    "                  emf_OrdDict[item][0][1]])\n",
    "    table.append(['',\n",
    "                  emf_OrdDict[item][1][0],\n",
    "                  emf_OrdDict[item][1][1]])\n",
    "    table.append(['',\n",
    "                  emf_OrdDict[item][2][0],\n",
    "                  emf_OrdDict[item][2][1]])\n",
    "\n",
    "table"
   ]
  },
  {
   "cell_type": "markdown",
   "metadata": {},
   "source": [
    "#### 5) Emf versus time data."
   ]
  },
  {
   "cell_type": "code",
   "execution_count": null,
   "metadata": {
    "collapsed": true
   },
   "outputs": [],
   "source": [
    "file name = ''"
   ]
  }
 ],
 "metadata": {
  "kernelspec": {
   "display_name": "Python 3",
   "language": "python",
   "name": "python3"
  },
  "language_info": {
   "codemirror_mode": {
    "name": "ipython",
    "version": 3
   },
   "file_extension": ".py",
   "mimetype": "text/x-python",
   "name": "python",
   "nbconvert_exporter": "python",
   "pygments_lexer": "ipython3",
   "version": "3.4.3"
  }
 },
 "nbformat": 4,
 "nbformat_minor": 0
}
