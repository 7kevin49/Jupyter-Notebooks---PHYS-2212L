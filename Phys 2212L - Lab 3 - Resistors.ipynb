{
 "cells": [
  {
   "cell_type": "markdown",
   "metadata": {},
   "source": [
    "# PHYS 2212L - Principles of Physics Laboratory II\n",
    "### Laboratory Advanced Sheet\n",
    "### Resistors"
   ]
  },
  {
   "cell_type": "markdown",
   "metadata": {
    "collapsed": true
   },
   "source": [
    "**Objectives**. The objectives of this laboratory are\n",
    "1. to verify the linear dependence of resistance upon length of a conductor of uniform diameter, and\n",
    "2. to understand the use of a Wheatstone bridge to measure unknown resistances."
   ]
  },
  {
   "cell_type": "markdown",
   "metadata": {},
   "source": [
    "**Theory**.\n",
    "* The resistance of a conducting wire is given by\n",
    "\n",
    ">\\begin{equation}\\tag{1}\n",
    "R = \\rho \\dfrac{L}{A}\n",
    "\\end{equation}\n",
    ">where\n",
    ">>$R$ is the resistance of the conductor in units of ohms ($\\Omega$),  \n",
    "$\\rho$ is the resistivity of the conducting material in units of ($\\Omega$ m),  \n",
    "$L$ is the length of the conductor in units of m, and  \n",
    "$A$ is the cross-sectional area of the conductor in units of $m_2$.\n",
    "\n",
    "* The Wheatstone bridge consists of three resistors of known resistance, one resistor of unknown resistance, a voltage source and a galvanometer connected in a circuit which allows the resistance of the unknown resistor to be determined. Figure 1 below shows the Wheatstone bridge circuit.  \n",
    "\n",
    "![Wheatstone Apparatus](http://localhost:8888/files/Physics%20Notebooks/Phys%202212%20-%20Handouts/Phys%202212L%20-%20Figures%20and%20Illustrations/Phys%202212L%20-%20Lab%203%20-%20Wheatstone%20Bridge%20Apparatus.png \"Figure 1: Wheatstone Apparatus\")\n",
    "\n",
    "In this experiment (but not in all Wheatstone bridges), resistors, $R_1$ and $R_2$, are provided by a 1.00 m long conducting wire that may be tapped at any point along its length to divide its total resistance into two parts, $R_1$ and $R_2$. Resistor, $R_K$, is the resistor of known resistance; resistor, $R_U$, is the resistor of unknown resistance. The resistances of $R_1$ and $R_2$ are varied until the galvanometer indicates that no current flows across it. In this condition the potential difference across the galvanometer is zero. If current, $I_1$, flows through resistors $R_1$ and $R_2$, and current, $I_2$, flows through resistors $R_K$ and $R_U$, then\n",
    "\n",
    ">\\begin{equation}\n",
    "I_1 R_1 = I_2 R_K\\\\\n",
    "I_1 R_2 = I_2 R_U\n",
    "\\end{equation}\n",
    "\n",
    "Dividing the second of these equations by the first, and solving for $R_U$, yields  \n",
    "\n",
    ">\\begin{equation}\n",
    "R_U = \\dfrac{R_2 R_K}{R_1}\n",
    "\\end{equation}\n",
    "\n",
    "Since $R_1$ and $R_2$ are formed from the same wire conductor, when equation 1 substituted into the last equation, the result is  \n",
    "\n",
    ">\\begin{equation}\\tag{2}\n",
    "R_U = \\dfrac{L_2 R_K}{L_1}\n",
    "\\end{equation}\n",
    ">where\n",
    ">>$L_1$ and $L_2$ are the lengths of the conducting wires forming $R_1$ and $R_2$.\n",
    "\n",
    "* In this experiment the use of equation 2 above depends upon the linear relationship between resistance and length of a conducting wire described in equation 1. Therefore, verification of the linear relationship between resistance and length of a conducting wire of uniform cross-sectional area must precede measurements with the Wheatstone bridge.\n",
    "    1. The first objective of this experiment is to verify that linear relationship. This will be accomplished by placing a constant potential difference across the full length of the wire and measuring the voltage drop across a variety of partial lengths of the wire. Since the current in the wire is constant, the voltage drop across a given portion of the wire is proportional to the resistance of that portion of the wire. Thus, a graph of voltage drop versus wire length should be a straight line.\n",
    "    2. For the second objective, a single known resistance will be used in the Wheatstone bridge apparatus to determine the resistances of a variety of resistors. The actual values of the resistances will be determined using a multimeter and the percent discrepancy in the results will be calculated. A graph of the percent discrepancy versus actual resistance will be used to develop conclusions about the suitability of the Wheatstone bridge method for measuring resistance."
   ]
  },
  {
   "cell_type": "markdown",
   "metadata": {},
   "source": [
    "**Apparatus and experimental procedures**.\n",
    "* Equipment.\n",
    "    1. Wheatstone bridge apparatus.\n",
    "    2. Variety of resistors.\n",
    "    3. Galvanometer\n",
    "    4. Multimeter.\n",
    "    5. Power supply\n",
    "    6. Connecting wires.\n",
    "* Experimental setup. A figure for the experimental setup will be provided by the student.\n",
    "* Capabilities. Capabilities of the equipment items listed in paragraph 3a will be provided by the student.\n",
    "* Procedures. Detailed instructions are provided in paragraph 4 below."
   ]
  },
  {
   "cell_type": "markdown",
   "metadata": {},
   "source": [
    "**Requirements**.\n",
    "* In the laboratory.\n",
    "    1. Your instructor will introduce you to the equipment to be used in the experiment.\n",
    "    2. Measurements to verify the linear relationship between resistance and length of a wire conductor will be made.\n",
    "    3. Measurements of unknown resistances will made using the Wheatstone bridge apparatus and a multimeter.\n",
    "    4. Your instructor will discuss methods to be used to prepare your data for plotting using the Microsoft ExcelTM spreadsheet program.\n",
    "* After the laboratory. The items listed below will be turned in at the beginning of the next laboratory period. A complete laboratory report is not required for this experiment."
   ]
  },
  {
   "cell_type": "markdown",
   "metadata": {},
   "source": [
    "**Para 3. Apparatus and experimental procedures**.\n",
    "1. Provide a figure of the experimental apparatus (para 3b).\n",
    "2. Provide descriptions of the capabilities of equipment used in the experiment (para 3c).\n",
    "\n",
    "**Para 4. Data**. Data tables are included at Annex A for recording measurements taken in the laboratory. A copy of these tables must be included with the lab report. Provide the items listed below in your report in the form a Microsoft ExcelTM spreadsheet showing data, calculations and graphs. The spreadsheet will include:\n",
    "1. A table of data from the linearity measurements.\n",
    "2. The value of the known resistance, $R_K$.\n",
    "3. A table with data from the Wheatstone bridge measurements. The table should include columns for nominal resistance, resistance measured using the multimeter, lengths $L_1$ and $L_2$, the resistance calculated from the Wheatstone bridge measurements, and the percent discrepancy.\n",
    "4. Graphs of\n",
    "     1. Voltage drop versus length of wire conductor that includes a regression line (trend line) and its equation.\n",
    "    2. Percent discrepancy versus actual resistance. Use a linear axis scale for the percent discrepancy and a logarithmic axis scale for the actual resistance."
   ]
  },
  {
   "cell_type": "markdown",
   "metadata": {
    "collapsed": true
   },
   "source": [
    "**Results and Conclusions**.\n",
    "* **Results**.\n",
    "    1. A statement regarding the verification of the linear relationship between resistance and length of a wire conductor.\n",
    "    2. A statement regarding the capabilty of the Wheatstone bridge apparatus to measure resistance when used in the configuration of this experiment.\n",
    "* **Conclusions**.\n",
    "    1. Description of the sources of systematic error in the experiment.\n",
    "    2. Description of the sources of random error in the experiment."
   ]
  },
  {
   "cell_type": "markdown",
   "metadata": {},
   "source": [
    "___"
   ]
  },
  {
   "cell_type": "markdown",
   "metadata": {},
   "source": [
    "<h3 align='center'> Annex A </h3>\n",
    "<h3 align='center'> Data </h3>"
   ]
  },
  {
   "cell_type": "code",
   "execution_count": 1,
   "metadata": {
    "collapsed": true
   },
   "outputs": [],
   "source": [
    "class ListTable(list):\n",
    "    \"\"\" Overridden list class which takes a 2-dimensional list of \n",
    "        the form [[1,2,3],[4,5,6]], and renders an HTML Table in \n",
    "        IPython Notebook. \"\"\"\n",
    "    \n",
    "    def _repr_html_(self):\n",
    "        html = [\"<table>\"]\n",
    "        for row in self:\n",
    "            html.append(\"<tr>\")\n",
    "            \n",
    "            for col in row:\n",
    "                html.append(\"<td>{0}</td>\".format(col))\n",
    "            \n",
    "            html.append(\"</tr>\")\n",
    "        html.append(\"</table>\")\n",
    "        return ''.join(html)"
   ]
  },
  {
   "cell_type": "markdown",
   "metadata": {},
   "source": [
    "#### 1) Linearity measurements."
   ]
  },
  {
   "cell_type": "code",
   "execution_count": null,
   "metadata": {
    "collapsed": true
   },
   "outputs": [],
   "source": [
    "volt_dict = {10:\n",
    "             15:\n",
    "             20:\n",
    "             25:\n",
    "             30:\n",
    "             35:\n",
    "             40:\n",
    "             45:\n",
    "             50:\n",
    "             55:\n",
    "             60:\n",
    "             65:\n",
    "             70:\n",
    "             75:\n",
    "             80:\n",
    "             85:\n",
    "             90:\n",
    "             95:}\n",
    "'''volt_dict = {length (in cm):voltage drop (V),...}'''\n",
    "\n",
    "table = ListTable()\n",
    "table.append(['length (cm)','voltage drop (V)'])\n",
    "table.append([item,\n",
    "              volt_dict[item]])\n",
    "table"
   ]
  },
  {
   "cell_type": "markdown",
   "metadata": {},
   "source": [
    "#### 2) Resistance measurements."
   ]
  },
  {
   "cell_type": "code",
   "execution_count": 3,
   "metadata": {
    "collapsed": false
   },
   "outputs": [],
   "source": [
    "# Known resistance, RK. Use a nominal 3.3 kiloohm resistor.\n",
    "\n",
    "R_k = # kiloohms"
   ]
  },
  {
   "cell_type": "code",
   "execution_count": 7,
   "metadata": {
    "collapsed": false
   },
   "outputs": [
    {
     "ename": "IndexError",
     "evalue": "list index out of range",
     "output_type": "error",
     "traceback": [
      "\u001b[1;31m---------------------------------------------------------------------------\u001b[0m",
      "\u001b[1;31mIndexError\u001b[0m                                Traceback (most recent call last)",
      "\u001b[1;32m<ipython-input-7-db66748db34e>\u001b[0m in \u001b[0;36m<module>\u001b[1;34m()\u001b[0m\n\u001b[0;32m     25\u001b[0m \u001b[1;32mfor\u001b[0m \u001b[0mitem\u001b[0m \u001b[1;32min\u001b[0m \u001b[0mR_nom_OrdDict\u001b[0m\u001b[1;33m:\u001b[0m\u001b[1;33m\u001b[0m\u001b[0m\n\u001b[0;32m     26\u001b[0m     table.append([item,\n\u001b[1;32m---> 27\u001b[1;33m                   \u001b[0mR_nom_OrdDict\u001b[0m\u001b[1;33m[\u001b[0m\u001b[0mitem\u001b[0m\u001b[1;33m]\u001b[0m\u001b[1;33m[\u001b[0m\u001b[1;36m0\u001b[0m\u001b[1;33m]\u001b[0m\u001b[1;33m,\u001b[0m\u001b[1;33m\u001b[0m\u001b[0m\n\u001b[0m\u001b[0;32m     28\u001b[0m                   R_nom_OrdDict[item][1]])\n\u001b[0;32m     29\u001b[0m \u001b[0mtable\u001b[0m\u001b[1;33m\u001b[0m\u001b[0m\n",
      "\u001b[1;31mIndexError\u001b[0m: list index out of range"
     ]
    }
   ],
   "source": [
    "# Wheatstone bridge measurements.\n",
    "\n",
    "import collections\n",
    "\n",
    "R_nom_tuple = ((0.47,[,]),\n",
    "               (0.68,[,]),\n",
    "               (1.0,[,]),\n",
    "               (1.5,[,]),\n",
    "               (2.2,[,]),\n",
    "               (3.3,[,]),\n",
    "               (4.7,[,]),\n",
    "               (6.8,[,]),\n",
    "               (10,[,]),\n",
    "               (15,[,]),\n",
    "               (22,[,]),\n",
    "               (33,[,]),\n",
    "               (47,[,]),)\n",
    "'''R_nom_tuple = ((nominal resistance,[measured resistance,length]),...)'''\n",
    "\n",
    "R_nom_OrdDict = collections.OrderedDict(R_nom_tuple)\n",
    "\n",
    "table = ListTable()\n",
    "table.append(['Resistance nominal (k$\\Omega$)',\n",
    "              'Resistance multimeter (k$\\Omega$)',\n",
    "              'Length $L_1$ (cm)'])\n",
    "for item in R_nom_OrdDict:\n",
    "    table.append([item,\n",
    "                  R_nom_OrdDict[item][0],\n",
    "                  R_nom_OrdDict[item][1]])\n",
    "table"
   ]
  },
  {
   "cell_type": "markdown",
   "metadata": {},
   "source": [
    "___\n",
    "___"
   ]
  }
 ],
 "metadata": {
  "kernelspec": {
   "display_name": "Python 3",
   "language": "python",
   "name": "python3"
  },
  "language_info": {
   "codemirror_mode": {
    "name": "ipython",
    "version": 3
   },
   "file_extension": ".py",
   "mimetype": "text/x-python",
   "name": "python",
   "nbconvert_exporter": "python",
   "pygments_lexer": "ipython3",
   "version": "3.4.3"
  }
 },
 "nbformat": 4,
 "nbformat_minor": 0
}
